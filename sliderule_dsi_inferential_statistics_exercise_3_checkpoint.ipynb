{
  "nbformat": 4,
  "nbformat_minor": 0,
  "metadata": {
    "colab": {
      "name": "sliderule_dsi_inferential_statistics_exercise_3-checkpoint.ipynb",
      "version": "0.3.2",
      "provenance": [],
      "include_colab_link": true
    },
    "language_info": {
      "codemirror_mode": {
        "name": "ipython",
        "version": 2
      },
      "file_extension": ".py",
      "mimetype": "text/x-python",
      "name": "python",
      "nbconvert_exporter": "python",
      "pygments_lexer": "ipython2",
      "version": "2.7.12"
    },
    "kernelspec": {
      "display_name": "Python [default]",
      "language": "python",
      "name": "python2"
    }
  },
  "cells": [
    {
      "cell_type": "markdown",
      "metadata": {
        "id": "view-in-github",
        "colab_type": "text"
      },
      "source": [
        "<a href=\"https://colab.research.google.com/github/Raizel820/Inferential_Statistics/blob/master/sliderule_dsi_inferential_statistics_exercise_3_checkpoint.ipynb\" target=\"_parent\"><img src=\"https://colab.research.google.com/assets/colab-badge.svg\" alt=\"Open In Colab\"/></a>"
      ]
    },
    {
      "cell_type": "markdown",
      "metadata": {
        "id": "I5ZkD3QnNDPc",
        "colab_type": "text"
      },
      "source": [
        "# Hospital Readmissions Data Analysis and Recommendations for Reduction\n",
        "\n",
        "### Background\n",
        "In October 2012, the US government's Center for Medicare and Medicaid Services (CMS) began reducing Medicare payments for Inpatient Prospective Payment System hospitals with excess readmissions. Excess readmissions are measured by a ratio, by dividing a hospital’s number of “predicted” 30-day readmissions for heart attack, heart failure, and pneumonia by the number that would be “expected,” based on an average hospital with similar patients. A ratio greater than 1 indicates excess readmissions.\n",
        "\n",
        "### Exercise Directions\n",
        "\n",
        "In this exercise, you will:\n",
        "+ critique a preliminary analysis of readmissions data and recommendations (provided below) for reducing the readmissions rate\n",
        "+ construct a statistically sound analysis and make recommendations of your own \n",
        "\n",
        "More instructions provided below. Include your work **in this notebook and submit to your Github account**. \n",
        "\n",
        "### Resources\n",
        "+ Data source: https://data.medicare.gov/Hospital-Compare/Hospital-Readmission-Reduction/9n3s-kdb3\n",
        "+ More information: http://www.cms.gov/Medicare/medicare-fee-for-service-payment/acuteinpatientPPS/readmissions-reduction-program.html\n",
        "+ Markdown syntax: http://nestacms.com/docs/creating-content/markdown-cheat-sheet\n",
        "****"
      ]
    },
    {
      "cell_type": "code",
      "metadata": {
        "id": "4DL3ezfpNDPg",
        "colab_type": "code",
        "colab": {}
      },
      "source": [
        "%matplotlib inline\n",
        "\n",
        "import pandas as pd\n",
        "import numpy as np\n",
        "import matplotlib.pyplot as plt\n",
        "import bokeh.plotting as bkp\n",
        "from mpl_toolkits.axes_grid1 import make_axes_locatable"
      ],
      "execution_count": 0,
      "outputs": []
    },
    {
      "cell_type": "code",
      "metadata": {
        "id": "f0eQWZWVNPpo",
        "colab_type": "code",
        "outputId": "9d03c35b-ae2a-4ef1-fd84-3d2d123849e7",
        "colab": {
          "base_uri": "https://localhost:8080/",
          "height": 472
        }
      },
      "source": [
        "%matplotlib inline\n",
        "import pandas as pd\n",
        "\n",
        "import subprocess as sp\n",
        "import sys,os,shutil,pickle,time\n",
        "import numpy as np\n",
        "from os.path import join\n",
        "from matplotlib import pyplot as plt\n",
        "plt.style.use('default')\n",
        "# mount Google Drive\n",
        "from os.path import expanduser\n",
        "gd_path=join(expanduser(\"~\"),'gd')\n",
        "if not os.path.isdir(gd_path):\n",
        "    try:\n",
        "        # load Google Drive\n",
        "        from google.colab import drive,files\n",
        "        drive.mount('/drive')\n",
        "        sp.call('ln -s /drive/My\\ Drive '+gd_path, shell=True)\n",
        "    except:\n",
        "        print('unable to find Google Drive Folder')\n",
        "os.chdir(gd_path+'/MachineLearning')\n",
        "os.listdir('.')"
      ],
      "execution_count": 2,
      "outputs": [
        {
          "output_type": "stream",
          "text": [
            "Go to this URL in a browser: https://accounts.google.com/o/oauth2/auth?client_id=947318989803-6bn6qk8qdgf4n4g3pfee6491hc0brc4i.apps.googleusercontent.com&redirect_uri=urn%3Aietf%3Awg%3Aoauth%3A2.0%3Aoob&scope=email%20https%3A%2F%2Fwww.googleapis.com%2Fauth%2Fdocs.test%20https%3A%2F%2Fwww.googleapis.com%2Fauth%2Fdrive%20https%3A%2F%2Fwww.googleapis.com%2Fauth%2Fdrive.photos.readonly%20https%3A%2F%2Fwww.googleapis.com%2Fauth%2Fpeopleapi.readonly&response_type=code\n",
            "\n",
            "Enter your authorization code:\n",
            "··········\n",
            "Mounted at /drive\n"
          ],
          "name": "stdout"
        },
        {
          "output_type": "execute_result",
          "data": {
            "text/plain": [
              "['cms_hospital_readmissions.csv',\n",
              " 'kick_starter.csv',\n",
              " 'human_body_temperature.csv',\n",
              " 'craigslistVehiclesFull.csv',\n",
              " 'PIACCsubset.csv',\n",
              " 'PIACCsubset.txt',\n",
              " 'PIACCsubset.xlsx',\n",
              " 'Data Sets',\n",
              " 'pycon-pandas-tutorial',\n",
              " 'notebook_001.ipynb',\n",
              " 'PIACCsubset.ipynb',\n",
              " 'data_wrangling_json',\n",
              " 'steam_reviews.csv',\n",
              " 'education.csv',\n",
              " 'pokemon_data.csv',\n",
              " 'filtered.csv',\n",
              " 'modified.csv',\n",
              " 'modified.txt',\n",
              " 'cars_cleaned.csv']"
            ]
          },
          "metadata": {
            "tags": []
          },
          "execution_count": 2
        }
      ]
    },
    {
      "cell_type": "code",
      "metadata": {
        "id": "XGg-e6YINDPr",
        "colab_type": "code",
        "colab": {}
      },
      "source": [
        "# read in readmissions data provided\n",
        "hospital_read_df = pd.read_csv('cms_hospital_readmissions.csv')"
      ],
      "execution_count": 0,
      "outputs": []
    },
    {
      "cell_type": "markdown",
      "metadata": {
        "id": "unbIr1nwNDPx",
        "colab_type": "text"
      },
      "source": [
        "****\n",
        "## Preliminary Analysis"
      ]
    },
    {
      "cell_type": "code",
      "metadata": {
        "id": "B8pyk_ALNDP0",
        "colab_type": "code",
        "colab": {}
      },
      "source": [
        "# deal with missing and inconvenient portions of data \n",
        "clean_hospital_read_df = hospital_read_df[hospital_read_df['Number of Discharges'] != 'Not Available']\n",
        "clean_hospital_read_df.loc[:, 'Number of Discharges'] = clean_hospital_read_df['Number of Discharges'].astype(int)\n",
        "clean_hospital_read_df = clean_hospital_read_df.sort_values('Number of Discharges')"
      ],
      "execution_count": 0,
      "outputs": []
    },
    {
      "cell_type": "code",
      "metadata": {
        "id": "GwPMPz8lNDP6",
        "colab_type": "code",
        "outputId": "7346f42c-8c9e-4411-ba0f-47ffd7b70fee",
        "colab": {
          "base_uri": "https://localhost:8080/",
          "height": 507
        }
      },
      "source": [
        "# generate a scatterplot for number of discharges vs. excess rate of readmissions\n",
        "# lists work better with matplotlib scatterplot function\n",
        "x = [a for a in clean_hospital_read_df['Number of Discharges'][81:-3]]\n",
        "y = list(clean_hospital_read_df['Excess Readmission Ratio'][81:-3])\n",
        "\n",
        "fig, ax = plt.subplots(figsize=(8,5))\n",
        "ax.scatter(x, y,alpha=0.2)\n",
        "\n",
        "ax.fill_between([0,350], 1.15, 2, facecolor='red', alpha = .15, interpolate=True)\n",
        "ax.fill_between([800,2500], .5, .95, facecolor='green', alpha = .15, interpolate=True)\n",
        "\n",
        "ax.set_xlim([0, max(x)])\n",
        "ax.set_xlabel('Number of discharges', fontsize=12)\n",
        "ax.set_ylabel('Excess rate of readmissions', fontsize=12)\n",
        "ax.set_title('Scatterplot of number of discharges vs. excess rate of readmissions', fontsize=14)\n",
        "\n",
        "ax.grid(True)\n",
        "fig.tight_layout()"
      ],
      "execution_count": 5,
      "outputs": [
        {
          "output_type": "display_data",
          "data": {
            "image/png": "[encoded data removed]",
            "text/plain": [
              "<Figure size 800x500 with 1 Axes>"
            ]
          },
          "metadata": {
            "tags": []
          }
        }
      ]
    },
    {
      "cell_type": "markdown",
      "metadata": {
        "id": "bwoNmt-ONDP_",
        "colab_type": "text"
      },
      "source": [
        "****\n",
        "\n",
        "## Preliminary Report\n",
        "\n",
        "Read the following results/report. While you are reading it, think about if the conclusions are correct, incorrect, misleading or unfounded. Think about what you would change or what additional analyses you would perform.\n",
        "\n",
        "**A. Initial observations based on the plot above**\n",
        "+ Overall, rate of readmissions is trending down with increasing number of discharges\n",
        "+ With lower number of discharges, there is a greater incidence of excess rate of readmissions (area shaded red)\n",
        "+ With higher number of discharges, there is a greater incidence of lower rates of readmissions (area shaded green) \n",
        "\n",
        "**B. Statistics**\n",
        "+ In hospitals/facilities with number of discharges < 100, mean excess readmission rate is 1.023 and 63% have excess readmission rate greater than 1 \n",
        "+ In hospitals/facilities with number of discharges > 1000, mean excess readmission rate is 0.978 and 44% have excess readmission rate greater than 1 \n",
        "\n",
        "**C. Conclusions**\n",
        "+ There is a significant correlation between hospital capacity (number of discharges) and readmission rates. \n",
        "+ Smaller hospitals/facilities may be lacking necessary resources to ensure quality care and prevent complications that lead to readmissions.\n",
        "\n",
        "**D. Regulatory policy recommendations**\n",
        "+ Hospitals/facilties with small capacity (< 300) should be required to demonstrate upgraded resource allocation for quality care to continue operation.\n",
        "+ Directives and incentives should be provided for consolidation of hospitals and facilities to have a smaller number of them with higher capacity and number of discharges."
      ]
    },
    {
      "cell_type": "markdown",
      "metadata": {
        "id": "rxvg6bxcNDQA",
        "colab_type": "text"
      },
      "source": [
        "****\n",
        "<div class=\"span5 alert alert-info\">\n",
        "### Exercise\n",
        "\n",
        "Include your work on the following **in this notebook and submit to your Github account**. \n",
        "\n",
        "A. Do you agree with the above analysis and recommendations? Why or why not?\n",
        "   \n",
        "B. Provide support for your arguments and your own recommendations with a statistically sound analysis:\n",
        "\n",
        "   1. Setup an appropriate hypothesis test.\n",
        "   2. Compute and report the observed significance value (or p-value).\n",
        "   3. Report statistical significance for $\\alpha$ = .01. \n",
        "   4. Discuss statistical significance and practical significance. Do they differ here? How does this change your recommendation to the client?\n",
        "   5. Look at the scatterplot above. \n",
        "      - What are the advantages and disadvantages of using this plot to convey information?\n",
        "      - Construct another plot that conveys the same information in a more direct manner.\n",
        "\n",
        "\n",
        "\n",
        "You can compose in notebook cells using Markdown: \n",
        "+ In the control panel at the top, choose Cell > Cell Type > Markdown\n",
        "+ Markdown syntax: http://nestacms.com/docs/creating-content/markdown-cheat-sheet\n",
        "</div>\n",
        "****"
      ]
    },
    {
      "cell_type": "code",
      "metadata": {
        "id": "gjlRs5lVNDQD",
        "colab_type": "code",
        "colab": {}
      },
      "source": [
        "df= hospital_read_df\n",
        "df.reset_index(drop=True, inplace=True)"
      ],
      "execution_count": 0,
      "outputs": []
    },
    {
      "cell_type": "code",
      "metadata": {
        "id": "t2tS1W3NNDQI",
        "colab_type": "code",
        "outputId": "9e448cb6-5a76-4fd7-9252-3d54de766c83",
        "colab": {
          "base_uri": "https://localhost:8080/",
          "height": 300
        }
      },
      "source": [
        "df.describe()"
      ],
      "execution_count": 0,
      "outputs": [
        {
          "output_type": "execute_result",
          "data": {
            "text/html": [
              "<div>\n",
              "<style scoped>\n",
              "    .dataframe tbody tr th:only-of-type {\n",
              "        vertical-align: middle;\n",
              "    }\n",
              "\n",
              "    .dataframe tbody tr th {\n",
              "        vertical-align: top;\n",
              "    }\n",
              "\n",
              "    .dataframe thead th {\n",
              "        text-align: right;\n",
              "    }\n",
              "</style>\n",
              "<table border=\"1\" class=\"dataframe\">\n",
              "  <thead>\n",
              "    <tr style=\"text-align: right;\">\n",
              "      <th></th>\n",
              "      <th>Provider Number</th>\n",
              "      <th>Footnote</th>\n",
              "      <th>Excess Readmission Ratio</th>\n",
              "      <th>Predicted Readmission Rate</th>\n",
              "      <th>Expected Readmission Rate</th>\n",
              "      <th>Number of Readmissions</th>\n",
              "    </tr>\n",
              "  </thead>\n",
              "  <tbody>\n",
              "    <tr>\n",
              "      <th>count</th>\n",
              "      <td>16860.000000</td>\n",
              "      <td>3129.000000</td>\n",
              "      <td>13731.000000</td>\n",
              "      <td>13731.000000</td>\n",
              "      <td>13731.000000</td>\n",
              "      <td>11497.000000</td>\n",
              "    </tr>\n",
              "    <tr>\n",
              "      <th>mean</th>\n",
              "      <td>263516.943654</td>\n",
              "      <td>2.905401</td>\n",
              "      <td>1.002582</td>\n",
              "      <td>16.916532</td>\n",
              "      <td>16.866135</td>\n",
              "      <td>63.633731</td>\n",
              "    </tr>\n",
              "    <tr>\n",
              "      <th>std</th>\n",
              "      <td>160146.191702</td>\n",
              "      <td>2.074384</td>\n",
              "      <td>0.091088</td>\n",
              "      <td>6.197542</td>\n",
              "      <td>5.989652</td>\n",
              "      <td>59.540296</td>\n",
              "    </tr>\n",
              "    <tr>\n",
              "      <th>min</th>\n",
              "      <td>10001.000000</td>\n",
              "      <td>1.000000</td>\n",
              "      <td>0.549500</td>\n",
              "      <td>2.700000</td>\n",
              "      <td>2.900000</td>\n",
              "      <td>11.000000</td>\n",
              "    </tr>\n",
              "    <tr>\n",
              "      <th>25%</th>\n",
              "      <td>110181.500000</td>\n",
              "      <td>1.000000</td>\n",
              "      <td>0.949500</td>\n",
              "      <td>15.200000</td>\n",
              "      <td>15.800000</td>\n",
              "      <td>24.000000</td>\n",
              "    </tr>\n",
              "    <tr>\n",
              "      <th>50%</th>\n",
              "      <td>250157.000000</td>\n",
              "      <td>1.000000</td>\n",
              "      <td>0.997100</td>\n",
              "      <td>18.500000</td>\n",
              "      <td>18.500000</td>\n",
              "      <td>45.000000</td>\n",
              "    </tr>\n",
              "    <tr>\n",
              "      <th>75%</th>\n",
              "      <td>390138.250000</td>\n",
              "      <td>5.000000</td>\n",
              "      <td>1.052350</td>\n",
              "      <td>21.100000</td>\n",
              "      <td>21.100000</td>\n",
              "      <td>82.000000</td>\n",
              "    </tr>\n",
              "    <tr>\n",
              "      <th>max</th>\n",
              "      <td>670091.000000</td>\n",
              "      <td>7.000000</td>\n",
              "      <td>1.909500</td>\n",
              "      <td>32.800000</td>\n",
              "      <td>29.400000</td>\n",
              "      <td>879.000000</td>\n",
              "    </tr>\n",
              "  </tbody>\n",
              "</table>\n",
              "</div>"
            ],
            "text/plain": [
              "       Provider Number  ...  Number of Readmissions\n",
              "count     16860.000000  ...            11497.000000\n",
              "mean     263516.943654  ...               63.633731\n",
              "std      160146.191702  ...               59.540296\n",
              "min       10001.000000  ...               11.000000\n",
              "25%      110181.500000  ...               24.000000\n",
              "50%      250157.000000  ...               45.000000\n",
              "75%      390138.250000  ...               82.000000\n",
              "max      670091.000000  ...              879.000000\n",
              "\n",
              "[8 rows x 6 columns]"
            ]
          },
          "metadata": {
            "tags": []
          },
          "execution_count": 11
        }
      ]
    },
    {
      "cell_type": "markdown",
      "metadata": {
        "id": "d0N9G3bapqpK",
        "colab_type": "text"
      },
      "source": [
        "## 1-) Setup an appropriate hypothesis test.\n",
        "Null hypothesis: There is no relation between  rate of readmissions and the number of discharges\n",
        "\n",
        "Alternative hphotesis: There is a significant relation between rate of readmissions and  the number of discharges"
      ]
    },
    {
      "cell_type": "markdown",
      "metadata": {
        "id": "RqXKZOa6qgM3",
        "colab_type": "text"
      },
      "source": [
        "## Compute and report the observed significance value (or p-value).\n"
      ]
    },
    {
      "cell_type": "code",
      "metadata": {
        "id": "t78cdq4jJUOs",
        "colab_type": "code",
        "colab": {
          "base_uri": "https://localhost:8080/",
          "height": 35
        },
        "outputId": "41ef0d66-e934-469b-a45e-81189d245eaa"
      },
      "source": [
        "len(df)"
      ],
      "execution_count": 91,
      "outputs": [
        {
          "output_type": "execute_result",
          "data": {
            "text/plain": [
              "11497"
            ]
          },
          "metadata": {
            "tags": []
          },
          "execution_count": 91
        }
      ]
    },
    {
      "cell_type": "code",
      "metadata": {
        "id": "IzQ0f4h1QqVM",
        "colab_type": "code",
        "outputId": "0919728e-9272-4757-eb3c-d5cef3062642",
        "colab": {
          "base_uri": "https://localhost:8080/",
          "height": 432
        }
      },
      "source": [
        "df.head()"
      ],
      "execution_count": 0,
      "outputs": [
        {
          "output_type": "execute_result",
          "data": {
            "text/html": [
              "<div>\n",
              "<style scoped>\n",
              "    .dataframe tbody tr th:only-of-type {\n",
              "        vertical-align: middle;\n",
              "    }\n",
              "\n",
              "    .dataframe tbody tr th {\n",
              "        vertical-align: top;\n",
              "    }\n",
              "\n",
              "    .dataframe thead th {\n",
              "        text-align: right;\n",
              "    }\n",
              "</style>\n",
              "<table border=\"1\" class=\"dataframe\">\n",
              "  <thead>\n",
              "    <tr style=\"text-align: right;\">\n",
              "      <th></th>\n",
              "      <th>Hospital Name</th>\n",
              "      <th>Provider Number</th>\n",
              "      <th>State</th>\n",
              "      <th>Measure Name</th>\n",
              "      <th>Number of Discharges</th>\n",
              "      <th>Footnote</th>\n",
              "      <th>Excess Readmission Ratio</th>\n",
              "      <th>Predicted Readmission Rate</th>\n",
              "      <th>Expected Readmission Rate</th>\n",
              "      <th>Number of Readmissions</th>\n",
              "      <th>Start Date</th>\n",
              "      <th>End Date</th>\n",
              "    </tr>\n",
              "  </thead>\n",
              "  <tbody>\n",
              "    <tr>\n",
              "      <th>0</th>\n",
              "      <td>FROEDTERT MEMORIAL LUTHERAN HOSPITAL</td>\n",
              "      <td>520177</td>\n",
              "      <td>WI</td>\n",
              "      <td>READM-30-HIP-KNEE-HRRP</td>\n",
              "      <td>242</td>\n",
              "      <td>NaN</td>\n",
              "      <td>1.9095</td>\n",
              "      <td>10.8</td>\n",
              "      <td>5.6</td>\n",
              "      <td>38.0</td>\n",
              "      <td>07/01/2010</td>\n",
              "      <td>06/30/2013</td>\n",
              "    </tr>\n",
              "    <tr>\n",
              "      <th>1</th>\n",
              "      <td>PROVIDENCE HOSPITAL</td>\n",
              "      <td>90006</td>\n",
              "      <td>DC</td>\n",
              "      <td>READM-30-HIP-KNEE-HRRP</td>\n",
              "      <td>247</td>\n",
              "      <td>NaN</td>\n",
              "      <td>1.7521</td>\n",
              "      <td>9.2</td>\n",
              "      <td>5.3</td>\n",
              "      <td>33.0</td>\n",
              "      <td>07/01/2010</td>\n",
              "      <td>06/30/2013</td>\n",
              "    </tr>\n",
              "    <tr>\n",
              "      <th>2</th>\n",
              "      <td>BEAUFORT COUNTY MEMORIAL HOSPITAL</td>\n",
              "      <td>420067</td>\n",
              "      <td>SC</td>\n",
              "      <td>READM-30-HIP-KNEE-HRRP</td>\n",
              "      <td>586</td>\n",
              "      <td>NaN</td>\n",
              "      <td>1.5836</td>\n",
              "      <td>7.6</td>\n",
              "      <td>4.8</td>\n",
              "      <td>53.0</td>\n",
              "      <td>07/01/2010</td>\n",
              "      <td>06/30/2013</td>\n",
              "    </tr>\n",
              "    <tr>\n",
              "      <th>3</th>\n",
              "      <td>ADVOCATE CHRIST HOSPITAL &amp; MEDICAL CENTER</td>\n",
              "      <td>140208</td>\n",
              "      <td>IL</td>\n",
              "      <td>READM-30-HIP-KNEE-HRRP</td>\n",
              "      <td>965</td>\n",
              "      <td>NaN</td>\n",
              "      <td>1.5760</td>\n",
              "      <td>9.0</td>\n",
              "      <td>5.7</td>\n",
              "      <td>95.0</td>\n",
              "      <td>07/01/2010</td>\n",
              "      <td>06/30/2013</td>\n",
              "    </tr>\n",
              "    <tr>\n",
              "      <th>4</th>\n",
              "      <td>BRAZOSPORT REGIONAL HEALTH SYSTEM</td>\n",
              "      <td>450072</td>\n",
              "      <td>TX</td>\n",
              "      <td>READM-30-HIP-KNEE-HRRP</td>\n",
              "      <td>149</td>\n",
              "      <td>NaN</td>\n",
              "      <td>1.5308</td>\n",
              "      <td>8.2</td>\n",
              "      <td>5.4</td>\n",
              "      <td>20.0</td>\n",
              "      <td>07/01/2010</td>\n",
              "      <td>06/30/2013</td>\n",
              "    </tr>\n",
              "  </tbody>\n",
              "</table>\n",
              "</div>"
            ],
            "text/plain": [
              "                               Hospital Name  ...    End Date\n",
              "0       FROEDTERT MEMORIAL LUTHERAN HOSPITAL  ...  06/30/2013\n",
              "1                        PROVIDENCE HOSPITAL  ...  06/30/2013\n",
              "2          BEAUFORT COUNTY MEMORIAL HOSPITAL  ...  06/30/2013\n",
              "3  ADVOCATE CHRIST HOSPITAL & MEDICAL CENTER  ...  06/30/2013\n",
              "4          BRAZOSPORT REGIONAL HEALTH SYSTEM  ...  06/30/2013\n",
              "\n",
              "[5 rows x 12 columns]"
            ]
          },
          "metadata": {
            "tags": []
          },
          "execution_count": 14
        }
      ]
    },
    {
      "cell_type": "code",
      "metadata": {
        "id": "Mlp6fvt4JYpk",
        "colab_type": "code",
        "colab": {}
      },
      "source": [
        "df.new= df.dropna(subset=['Number of Discharges'])"
      ],
      "execution_count": 0,
      "outputs": []
    },
    {
      "cell_type": "code",
      "metadata": {
        "id": "-48BQ1K0Kj1a",
        "colab_type": "code",
        "colab": {
          "base_uri": "https://localhost:8080/",
          "height": 73
        },
        "outputId": "c81bfffe-cf5c-4375-eaf8-e4c206d9a15a"
      },
      "source": [
        "df.new2= df.new.dropna(subset=['Number of Readmissions'])"
      ],
      "execution_count": 47,
      "outputs": [
        {
          "output_type": "stream",
          "text": [
            "/usr/local/lib/python2.7/dist-packages/ipykernel_launcher.py:1: UserWarning: Pandas doesn't allow columns to be created via a new attribute name - see https://pandas.pydata.org/pandas-docs/stable/indexing.html#attribute-access\n",
            "  \"\"\"Entry point for launching an IPython kernel.\n"
          ],
          "name": "stderr"
        }
      ]
    },
    {
      "cell_type": "code",
      "metadata": {
        "id": "eJAHv1zcJdPz",
        "colab_type": "code",
        "colab": {
          "base_uri": "https://localhost:8080/",
          "height": 35
        },
        "outputId": "026b603c-b91f-4eae-afe8-1ddf8641915e"
      },
      "source": [
        "len(df.new2)"
      ],
      "execution_count": 48,
      "outputs": [
        {
          "output_type": "execute_result",
          "data": {
            "text/plain": [
              "11497"
            ]
          },
          "metadata": {
            "tags": []
          },
          "execution_count": 48
        }
      ]
    },
    {
      "cell_type": "code",
      "metadata": {
        "id": "Ug8qhmgKK9Gz",
        "colab_type": "code",
        "colab": {}
      },
      "source": [
        "df= df.new2"
      ],
      "execution_count": 0,
      "outputs": []
    },
    {
      "cell_type": "code",
      "metadata": {
        "id": "_D9u1885LC7B",
        "colab_type": "code",
        "colab": {
          "base_uri": "https://localhost:8080/",
          "height": 35
        },
        "outputId": "ca5ba433-dfe9-4f29-b56f-29da54f9275d"
      },
      "source": [
        "len(df)"
      ],
      "execution_count": 53,
      "outputs": [
        {
          "output_type": "execute_result",
          "data": {
            "text/plain": [
              "11497"
            ]
          },
          "metadata": {
            "tags": []
          },
          "execution_count": 53
        }
      ]
    },
    {
      "cell_type": "code",
      "metadata": {
        "id": "uHGdkmXgZHsA",
        "colab_type": "code",
        "outputId": "49c32a0e-954b-400c-aff9-0419eeec2f69",
        "colab": {
          "base_uri": "https://localhost:8080/",
          "height": 235
        }
      },
      "source": [
        "sorted(df)"
      ],
      "execution_count": 50,
      "outputs": [
        {
          "output_type": "execute_result",
          "data": {
            "text/plain": [
              "['End Date',\n",
              " 'Excess Readmission Ratio',\n",
              " 'Expected Readmission Rate',\n",
              " 'Footnote',\n",
              " 'Hospital Name',\n",
              " 'Measure Name',\n",
              " 'Number of Discharges',\n",
              " 'Number of Readmissions',\n",
              " 'Predicted Readmission Rate',\n",
              " 'Provider Number',\n",
              " 'Start Date',\n",
              " 'State']"
            ]
          },
          "metadata": {
            "tags": []
          },
          "execution_count": 50
        }
      ]
    },
    {
      "cell_type": "code",
      "metadata": {
        "id": "uGfoCBoaXWdd",
        "colab_type": "code",
        "outputId": "dca4ba63-3416-4407-f2da-cd50c520a7c8",
        "colab": {
          "base_uri": "https://localhost:8080/",
          "height": 172
        }
      },
      "source": [
        "df['Number of Discharges'].sample(10)"
      ],
      "execution_count": 1,
      "outputs": [
        {
          "output_type": "error",
          "ename": "NameError",
          "evalue": "ignored",
          "traceback": [
            "\u001b[0;31m\u001b[0m",
            "\u001b[0;31mNameError\u001b[0mTraceback (most recent call last)",
            "\u001b[0;32m<ipython-input-1-00ce6901a13c>\u001b[0m in \u001b[0;36m<module>\u001b[0;34m()\u001b[0m\n\u001b[0;32m----> 1\u001b[0;31m \u001b[0mdf\u001b[0m\u001b[0;34m[\u001b[0m\u001b[0;34m'Number of Discharges'\u001b[0m\u001b[0;34m]\u001b[0m\u001b[0;34m.\u001b[0m\u001b[0msample\u001b[0m\u001b[0;34m(\u001b[0m\u001b[0;36m10\u001b[0m\u001b[0;34m)\u001b[0m\u001b[0;34m\u001b[0m\u001b[0m\n\u001b[0m",
            "\u001b[0;31mNameError\u001b[0m: name 'df' is not defined"
          ]
        }
      ]
    },
    {
      "cell_type": "code",
      "metadata": {
        "id": "LKp21ASGSm_C",
        "colab_type": "code",
        "colab": {
          "base_uri": "https://localhost:8080/",
          "height": 253
        },
        "outputId": "73713604-9997-4da9-d567-4757a24550f9"
      },
      "source": [
        "df.dtypes"
      ],
      "execution_count": 84,
      "outputs": [
        {
          "output_type": "execute_result",
          "data": {
            "text/plain": [
              "Hospital Name                  object\n",
              "Provider Number                 int64\n",
              "State                          object\n",
              "Measure Name                   object\n",
              "Number of Discharges          float64\n",
              "Footnote                      float64\n",
              "Excess Readmission Ratio      float64\n",
              "Predicted Readmission Rate    float64\n",
              "Expected Readmission Rate     float64\n",
              "Number of Readmissions        float64\n",
              "Start Date                     object\n",
              "End Date                       object\n",
              "dtype: object"
            ]
          },
          "metadata": {
            "tags": []
          },
          "execution_count": 84
        }
      ]
    },
    {
      "cell_type": "code",
      "metadata": {
        "id": "kcPNOrm1StIP",
        "colab_type": "code",
        "colab": {
          "base_uri": "https://localhost:8080/",
          "height": 126
        },
        "outputId": "acc01755-826e-43d9-c7f3-a47d86b3d528"
      },
      "source": [
        "df[\"Number of Discharges\"] = pd.to_numeric(df[\"Number of Discharges\"])"
      ],
      "execution_count": 85,
      "outputs": [
        {
          "output_type": "stream",
          "text": [
            "/usr/local/lib/python2.7/dist-packages/ipykernel_launcher.py:1: SettingWithCopyWarning: \n",
            "A value is trying to be set on a copy of a slice from a DataFrame.\n",
            "Try using .loc[row_indexer,col_indexer] = value instead\n",
            "\n",
            "See the caveats in the documentation: http://pandas.pydata.org/pandas-docs/stable/indexing.html#indexing-view-versus-copy\n",
            "  \"\"\"Entry point for launching an IPython kernel.\n"
          ],
          "name": "stderr"
        }
      ]
    },
    {
      "cell_type": "code",
      "metadata": {
        "id": "gI9HJDJ0YRJu",
        "colab_type": "code",
        "outputId": "91ed8685-807b-4ceb-ec77-f8e9170bf9b3",
        "colab": {
          "base_uri": "https://localhost:8080/",
          "height": 53
        }
      },
      "source": [
        "np.corrcoef(df['Number of Discharges'], df['Number of Readmissions'])"
      ],
      "execution_count": 81,
      "outputs": [
        {
          "output_type": "execute_result",
          "data": {
            "text/plain": [
              "array([[1.        , 0.79127241],\n",
              "       [0.79127241, 1.        ]])"
            ]
          },
          "metadata": {
            "tags": []
          },
          "execution_count": 81
        }
      ]
    },
    {
      "cell_type": "code",
      "metadata": {
        "id": "7KsRha5jIJzt",
        "colab_type": "code",
        "colab": {
          "base_uri": "https://localhost:8080/",
          "height": 35
        },
        "outputId": "0b171978-dafb-4581-a3d6-78fd7fdac696"
      },
      "source": [
        "import scipy.stats as stats\n",
        "stats.ttest_ind(df['Number of Discharges'],df['Number of Readmissions'])\n"
      ],
      "execution_count": 79,
      "outputs": [
        {
          "output_type": "execute_result",
          "data": {
            "text/plain": [
              "Ttest_indResult(statistic=102.92389385973914, pvalue=0.0)"
            ]
          },
          "metadata": {
            "tags": []
          },
          "execution_count": 79
        }
      ]
    },
    {
      "cell_type": "code",
      "metadata": {
        "id": "QgJ-i2uAVRvW",
        "colab_type": "code",
        "colab": {}
      },
      "source": [
        "help(stats.ttest_ind) "
      ],
      "execution_count": 0,
      "outputs": []
    },
    {
      "cell_type": "markdown",
      "metadata": {
        "id": "V_yIxr9cqoRt",
        "colab_type": "text"
      },
      "source": [
        "## 3) Report statistical significance for α = .01. \n",
        "\n",
        "According to the results, p value is 0.0. This indicates that for α = .01, the relation is still significant. Therefore, we reject the null hypothesis."
      ]
    },
    {
      "cell_type": "markdown",
      "metadata": {
        "id": "MGBHKaKyrJcS",
        "colab_type": "text"
      },
      "source": [
        "## 4) Discuss statistical significance and practical significance. Do they differ here? How does this change your recommendation to the client?\n",
        "\n",
        "In this case, statisticalt significance makes sense practically, too, because when number of discharges (hospital capacity) increases, hospitals can host patients for longer time instead of discharging from hospital. When hospital capacity is low, we can expect that hospital will try to discharge patiants as soon as possible and get new patiences. This means healing process may not completed for patients. Thefore, there can be higher rate of need for readmission."
      ]
    },
    {
      "cell_type": "code",
      "metadata": {
        "id": "uo6z0M-AtQWR",
        "colab_type": "code",
        "colab": {}
      },
      "source": [
        ""
      ],
      "execution_count": 0,
      "outputs": []
    },
    {
      "cell_type": "markdown",
      "metadata": {
        "id": "2XrzFy141kHb",
        "colab_type": "text"
      },
      "source": [
        "## 5) Look at the scatterplot above.\n",
        "\n",
        "* What are the advantages and disadvantages of using this plot to convey information?\n",
        "* Construct another plot that conveys the same information in a more direct manner.\n",
        "\n",
        "\n"
      ]
    },
    {
      "cell_type": "markdown",
      "metadata": {
        "id": "kGDIQWR112BP",
        "colab_type": "text"
      },
      "source": [
        "The plot given at the top is informative but not easy to understand. It requires multiple congnitive steps to understand. On the other hand, the color choices, rectangular areas are good representation of the significant zones."
      ]
    },
    {
      "cell_type": "code",
      "metadata": {
        "id": "ITUTRe4d2UBr",
        "colab_type": "code",
        "colab": {}
      },
      "source": [
        ""
      ],
      "execution_count": 0,
      "outputs": []
    }
  ]
}