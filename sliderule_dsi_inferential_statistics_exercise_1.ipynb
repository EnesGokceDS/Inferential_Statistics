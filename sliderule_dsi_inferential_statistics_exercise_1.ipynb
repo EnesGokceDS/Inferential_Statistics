{
  "nbformat": 4,
  "nbformat_minor": 0,
  "metadata": {
    "colab": {
      "name": "sliderule_dsi_inferential_statistics_exercise_1.ipynb",
      "version": "0.3.2",
      "provenance": [],
      "include_colab_link": true
    },
    "language_info": {
      "codemirror_mode": {
        "name": "ipython",
        "version": 3
      },
      "file_extension": ".py",
      "mimetype": "text/x-python",
      "name": "python",
      "nbconvert_exporter": "python",
      "pygments_lexer": "ipython3",
      "version": "3.6.4"
    },
    "kernelspec": {
      "display_name": "Python 3",
      "language": "python",
      "name": "python3"
    }
  },
  "cells": [
    {
      "cell_type": "markdown",
      "metadata": {
        "id": "view-in-github",
        "colab_type": "text"
      },
      "source": [
        "<a href=\"https://colab.research.google.com/github/Raizel820/Inferential_Statistics/blob/master/sliderule_dsi_inferential_statistics_exercise_1.ipynb\" target=\"_parent\"><img src=\"https://colab.research.google.com/assets/colab-badge.svg\" alt=\"Open In Colab\"/></a>"
      ]
    },
    {
      "cell_type": "markdown",
      "metadata": {
        "id": "LGYAT3olVJvQ",
        "colab_type": "text"
      },
      "source": [
        "# What is the True Normal Human Body Temperature? \n",
        "\n",
        "#### Background\n",
        "\n",
        "The mean normal body temperature was held to be 37$^{\\circ}$C or 98.6$^{\\circ}$F for more than 120 years since it was first conceptualized and reported by Carl Wunderlich in a famous 1868 book. But, is this value statistically correct?"
      ]
    },
    {
      "cell_type": "markdown",
      "metadata": {
        "id": "hbF9K_7BVJvW",
        "colab_type": "text"
      },
      "source": [
        "<h3>Exercises</h3>\n",
        "\n",
        "<p>In this exercise, you will analyze a dataset of human body temperatures and employ the concepts of hypothesis testing, confidence intervals, and statistical significance.</p>\n",
        "\n",
        "<p>Answer the following questions <b>in this notebook below and submit to your Github account</b>.</p> \n",
        "\n",
        "<ol>\n",
        "<li>  Is the distribution of body temperatures normal? \n",
        "    <ul>\n",
        "    <li> Although this is not a requirement for the Central Limit Theorem to hold (read the introduction on Wikipedia's page about the CLT carefully: https://en.wikipedia.org/wiki/Central_limit_theorem), it gives us some peace of mind that the population may also be normally distributed if we assume that this sample is representative of the population.\n",
        "    <li> Think about the way you're going to check for the normality of the distribution. Graphical methods are usually used first, but there are also other ways: https://en.wikipedia.org/wiki/Normality_test\n",
        "    </ul>\n",
        "<li>  Is the sample size large? Are the observations independent?\n",
        "    <ul>\n",
        "    <li> Remember that this is a condition for the Central Limit Theorem, and hence the statistical tests we are using, to apply.\n",
        "    </ul>\n",
        "<li>  Is the true population mean really 98.6 degrees F?\n",
        "    <ul>\n",
        "    <li> First, try a bootstrap hypothesis test.\n",
        "    <li> Now, let's try frequentist statistical testing. Would you use a one-sample or two-sample test? Why?\n",
        "    <li> In this situation, is it appropriate to use the $t$ or $z$ statistic? \n",
        "    <li> Now try using the other test. How is the result be different? Why?\n",
        "    </ul>\n",
        "<li>  Draw a small sample of size 10 from the data and repeat both frequentist tests. \n",
        "    <ul>\n",
        "    <li> Which one is the correct one to use? \n",
        "    <li> What do you notice? What does this tell you about the difference in application of the $t$ and $z$ statistic?\n",
        "    </ul>\n",
        "<li>  At what temperature should we consider someone's temperature to be \"abnormal\"?\n",
        "    <ul>\n",
        "    <li> As in the previous example, try calculating everything using the boostrap approach, as well as the frequentist approach.\n",
        "    <li> Start by computing the margin of error and confidence interval. When calculating the confidence interval, keep in mind that you should use the appropriate formula for one draw, and not N draws.\n",
        "    </ul>\n",
        "<li>  Is there a significant difference between males and females in normal temperature?\n",
        "    <ul>\n",
        "    <li> What testing approach did you use and why?\n",
        "    <li> Write a story with your conclusion in the context of the original problem.\n",
        "    </ul>\n",
        "</ol>\n",
        "\n",
        "You can include written notes in notebook cells using Markdown: \n",
        "   - In the control panel at the top, choose Cell > Cell Type > Markdown\n",
        "   - Markdown syntax: http://nestacms.com/docs/creating-content/markdown-cheat-sheet\n",
        "\n",
        "#### Resources\n",
        "\n",
        "+ Information and data sources: http://www.amstat.org/publications/jse/datasets/normtemp.txt, http://www.amstat.org/publications/jse/jse_data_archive.htm\n",
        "+ Markdown syntax: http://nestacms.com/docs/creating-content/markdown-cheat-sheet\n",
        "\n",
        "****"
      ]
    },
    {
      "cell_type": "code",
      "metadata": {
        "id": "Ux3-srgnVXid",
        "colab_type": "code",
        "outputId": "78b4c943-876b-40ba-b5d0-494027865150",
        "colab": {
          "base_uri": "https://localhost:8080/",
          "height": 484
        }
      },
      "source": [
        "%matplotlib inline\n",
        "import pandas as pd\n",
        "\n",
        "import subprocess as sp\n",
        "import sys,os,shutil,pickle,time\n",
        "import numpy as np\n",
        "from os.path import join\n",
        "from matplotlib import pyplot as plt\n",
        "plt.style.use('default')\n",
        "# mount Google Drive\n",
        "from os.path import expanduser\n",
        "gd_path=join(expanduser(\"~\"),'gd')\n",
        "if not os.path.isdir(gd_path):\n",
        "    try:\n",
        "        # load Google Drive\n",
        "        from google.colab import drive,files\n",
        "        drive.mount('/drive')\n",
        "        sp.call('ln -s /drive/My\\ Drive '+gd_path, shell=True)\n",
        "    except:\n",
        "        print('unable to find Google Drive Folder')\n",
        "os.chdir(gd_path+'/MachineLearning')\n",
        "os.listdir('.')"
      ],
      "execution_count": 2,
      "outputs": [
        {
          "output_type": "stream",
          "text": [
            "Go to this URL in a browser: https://accounts.google.com/o/oauth2/auth?client_id=947318989803-6bn6qk8qdgf4n4g3pfee6491hc0brc4i.apps.googleusercontent.com&redirect_uri=urn%3Aietf%3Awg%3Aoauth%3A2.0%3Aoob&scope=email%20https%3A%2F%2Fwww.googleapis.com%2Fauth%2Fdocs.test%20https%3A%2F%2Fwww.googleapis.com%2Fauth%2Fdrive%20https%3A%2F%2Fwww.googleapis.com%2Fauth%2Fdrive.photos.readonly%20https%3A%2F%2Fwww.googleapis.com%2Fauth%2Fpeopleapi.readonly&response_type=code\n",
            "\n",
            "Enter your authorization code:\n",
            "··········\n",
            "Mounted at /drive\n"
          ],
          "name": "stdout"
        },
        {
          "output_type": "execute_result",
          "data": {
            "text/plain": [
              "['cms_hospital_readmissions.csv',\n",
              " 'kick_starter.csv',\n",
              " 'human_body_temperature.csv',\n",
              " 'craigslistVehiclesFull.csv',\n",
              " 'PIACCsubset.csv',\n",
              " 'PIACCsubset.txt',\n",
              " 'PIACCsubset.xlsx',\n",
              " 'Data Sets',\n",
              " 'pycon-pandas-tutorial',\n",
              " 'notebook_001.ipynb',\n",
              " 'PIACCsubset.ipynb',\n",
              " 'data_wrangling_json',\n",
              " 'steam_reviews.csv',\n",
              " 'education.csv',\n",
              " 'pokemon_data.csv',\n",
              " 'filtered.csv',\n",
              " 'modified.csv',\n",
              " 'modified.txt',\n",
              " 'cars_cleaned.csv']"
            ]
          },
          "metadata": {
            "tags": []
          },
          "execution_count": 2
        }
      ]
    },
    {
      "cell_type": "code",
      "metadata": {
        "id": "llPUE7SiVJvZ",
        "colab_type": "code",
        "colab": {}
      },
      "source": [
        "import pandas as pd\n",
        "\n",
        "df = pd.read_csv('human_body_temperature.csv')"
      ],
      "execution_count": 0,
      "outputs": []
    },
    {
      "cell_type": "code",
      "metadata": {
        "id": "3mzpghvSXMtD",
        "colab_type": "code",
        "outputId": "094e1342-097d-46e9-fc62-0e407fb4d62a",
        "colab": {
          "base_uri": "https://localhost:8080/",
          "height": 206
        }
      },
      "source": [
        "df.head()"
      ],
      "execution_count": 35,
      "outputs": [
        {
          "output_type": "execute_result",
          "data": {
            "text/html": [
              "<div>\n",
              "<style scoped>\n",
              "    .dataframe tbody tr th:only-of-type {\n",
              "        vertical-align: middle;\n",
              "    }\n",
              "\n",
              "    .dataframe tbody tr th {\n",
              "        vertical-align: top;\n",
              "    }\n",
              "\n",
              "    .dataframe thead th {\n",
              "        text-align: right;\n",
              "    }\n",
              "</style>\n",
              "<table border=\"1\" class=\"dataframe\">\n",
              "  <thead>\n",
              "    <tr style=\"text-align: right;\">\n",
              "      <th></th>\n",
              "      <th>temperature</th>\n",
              "      <th>gender</th>\n",
              "      <th>heart_rate</th>\n",
              "    </tr>\n",
              "  </thead>\n",
              "  <tbody>\n",
              "    <tr>\n",
              "      <th>0</th>\n",
              "      <td>99.3</td>\n",
              "      <td>F</td>\n",
              "      <td>68.0</td>\n",
              "    </tr>\n",
              "    <tr>\n",
              "      <th>1</th>\n",
              "      <td>98.4</td>\n",
              "      <td>F</td>\n",
              "      <td>81.0</td>\n",
              "    </tr>\n",
              "    <tr>\n",
              "      <th>2</th>\n",
              "      <td>97.8</td>\n",
              "      <td>M</td>\n",
              "      <td>73.0</td>\n",
              "    </tr>\n",
              "    <tr>\n",
              "      <th>3</th>\n",
              "      <td>99.2</td>\n",
              "      <td>F</td>\n",
              "      <td>66.0</td>\n",
              "    </tr>\n",
              "    <tr>\n",
              "      <th>4</th>\n",
              "      <td>98.0</td>\n",
              "      <td>F</td>\n",
              "      <td>73.0</td>\n",
              "    </tr>\n",
              "  </tbody>\n",
              "</table>\n",
              "</div>"
            ],
            "text/plain": [
              "   temperature gender  heart_rate\n",
              "0         99.3      F        68.0\n",
              "1         98.4      F        81.0\n",
              "2         97.8      M        73.0\n",
              "3         99.2      F        66.0\n",
              "4         98.0      F        73.0"
            ]
          },
          "metadata": {
            "tags": []
          },
          "execution_count": 35
        }
      ]
    },
    {
      "cell_type": "markdown",
      "metadata": {
        "id": "_aE7nXf_ZCQi",
        "colab_type": "text"
      },
      "source": [
        "## 1) Is the distribution of body temperatures normal? "
      ]
    },
    {
      "cell_type": "code",
      "metadata": {
        "id": "uBXOUnLRXTnN",
        "colab_type": "code",
        "cellView": "code",
        "outputId": "78e5cd82-7a9b-49d7-e70d-588b181aca53",
        "colab": {
          "base_uri": "https://localhost:8080/",
          "height": 453
        }
      },
      "source": [
        "# QQ Plot\n",
        "from numpy.random import seed\n",
        "from numpy.random import randn\n",
        "from statsmodels.graphics.gofplots import qqplot\n",
        "from matplotlib import pyplot\n",
        "# seed the random number generator\n",
        "seed(1)\n",
        "# q-q plot\n",
        "qqplot(df.temperature, line='s')\n",
        "pyplot.show()"
      ],
      "execution_count": 12,
      "outputs": [
        {
          "output_type": "display_data",
          "data": {
            "image/png": "[encoded data removed]",
            "text/plain": [
              "<Figure size 640x480 with 1 Axes>"
            ]
          },
          "metadata": {
            "tags": []
          }
        }
      ]
    },
    {
      "cell_type": "markdown",
      "metadata": {
        "id": "napR4_s6ZXdV",
        "colab_type": "text"
      },
      "source": [
        "By looking at QQ plot, we can say that temprature is almost normally distributed. On the other hand, we have an outliter point that needs further investigation."
      ]
    },
    {
      "cell_type": "markdown",
      "metadata": {
        "id": "M5VdGgj0ZILE",
        "colab_type": "text"
      },
      "source": [
        "## 2) Is the sample size large? Are the observations independent? \n"
      ]
    },
    {
      "cell_type": "code",
      "metadata": {
        "id": "r4DvR6pRZPtj",
        "colab_type": "code",
        "outputId": "35286732-9c92-4b06-a776-8db0d3488cce",
        "colab": {
          "base_uri": "https://localhost:8080/",
          "height": 36
        }
      },
      "source": [
        "len(df)"
      ],
      "execution_count": 33,
      "outputs": [
        {
          "output_type": "execute_result",
          "data": {
            "text/plain": [
              "130"
            ]
          },
          "metadata": {
            "tags": []
          },
          "execution_count": 33
        }
      ]
    },
    {
      "cell_type": "markdown",
      "metadata": {
        "id": "h_9Xs-IiZ7I2",
        "colab_type": "text"
      },
      "source": [
        "130 observation is pretty small. Therefore, while making an interpretation, we need to keep in mind that there might be sampling error due to small sample size."
      ]
    },
    {
      "cell_type": "code",
      "metadata": {
        "id": "fUPrfkhFaJrF",
        "colab_type": "code",
        "outputId": "188bcb6c-651e-4c2f-cdca-cf418737dd48",
        "colab": {
          "base_uri": "https://localhost:8080/",
          "height": 452
        }
      },
      "source": [
        "plt.plot(df.temperature)"
      ],
      "execution_count": 34,
      "outputs": [
        {
          "output_type": "execute_result",
          "data": {
            "text/plain": [
              "[<matplotlib.lines.Line2D at 0x7ff36a5ad0f0>]"
            ]
          },
          "metadata": {
            "tags": []
          },
          "execution_count": 34
        },
        {
          "output_type": "display_data",
          "data": {
            "image/png": "[encoded data removed]",
            "text/plain": [
              "<Figure size 640x480 with 1 Axes>"
            ]
          },
          "metadata": {
            "tags": []
          }
        }
      ]
    },
    {
      "cell_type": "code",
      "metadata": {
        "id": "YsMU9_gya77d",
        "colab_type": "code",
        "colab": {}
      },
      "source": [
        ""
      ],
      "execution_count": 0,
      "outputs": []
    },
    {
      "cell_type": "markdown",
      "metadata": {
        "id": "JV-e5vE9aj6O",
        "colab_type": "text"
      },
      "source": [
        "By looking at the temperature plot, it can be said that observations are independent. "
      ]
    },
    {
      "cell_type": "markdown",
      "metadata": {
        "id": "PTmugx-ma8tC",
        "colab_type": "text"
      },
      "source": [
        "## 3) Is the true population mean really 98.6 degrees F? "
      ]
    },
    {
      "cell_type": "code",
      "metadata": {
        "id": "Lv-ounxNaVb4",
        "colab_type": "code",
        "outputId": "d431ea48-a7c2-4343-ff66-754b33a55171",
        "colab": {
          "base_uri": "https://localhost:8080/",
          "height": 174
        }
      },
      "source": [
        "np.mean(df.temperature)"
      ],
      "execution_count": 1,
      "outputs": [
        {
          "output_type": "error",
          "ename": "NameError",
          "evalue": "ignored",
          "traceback": [
            "\u001b[0;31m---------------------------------------------------------------------------\u001b[0m",
            "\u001b[0;31mNameError\u001b[0m                                 Traceback (most recent call last)",
            "\u001b[0;32m<ipython-input-1-4a2972d4936e>\u001b[0m in \u001b[0;36m<module>\u001b[0;34m()\u001b[0m\n\u001b[0;32m----> 1\u001b[0;31m \u001b[0mnp\u001b[0m\u001b[0;34m.\u001b[0m\u001b[0mmean\u001b[0m\u001b[0;34m(\u001b[0m\u001b[0mdf\u001b[0m\u001b[0;34m.\u001b[0m\u001b[0mtemperature\u001b[0m\u001b[0;34m)\u001b[0m\u001b[0;34m\u001b[0m\u001b[0;34m\u001b[0m\u001b[0m\n\u001b[0m",
            "\u001b[0;31mNameError\u001b[0m: name 'np' is not defined"
          ]
        }
      ]
    },
    {
      "cell_type": "code",
      "metadata": {
        "id": "KNhYG-IEdunT",
        "colab_type": "code",
        "outputId": "1c6af4bc-9a48-4fa6-b4bd-1b00616ffc0e",
        "colab": {
          "base_uri": "https://localhost:8080/",
          "height": 36
        }
      },
      "source": [
        "# True pupolation is the confidence interval\n",
        "from scipy.stats import sem, t\n",
        "from scipy import mean\n",
        "confidence = 0.95\n",
        "data = df.temperature\n",
        "\n",
        "n = len(data)\n",
        "m = mean(data)\n",
        "std_err = sem(data)\n",
        "h = std_err * t.ppf((1 + confidence) / 2, n - 1)\n",
        "\n",
        "start = m - h\n",
        "start\n",
        "end = m + h\n",
        "end\n"
      ],
      "execution_count": 13,
      "outputs": [
        {
          "output_type": "execute_result",
          "data": {
            "text/plain": [
              "98.37645863285351"
            ]
          },
          "metadata": {
            "tags": []
          },
          "execution_count": 13
        }
      ]
    },
    {
      "cell_type": "code",
      "metadata": {
        "id": "0nCsRtcgpZT2",
        "colab_type": "code",
        "outputId": "9b1bf979-9fb1-4f78-a01b-c47bc2f57e36",
        "colab": {
          "base_uri": "https://localhost:8080/",
          "height": 36
        }
      },
      "source": [
        "print('Confidence Interval: ', start,',', end)"
      ],
      "execution_count": 32,
      "outputs": [
        {
          "output_type": "stream",
          "text": [
            "Confidence Interval:  97.41708991178415 , 98.68291008821585\n"
          ],
          "name": "stdout"
        }
      ]
    },
    {
      "cell_type": "markdown",
      "metadata": {
        "id": "kbtPJ_HTwtwD",
        "colab_type": "text"
      },
      "source": [
        "As we can see here, true population mean should be between 98.12200290560804  and 98.37645863285351. Therefore, 95% chance, 98.6 degress is not in the interval of the true population mean. "
      ]
    },
    {
      "cell_type": "markdown",
      "metadata": {
        "id": "VGcH7hYfzVpj",
        "colab_type": "text"
      },
      "source": [
        "##### Now, let's try frequentist statistical testing. Would you use a one-sample or two-sample test? Why? \n",
        "I use one sample t-test because we are examining just one variable."
      ]
    },
    {
      "cell_type": "markdown",
      "metadata": {
        "id": "u_VJHb6ZziiO",
        "colab_type": "text"
      },
      "source": [
        "##### In this situation, is it appropriate to use the t or z statistic?\n",
        "z-test is approritae because sample number is higher than 30. "
      ]
    },
    {
      "cell_type": "markdown",
      "metadata": {
        "id": "cTqQwcoj16CF",
        "colab_type": "text"
      },
      "source": [
        ""
      ]
    },
    {
      "cell_type": "code",
      "metadata": {
        "id": "nDZk4UxF167e",
        "colab_type": "code",
        "outputId": "17b77e38-7244-4ab6-98d3-fe65facc03fe",
        "colab": {
          "base_uri": "https://localhost:8080/",
          "height": 54
        }
      },
      "source": [
        "from statsmodels.stats import weightstats as stests\n",
        "import numpy as np\n",
        "\n",
        "singleValue=3.3\n",
        "\n",
        "# Assuming data are normally distributed, we can do z-test\n",
        "testResult=stests.ztest(data,value=singleValue)\n",
        "pValue=testResult[1]\n",
        "print(\"p-value is: \"+str(pValue))\n",
        "print(\"\")"
      ],
      "execution_count": 14,
      "outputs": [
        {
          "output_type": "stream",
          "text": [
            "p-value is: 0.0\n",
            "\n"
          ],
          "name": "stdout"
        }
      ]
    },
    {
      "cell_type": "markdown",
      "metadata": {
        "id": "7Zv_DQEbxHzw",
        "colab_type": "text"
      },
      "source": [
        "## 4) Draw a small sample of size 10 from the data and repeat both frequentist tests. \n"
      ]
    },
    {
      "cell_type": "code",
      "metadata": {
        "id": "_Bx8ke2HxQj5",
        "colab_type": "code",
        "outputId": "be7a44db-5e89-4b95-e7f3-3666b25ad9b0",
        "colab": {
          "base_uri": "https://localhost:8080/",
          "height": 36
        }
      },
      "source": [
        "df2= np.random.choice(data, 10, replace=False)\n",
        "df2"
      ],
      "execution_count": 16,
      "outputs": [
        {
          "output_type": "execute_result",
          "data": {
            "text/plain": [
              "array([98.7, 96.7, 99.5, 97.5, 98.6, 98.9, 97.1, 97.4, 98.2, 97.9])"
            ]
          },
          "metadata": {
            "tags": []
          },
          "execution_count": 16
        }
      ]
    },
    {
      "cell_type": "markdown",
      "metadata": {
        "id": "FYkdhM7UqFTN",
        "colab_type": "text"
      },
      "source": [
        "##### Which one is the correct one to use?\n",
        "For this one, t-test is correc to use because number of sample is lower tha 30.\n",
        "##### What do you notice? What does this tell you about the difference in application of the t and z statistic? \n",
        "  They are used for difference sample sizes. 30 is the cut off point."
      ]
    },
    {
      "cell_type": "markdown",
      "metadata": {
        "id": "8z2nvDjCqTm6",
        "colab_type": "text"
      },
      "source": [
        "## 5) At what temperature should we consider someone's temperature to be \"abnormal\"?"
      ]
    },
    {
      "cell_type": "code",
      "metadata": {
        "id": "GgjUMIH_p7uV",
        "colab_type": "code",
        "outputId": "7ad217a4-e5fa-40ca-c163-ab8d34bef18b",
        "colab": {
          "base_uri": "https://localhost:8080/",
          "height": 36
        }
      },
      "source": [
        "# True pupolation is the confidence interval\n",
        "from scipy.stats import sem, t\n",
        "from scipy import mean\n",
        "confidence = 0.95\n",
        "data = df2\n",
        "\n",
        "n = len(data)\n",
        "m = mean(data)\n",
        "std_err = sem(data)\n",
        "h = std_err * t.ppf((1 + confidence) / 2, n - 1)\n",
        "\n",
        "start = m - h\n",
        "start\n",
        "end = m + h\n",
        "end"
      ],
      "execution_count": 17,
      "outputs": [
        {
          "output_type": "execute_result",
          "data": {
            "text/plain": [
              "98.68291008821585"
            ]
          },
          "metadata": {
            "tags": []
          },
          "execution_count": 17
        }
      ]
    },
    {
      "cell_type": "code",
      "metadata": {
        "id": "7z_xaHdVrZyq",
        "colab_type": "code",
        "outputId": "2c500e8b-a20d-42ed-de5c-dce62f865fd9",
        "colab": {
          "base_uri": "https://localhost:8080/",
          "height": 36
        }
      },
      "source": [
        "print('Confidence Interval: ', start,',', end)"
      ],
      "execution_count": 30,
      "outputs": [
        {
          "output_type": "stream",
          "text": [
            "Confidence Interval:  97.41708991178415 , 98.68291008821585\n"
          ],
          "name": "stdout"
        }
      ]
    },
    {
      "cell_type": "markdown",
      "metadata": {
        "id": "lfmMlg19r-EH",
        "colab_type": "text"
      },
      "source": [
        "## 6) Is there a significant difference between males and females in normal temperature?\n",
        "    What testing approach did you use and why?\n",
        "    Write a story with your conclusion in the context of the original problem. "
      ]
    },
    {
      "cell_type": "code",
      "metadata": {
        "id": "kxMcdjRMsCM3",
        "colab_type": "code",
        "outputId": "bc9999d2-b51d-4c01-83f6-86ba41637d5a",
        "colab": {
          "base_uri": "https://localhost:8080/",
          "height": 206
        }
      },
      "source": [
        "df.head()"
      ],
      "execution_count": 29,
      "outputs": [
        {
          "output_type": "execute_result",
          "data": {
            "text/html": [
              "<div>\n",
              "<style scoped>\n",
              "    .dataframe tbody tr th:only-of-type {\n",
              "        vertical-align: middle;\n",
              "    }\n",
              "\n",
              "    .dataframe tbody tr th {\n",
              "        vertical-align: top;\n",
              "    }\n",
              "\n",
              "    .dataframe thead th {\n",
              "        text-align: right;\n",
              "    }\n",
              "</style>\n",
              "<table border=\"1\" class=\"dataframe\">\n",
              "  <thead>\n",
              "    <tr style=\"text-align: right;\">\n",
              "      <th></th>\n",
              "      <th>temperature</th>\n",
              "      <th>gender</th>\n",
              "      <th>heart_rate</th>\n",
              "    </tr>\n",
              "  </thead>\n",
              "  <tbody>\n",
              "    <tr>\n",
              "      <th>0</th>\n",
              "      <td>99.3</td>\n",
              "      <td>F</td>\n",
              "      <td>68.0</td>\n",
              "    </tr>\n",
              "    <tr>\n",
              "      <th>1</th>\n",
              "      <td>98.4</td>\n",
              "      <td>F</td>\n",
              "      <td>81.0</td>\n",
              "    </tr>\n",
              "    <tr>\n",
              "      <th>2</th>\n",
              "      <td>97.8</td>\n",
              "      <td>M</td>\n",
              "      <td>73.0</td>\n",
              "    </tr>\n",
              "    <tr>\n",
              "      <th>3</th>\n",
              "      <td>99.2</td>\n",
              "      <td>F</td>\n",
              "      <td>66.0</td>\n",
              "    </tr>\n",
              "    <tr>\n",
              "      <th>4</th>\n",
              "      <td>98.0</td>\n",
              "      <td>F</td>\n",
              "      <td>73.0</td>\n",
              "    </tr>\n",
              "  </tbody>\n",
              "</table>\n",
              "</div>"
            ],
            "text/plain": [
              "   temperature gender  heart_rate\n",
              "0         99.3      F        68.0\n",
              "1         98.4      F        81.0\n",
              "2         97.8      M        73.0\n",
              "3         99.2      F        66.0\n",
              "4         98.0      F        73.0"
            ]
          },
          "metadata": {
            "tags": []
          },
          "execution_count": 29
        }
      ]
    },
    {
      "cell_type": "code",
      "metadata": {
        "id": "q0k3r6q8QpDk",
        "colab_type": "code",
        "colab": {}
      },
      "source": [
        "male_temps = []\n",
        "\n",
        "for e,i in enumerate(df['gender']):\n",
        "    if i == 'M':\n",
        "        male_temps.append(df['temperature'][e])"
      ],
      "execution_count": 0,
      "outputs": []
    },
    {
      "cell_type": "code",
      "metadata": {
        "id": "ahJ0cYCPoXvB",
        "colab_type": "code",
        "colab": {}
      },
      "source": [
        "female_temps = []\n",
        "\n",
        "for e,i in enumerate(df['gender']):\n",
        "    if i == 'F':\n",
        "        female_temps.append(df['temperature'][e])"
      ],
      "execution_count": 0,
      "outputs": []
    },
    {
      "cell_type": "code",
      "metadata": {
        "id": "H3pzw-gTR_S-",
        "colab_type": "code",
        "outputId": "860ee32e-3e4c-4e0f-9410-cb40cb13ae92",
        "colab": {
          "base_uri": "https://localhost:8080/",
          "height": 1227
        }
      },
      "source": [
        "male_temps"
      ],
      "execution_count": 54,
      "outputs": [
        {
          "output_type": "execute_result",
          "data": {
            "text/plain": [
              "[97.8,\n",
              " 99.2,\n",
              " 98.0,\n",
              " 98.8,\n",
              " 98.2,\n",
              " 98.2,\n",
              " 99.4,\n",
              " 98.2,\n",
              " 98.6,\n",
              " 98.4,\n",
              " 97.8,\n",
              " 98.1,\n",
              " 98.3,\n",
              " 98.5,\n",
              " 98.6,\n",
              " 99.3,\n",
              " 99.5,\n",
              " 99.1,\n",
              " 98.3,\n",
              " 98.4,\n",
              " 96.9,\n",
              " 97.2,\n",
              " 97.4,\n",
              " 97.4,\n",
              " 97.9,\n",
              " 97.1,\n",
              " 98.6,\n",
              " 98.2,\n",
              " 97.6,\n",
              " 98.4,\n",
              " 98.6,\n",
              " 97.4,\n",
              " 98.6,\n",
              " 98.9,\n",
              " 98.0,\n",
              " 98.8,\n",
              " 99.0,\n",
              " 98.8,\n",
              " 98.4,\n",
              " 97.4,\n",
              " 97.6,\n",
              " 98.0,\n",
              " 97.5,\n",
              " 97.1,\n",
              " 98.0,\n",
              " 98.7,\n",
              " 98.1,\n",
              " 97.8,\n",
              " 97.1,\n",
              " 97.8,\n",
              " 98.0,\n",
              " 99.0,\n",
              " 98.5,\n",
              " 97.6,\n",
              " 96.7,\n",
              " 97.0,\n",
              " 98.6,\n",
              " 97.3,\n",
              " 99.0,\n",
              " 98.0,\n",
              " 98.7,\n",
              " 97.5,\n",
              " 96.3,\n",
              " 97.7,\n",
              " 97.9]"
            ]
          },
          "metadata": {
            "tags": []
          },
          "execution_count": 54
        }
      ]
    },
    {
      "cell_type": "code",
      "metadata": {
        "id": "-lp_jKSGR_vJ",
        "colab_type": "code",
        "colab": {
          "base_uri": "https://localhost:8080/",
          "height": 36
        },
        "outputId": "016cabb7-2a6f-42f5-b1d4-163730fcd492"
      },
      "source": [
        "from scipy import stats\n",
        "stats.ttest_ind(male_temps, female_temps)  "
      ],
      "execution_count": 27,
      "outputs": [
        {
          "output_type": "execute_result",
          "data": {
            "text/plain": [
              "Ttest_indResult(statistic=-2.2854345381656103, pvalue=0.02393188312239561)"
            ]
          },
          "metadata": {
            "tags": []
          },
          "execution_count": 27
        }
      ]
    },
    {
      "cell_type": "code",
      "metadata": {
        "id": "FLEb63UErMlk",
        "colab_type": "code",
        "colab": {
          "base_uri": "https://localhost:8080/",
          "height": 36
        },
        "outputId": "4b39277c-0402-4108-a008-537b02da4d03"
      },
      "source": [
        "mean(male_temps)\n"
      ],
      "execution_count": 47,
      "outputs": [
        {
          "output_type": "execute_result",
          "data": {
            "text/plain": [
              "98.10461538461537"
            ]
          },
          "metadata": {
            "tags": []
          },
          "execution_count": 47
        }
      ]
    },
    {
      "cell_type": "code",
      "metadata": {
        "id": "DzSwXaDBsCVq",
        "colab_type": "code",
        "colab": {
          "base_uri": "https://localhost:8080/",
          "height": 36
        },
        "outputId": "5a4bbe25-e45b-433f-aad6-f240bfc949f2"
      },
      "source": [
        "mean(female_temps)"
      ],
      "execution_count": 46,
      "outputs": [
        {
          "output_type": "execute_result",
          "data": {
            "text/plain": [
              "98.39384615384614"
            ]
          },
          "metadata": {
            "tags": []
          },
          "execution_count": 46
        }
      ]
    },
    {
      "cell_type": "markdown",
      "metadata": {
        "id": "s432dB3utVuM",
        "colab_type": "text"
      },
      "source": [
        "For this analysis, I used t-test for testing the significance of the difference between body tempretaure of males and females. We got a p value< 0.05. Therefore, we can conclude that there is a significant difference between body temprature of males and females. On the other hand, this statistical significance does not mean that it's pratically significant. We we look at the mean values of body temprature of the M and F, we can see that they are so close to each other."
      ]
    }
  ]
}