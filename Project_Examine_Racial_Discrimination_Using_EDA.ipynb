{
  "nbformat": 4,
  "nbformat_minor": 0,
  "metadata": {
    "colab": {
      "name": "Project: Examine Racial Discrimination Using EDA",
      "version": "0.3.2",
      "provenance": [],
      "include_colab_link": true
    },
    "language_info": {
      "codemirror_mode": {
        "name": "ipython",
        "version": 2
      },
      "file_extension": ".py",
      "mimetype": "text/x-python",
      "name": "python",
      "nbconvert_exporter": "python",
      "pygments_lexer": "ipython2",
      "version": "2.7.13"
    },
    "kernelspec": {
      "display_name": "Python 2",
      "language": "python",
      "name": "python2"
    }
  },
  "cells": [
    {
      "cell_type": "markdown",
      "metadata": {
        "id": "view-in-github",
        "colab_type": "text"
      },
      "source": [
        "<a href=\"https://colab.research.google.com/github/Raizel820/Inferential_Statistics/blob/master/Project_Examine_Racial_Discrimination_Using_EDA.ipynb\" target=\"_parent\"><img src=\"https://colab.research.google.com/assets/colab-badge.svg\" alt=\"Open In Colab\"/></a>"
      ]
    },
    {
      "cell_type": "markdown",
      "metadata": {
        "id": "lbSodPc8a8ui",
        "colab_type": "text"
      },
      "source": [
        "# Examining Racial Discrimination in the US Job Market\n",
        "\n",
        "### Background\n",
        "Racial discrimination continues to be pervasive in cultures throughout the world. Researchers examined the level of racial discrimination in the United States labor market by randomly assigning identical résumés to black-sounding or white-sounding names and observing the impact on requests for interviews from employers.\n",
        "\n",
        "### Data\n",
        "In the dataset provided, each row represents a resume. The 'race' column has two values, 'b' and 'w', indicating black-sounding and white-sounding. The column 'call' has two values, 1 and 0, indicating whether the resume received a call from employers or not.\n",
        "\n",
        "Note that the 'b' and 'w' values in race are assigned randomly to the resumes when presented to the employer."
      ]
    },
    {
      "cell_type": "markdown",
      "metadata": {
        "id": "Tc96Nw8Za8un",
        "colab_type": "text"
      },
      "source": [
        "### Exercises\n",
        "You will perform a statistical analysis to establish whether race has a significant impact on the rate of callbacks for resumes.\n",
        "\n",
        "Answer the following questions **in this notebook below and submit to your Github account**. \n",
        "\n",
        "   1. What test is appropriate for this problem? Does CLT apply?\n",
        "   2. What are the null and alternate hypotheses?\n",
        "   3. Compute margin of error, confidence interval, and p-value. Try using both the bootstrapping and the frequentist statistical approaches.\n",
        "   4. Write a story describing the statistical significance in the context or the original problem.\n",
        "   5. Does your analysis mean that race/name is the most important factor in callback success? Why or why not? If not, how would you amend your analysis?\n",
        "\n",
        "You can include written notes in notebook cells using Markdown: \n",
        "   - In the control panel at the top, choose Cell > Cell Type > Markdown\n",
        "   - Markdown syntax: http://nestacms.com/docs/creating-content/markdown-cheat-sheet\n",
        "\n",
        "#### Resources\n",
        "+ Experiment information and data source: http://www.povertyactionlab.org/evaluation/discrimination-job-market-united-states\n",
        "+ Scipy statistical methods: http://docs.scipy.org/doc/scipy/reference/stats.html \n",
        "+ Markdown syntax: http://nestacms.com/docs/creating-content/markdown-cheat-sheet\n",
        "+ Formulas for the Bernoulli distribution: https://en.wikipedia.org/wiki/Bernoulli_distribution"
      ]
    },
    {
      "cell_type": "code",
      "metadata": {
        "id": "vTONY4H7bM6v",
        "colab_type": "code",
        "colab": {
          "base_uri": "https://localhost:8080/",
          "height": 371
        },
        "outputId": "49925132-0a8a-42f6-bb7e-23a323803c23"
      },
      "source": [
        "%matplotlib inline\n",
        "import pandas as pd\n",
        "\n",
        "import subprocess as sp\n",
        "import sys,os,shutil,pickle,time\n",
        "import numpy as np\n",
        "from os.path import join\n",
        "from matplotlib import pyplot as plt\n",
        "plt.style.use('default')\n",
        "# mount Google Drive\n",
        "from os.path import expanduser\n",
        "gd_path=join(expanduser(\"~\"),'gd')\n",
        "if not os.path.isdir(gd_path):\n",
        "    try:\n",
        "        # load Google Drive\n",
        "        from google.colab import drive,files\n",
        "        drive.mount('/drive')\n",
        "        sp.call('ln -s /drive/My\\ Drive '+gd_path, shell=True)\n",
        "    except:\n",
        "        print('unable to find Google Drive Folder')\n",
        "os.chdir(gd_path+'/MachineLearning')\n",
        "os.listdir('.')"
      ],
      "execution_count": 4,
      "outputs": [
        {
          "output_type": "execute_result",
          "data": {
            "text/plain": [
              "['kick_starter.csv',\n",
              " 'human_body_temperature.csv',\n",
              " 'craigslistVehiclesFull.csv',\n",
              " 'PIACCsubset.csv',\n",
              " 'PIACCsubset.txt',\n",
              " 'PIACCsubset.xlsx',\n",
              " 'Data Sets',\n",
              " 'pycon-pandas-tutorial',\n",
              " 'notebook_001.ipynb',\n",
              " 'PIACCsubset.ipynb',\n",
              " 'data_wrangling_json',\n",
              " 'steam_reviews.csv',\n",
              " 'education.csv',\n",
              " 'pokemon_data.csv',\n",
              " 'filtered.csv',\n",
              " 'modified.csv',\n",
              " 'modified.txt',\n",
              " 'cars_cleaned.csv',\n",
              " 'us_job_market_discrimination.dta']"
            ]
          },
          "metadata": {
            "tags": []
          },
          "execution_count": 4
        }
      ]
    },
    {
      "cell_type": "code",
      "metadata": {
        "id": "hnNlAEMRa8up",
        "colab_type": "code",
        "colab": {}
      },
      "source": [
        "import pandas as pd\n",
        "import numpy as np\n",
        "from scipy import stats"
      ],
      "execution_count": 0,
      "outputs": []
    },
    {
      "cell_type": "code",
      "metadata": {
        "id": "PFhBIeFHa8uz",
        "colab_type": "code",
        "colab": {}
      },
      "source": [
        "data = pd.io.stata.read_stata('us_job_market_discrimination.dta')"
      ],
      "execution_count": 0,
      "outputs": []
    },
    {
      "cell_type": "code",
      "metadata": {
        "id": "GPpH96Ona8u6",
        "colab_type": "code",
        "colab": {
          "base_uri": "https://localhost:8080/",
          "height": 36
        },
        "outputId": "cba85d6c-6cad-49e5-cf7e-797062faadef"
      },
      "source": [
        "# number of callbacks for black-sounding names\n",
        "sum(data[data.race=='w'].call)"
      ],
      "execution_count": 7,
      "outputs": [
        {
          "output_type": "execute_result",
          "data": {
            "text/plain": [
              "235.0"
            ]
          },
          "metadata": {
            "tags": []
          },
          "execution_count": 7
        }
      ]
    },
    {
      "cell_type": "code",
      "metadata": {
        "id": "FDT_Ijk-a8vE",
        "colab_type": "code",
        "colab": {
          "base_uri": "https://localhost:8080/",
          "height": 226
        },
        "outputId": "ee2f1790-2339-487d-8c79-d2589ce1124b"
      },
      "source": [
        "data.head()"
      ],
      "execution_count": 8,
      "outputs": [
        {
          "output_type": "execute_result",
          "data": {
            "text/html": [
              "<div>\n",
              "<style scoped>\n",
              "    .dataframe tbody tr th:only-of-type {\n",
              "        vertical-align: middle;\n",
              "    }\n",
              "\n",
              "    .dataframe tbody tr th {\n",
              "        vertical-align: top;\n",
              "    }\n",
              "\n",
              "    .dataframe thead th {\n",
              "        text-align: right;\n",
              "    }\n",
              "</style>\n",
              "<table border=\"1\" class=\"dataframe\">\n",
              "  <thead>\n",
              "    <tr style=\"text-align: right;\">\n",
              "      <th></th>\n",
              "      <th>id</th>\n",
              "      <th>ad</th>\n",
              "      <th>education</th>\n",
              "      <th>ofjobs</th>\n",
              "      <th>yearsexp</th>\n",
              "      <th>honors</th>\n",
              "      <th>volunteer</th>\n",
              "      <th>military</th>\n",
              "      <th>empholes</th>\n",
              "      <th>occupspecific</th>\n",
              "      <th>occupbroad</th>\n",
              "      <th>workinschool</th>\n",
              "      <th>email</th>\n",
              "      <th>computerskills</th>\n",
              "      <th>specialskills</th>\n",
              "      <th>firstname</th>\n",
              "      <th>sex</th>\n",
              "      <th>race</th>\n",
              "      <th>h</th>\n",
              "      <th>l</th>\n",
              "      <th>call</th>\n",
              "      <th>city</th>\n",
              "      <th>kind</th>\n",
              "      <th>adid</th>\n",
              "      <th>fracblack</th>\n",
              "      <th>fracwhite</th>\n",
              "      <th>lmedhhinc</th>\n",
              "      <th>fracdropout</th>\n",
              "      <th>fraccolp</th>\n",
              "      <th>linc</th>\n",
              "      <th>col</th>\n",
              "      <th>expminreq</th>\n",
              "      <th>schoolreq</th>\n",
              "      <th>eoe</th>\n",
              "      <th>parent_sales</th>\n",
              "      <th>parent_emp</th>\n",
              "      <th>branch_sales</th>\n",
              "      <th>branch_emp</th>\n",
              "      <th>fed</th>\n",
              "      <th>fracblack_empzip</th>\n",
              "      <th>fracwhite_empzip</th>\n",
              "      <th>lmedhhinc_empzip</th>\n",
              "      <th>fracdropout_empzip</th>\n",
              "      <th>fraccolp_empzip</th>\n",
              "      <th>linc_empzip</th>\n",
              "      <th>manager</th>\n",
              "      <th>supervisor</th>\n",
              "      <th>secretary</th>\n",
              "      <th>offsupport</th>\n",
              "      <th>salesrep</th>\n",
              "      <th>retailsales</th>\n",
              "      <th>req</th>\n",
              "      <th>expreq</th>\n",
              "      <th>comreq</th>\n",
              "      <th>educreq</th>\n",
              "      <th>compreq</th>\n",
              "      <th>orgreq</th>\n",
              "      <th>manuf</th>\n",
              "      <th>transcom</th>\n",
              "      <th>bankreal</th>\n",
              "      <th>trade</th>\n",
              "      <th>busservice</th>\n",
              "      <th>othservice</th>\n",
              "      <th>missind</th>\n",
              "      <th>ownership</th>\n",
              "    </tr>\n",
              "  </thead>\n",
              "  <tbody>\n",
              "    <tr>\n",
              "      <th>0</th>\n",
              "      <td>b</td>\n",
              "      <td>1</td>\n",
              "      <td>4</td>\n",
              "      <td>2</td>\n",
              "      <td>6</td>\n",
              "      <td>0</td>\n",
              "      <td>0</td>\n",
              "      <td>0</td>\n",
              "      <td>1</td>\n",
              "      <td>17</td>\n",
              "      <td>1</td>\n",
              "      <td>0</td>\n",
              "      <td>0</td>\n",
              "      <td>1</td>\n",
              "      <td>0</td>\n",
              "      <td>Allison</td>\n",
              "      <td>f</td>\n",
              "      <td>w</td>\n",
              "      <td>0.0</td>\n",
              "      <td>1.0</td>\n",
              "      <td>0.0</td>\n",
              "      <td>c</td>\n",
              "      <td>a</td>\n",
              "      <td>384.0</td>\n",
              "      <td>0.989360</td>\n",
              "      <td>0.005500</td>\n",
              "      <td>9.527484</td>\n",
              "      <td>0.274151</td>\n",
              "      <td>0.037662</td>\n",
              "      <td>8.706325</td>\n",
              "      <td>1.0</td>\n",
              "      <td>5</td>\n",
              "      <td></td>\n",
              "      <td>1.0</td>\n",
              "      <td>NaN</td>\n",
              "      <td>NaN</td>\n",
              "      <td>NaN</td>\n",
              "      <td>NaN</td>\n",
              "      <td>NaN</td>\n",
              "      <td>NaN</td>\n",
              "      <td>NaN</td>\n",
              "      <td>NaN</td>\n",
              "      <td>NaN</td>\n",
              "      <td>NaN</td>\n",
              "      <td>NaN</td>\n",
              "      <td>0.0</td>\n",
              "      <td>1.0</td>\n",
              "      <td>0.0</td>\n",
              "      <td>0.0</td>\n",
              "      <td>0.0</td>\n",
              "      <td>0.0</td>\n",
              "      <td>1.0</td>\n",
              "      <td>1.0</td>\n",
              "      <td>0.0</td>\n",
              "      <td>0.0</td>\n",
              "      <td>1.0</td>\n",
              "      <td>0.0</td>\n",
              "      <td>1.0</td>\n",
              "      <td>0.0</td>\n",
              "      <td>0.0</td>\n",
              "      <td>0.0</td>\n",
              "      <td>0.0</td>\n",
              "      <td>0.0</td>\n",
              "      <td>0.0</td>\n",
              "      <td></td>\n",
              "    </tr>\n",
              "    <tr>\n",
              "      <th>1</th>\n",
              "      <td>b</td>\n",
              "      <td>1</td>\n",
              "      <td>3</td>\n",
              "      <td>3</td>\n",
              "      <td>6</td>\n",
              "      <td>0</td>\n",
              "      <td>1</td>\n",
              "      <td>1</td>\n",
              "      <td>0</td>\n",
              "      <td>316</td>\n",
              "      <td>6</td>\n",
              "      <td>1</td>\n",
              "      <td>1</td>\n",
              "      <td>1</td>\n",
              "      <td>0</td>\n",
              "      <td>Kristen</td>\n",
              "      <td>f</td>\n",
              "      <td>w</td>\n",
              "      <td>1.0</td>\n",
              "      <td>0.0</td>\n",
              "      <td>0.0</td>\n",
              "      <td>c</td>\n",
              "      <td>a</td>\n",
              "      <td>384.0</td>\n",
              "      <td>0.080736</td>\n",
              "      <td>0.888374</td>\n",
              "      <td>10.408828</td>\n",
              "      <td>0.233687</td>\n",
              "      <td>0.087285</td>\n",
              "      <td>9.532859</td>\n",
              "      <td>0.0</td>\n",
              "      <td>5</td>\n",
              "      <td></td>\n",
              "      <td>1.0</td>\n",
              "      <td>NaN</td>\n",
              "      <td>NaN</td>\n",
              "      <td>NaN</td>\n",
              "      <td>NaN</td>\n",
              "      <td>NaN</td>\n",
              "      <td>NaN</td>\n",
              "      <td>NaN</td>\n",
              "      <td>NaN</td>\n",
              "      <td>NaN</td>\n",
              "      <td>NaN</td>\n",
              "      <td>NaN</td>\n",
              "      <td>0.0</td>\n",
              "      <td>1.0</td>\n",
              "      <td>0.0</td>\n",
              "      <td>0.0</td>\n",
              "      <td>0.0</td>\n",
              "      <td>0.0</td>\n",
              "      <td>1.0</td>\n",
              "      <td>1.0</td>\n",
              "      <td>0.0</td>\n",
              "      <td>0.0</td>\n",
              "      <td>1.0</td>\n",
              "      <td>0.0</td>\n",
              "      <td>1.0</td>\n",
              "      <td>0.0</td>\n",
              "      <td>0.0</td>\n",
              "      <td>0.0</td>\n",
              "      <td>0.0</td>\n",
              "      <td>0.0</td>\n",
              "      <td>0.0</td>\n",
              "      <td></td>\n",
              "    </tr>\n",
              "    <tr>\n",
              "      <th>2</th>\n",
              "      <td>b</td>\n",
              "      <td>1</td>\n",
              "      <td>4</td>\n",
              "      <td>1</td>\n",
              "      <td>6</td>\n",
              "      <td>0</td>\n",
              "      <td>0</td>\n",
              "      <td>0</td>\n",
              "      <td>0</td>\n",
              "      <td>19</td>\n",
              "      <td>1</td>\n",
              "      <td>1</td>\n",
              "      <td>0</td>\n",
              "      <td>1</td>\n",
              "      <td>0</td>\n",
              "      <td>Lakisha</td>\n",
              "      <td>f</td>\n",
              "      <td>b</td>\n",
              "      <td>0.0</td>\n",
              "      <td>1.0</td>\n",
              "      <td>0.0</td>\n",
              "      <td>c</td>\n",
              "      <td>a</td>\n",
              "      <td>384.0</td>\n",
              "      <td>0.104301</td>\n",
              "      <td>0.837370</td>\n",
              "      <td>10.466754</td>\n",
              "      <td>0.101335</td>\n",
              "      <td>0.591695</td>\n",
              "      <td>10.540329</td>\n",
              "      <td>1.0</td>\n",
              "      <td>5</td>\n",
              "      <td></td>\n",
              "      <td>1.0</td>\n",
              "      <td>NaN</td>\n",
              "      <td>NaN</td>\n",
              "      <td>NaN</td>\n",
              "      <td>NaN</td>\n",
              "      <td>NaN</td>\n",
              "      <td>NaN</td>\n",
              "      <td>NaN</td>\n",
              "      <td>NaN</td>\n",
              "      <td>NaN</td>\n",
              "      <td>NaN</td>\n",
              "      <td>NaN</td>\n",
              "      <td>0.0</td>\n",
              "      <td>1.0</td>\n",
              "      <td>0.0</td>\n",
              "      <td>0.0</td>\n",
              "      <td>0.0</td>\n",
              "      <td>0.0</td>\n",
              "      <td>1.0</td>\n",
              "      <td>1.0</td>\n",
              "      <td>0.0</td>\n",
              "      <td>0.0</td>\n",
              "      <td>1.0</td>\n",
              "      <td>0.0</td>\n",
              "      <td>1.0</td>\n",
              "      <td>0.0</td>\n",
              "      <td>0.0</td>\n",
              "      <td>0.0</td>\n",
              "      <td>0.0</td>\n",
              "      <td>0.0</td>\n",
              "      <td>0.0</td>\n",
              "      <td></td>\n",
              "    </tr>\n",
              "    <tr>\n",
              "      <th>3</th>\n",
              "      <td>b</td>\n",
              "      <td>1</td>\n",
              "      <td>3</td>\n",
              "      <td>4</td>\n",
              "      <td>6</td>\n",
              "      <td>0</td>\n",
              "      <td>1</td>\n",
              "      <td>0</td>\n",
              "      <td>1</td>\n",
              "      <td>313</td>\n",
              "      <td>5</td>\n",
              "      <td>0</td>\n",
              "      <td>1</td>\n",
              "      <td>1</td>\n",
              "      <td>1</td>\n",
              "      <td>Latonya</td>\n",
              "      <td>f</td>\n",
              "      <td>b</td>\n",
              "      <td>1.0</td>\n",
              "      <td>0.0</td>\n",
              "      <td>0.0</td>\n",
              "      <td>c</td>\n",
              "      <td>a</td>\n",
              "      <td>384.0</td>\n",
              "      <td>0.336165</td>\n",
              "      <td>0.637370</td>\n",
              "      <td>10.431908</td>\n",
              "      <td>0.108848</td>\n",
              "      <td>0.406576</td>\n",
              "      <td>10.412141</td>\n",
              "      <td>0.0</td>\n",
              "      <td>5</td>\n",
              "      <td></td>\n",
              "      <td>1.0</td>\n",
              "      <td>NaN</td>\n",
              "      <td>NaN</td>\n",
              "      <td>NaN</td>\n",
              "      <td>NaN</td>\n",
              "      <td>NaN</td>\n",
              "      <td>NaN</td>\n",
              "      <td>NaN</td>\n",
              "      <td>NaN</td>\n",
              "      <td>NaN</td>\n",
              "      <td>NaN</td>\n",
              "      <td>NaN</td>\n",
              "      <td>0.0</td>\n",
              "      <td>1.0</td>\n",
              "      <td>0.0</td>\n",
              "      <td>0.0</td>\n",
              "      <td>0.0</td>\n",
              "      <td>0.0</td>\n",
              "      <td>1.0</td>\n",
              "      <td>1.0</td>\n",
              "      <td>0.0</td>\n",
              "      <td>0.0</td>\n",
              "      <td>1.0</td>\n",
              "      <td>0.0</td>\n",
              "      <td>1.0</td>\n",
              "      <td>0.0</td>\n",
              "      <td>0.0</td>\n",
              "      <td>0.0</td>\n",
              "      <td>0.0</td>\n",
              "      <td>0.0</td>\n",
              "      <td>0.0</td>\n",
              "      <td></td>\n",
              "    </tr>\n",
              "    <tr>\n",
              "      <th>4</th>\n",
              "      <td>b</td>\n",
              "      <td>1</td>\n",
              "      <td>3</td>\n",
              "      <td>3</td>\n",
              "      <td>22</td>\n",
              "      <td>0</td>\n",
              "      <td>0</td>\n",
              "      <td>0</td>\n",
              "      <td>0</td>\n",
              "      <td>313</td>\n",
              "      <td>5</td>\n",
              "      <td>1</td>\n",
              "      <td>1</td>\n",
              "      <td>1</td>\n",
              "      <td>0</td>\n",
              "      <td>Carrie</td>\n",
              "      <td>f</td>\n",
              "      <td>w</td>\n",
              "      <td>1.0</td>\n",
              "      <td>0.0</td>\n",
              "      <td>0.0</td>\n",
              "      <td>c</td>\n",
              "      <td>a</td>\n",
              "      <td>385.0</td>\n",
              "      <td>0.397595</td>\n",
              "      <td>0.180196</td>\n",
              "      <td>9.876219</td>\n",
              "      <td>0.312873</td>\n",
              "      <td>0.030847</td>\n",
              "      <td>8.728264</td>\n",
              "      <td>0.0</td>\n",
              "      <td>some</td>\n",
              "      <td></td>\n",
              "      <td>1.0</td>\n",
              "      <td>9.4</td>\n",
              "      <td>143.0</td>\n",
              "      <td>9.4</td>\n",
              "      <td>143.0</td>\n",
              "      <td>0.0</td>\n",
              "      <td>0.204764</td>\n",
              "      <td>0.727046</td>\n",
              "      <td>10.619399</td>\n",
              "      <td>0.070493</td>\n",
              "      <td>0.369903</td>\n",
              "      <td>10.007352</td>\n",
              "      <td>0.0</td>\n",
              "      <td>0.0</td>\n",
              "      <td>1.0</td>\n",
              "      <td>0.0</td>\n",
              "      <td>0.0</td>\n",
              "      <td>0.0</td>\n",
              "      <td>1.0</td>\n",
              "      <td>1.0</td>\n",
              "      <td>0.0</td>\n",
              "      <td>0.0</td>\n",
              "      <td>1.0</td>\n",
              "      <td>1.0</td>\n",
              "      <td>0.0</td>\n",
              "      <td>0.0</td>\n",
              "      <td>0.0</td>\n",
              "      <td>0.0</td>\n",
              "      <td>0.0</td>\n",
              "      <td>1.0</td>\n",
              "      <td>0.0</td>\n",
              "      <td>Nonprofit</td>\n",
              "    </tr>\n",
              "  </tbody>\n",
              "</table>\n",
              "</div>"
            ],
            "text/plain": [
              "  id ad  education  ofjobs  ...  busservice  othservice  missind  ownership\n",
              "0  b  1          4       2  ...         0.0         0.0      0.0           \n",
              "1  b  1          3       3  ...         0.0         0.0      0.0           \n",
              "2  b  1          4       1  ...         0.0         0.0      0.0           \n",
              "3  b  1          3       4  ...         0.0         0.0      0.0           \n",
              "4  b  1          3       3  ...         0.0         1.0      0.0  Nonprofit\n",
              "\n",
              "[5 rows x 65 columns]"
            ]
          },
          "metadata": {
            "tags": []
          },
          "execution_count": 8
        }
      ]
    },
    {
      "cell_type": "markdown",
      "metadata": {
        "collapsed": true,
        "id": "BkGmVAgTa8vK",
        "colab_type": "text"
      },
      "source": [
        "<div class=\"span5 alert alert-success\">\n",
        "<p>Your answers to Q1 and Q2 here</p>\n",
        "</div>"
      ]
    },
    {
      "cell_type": "markdown",
      "metadata": {
        "id": "JfnezHi2e_Zy",
        "colab_type": "text"
      },
      "source": [
        "We have two categorical variables here: race and call. Chi-square is the appriate method for investitating the relation.\n",
        "CLT is  not appropriate because the race and call variables are not numerical variables (not int or float type of data).\n"
      ]
    },
    {
      "cell_type": "code",
      "metadata": {
        "id": "T1XpJLPUa8vN",
        "colab_type": "code",
        "colab": {}
      },
      "source": [
        "w = data[data.race=='w']\n",
        "b = data[data.race=='b']"
      ],
      "execution_count": 0,
      "outputs": []
    },
    {
      "cell_type": "markdown",
      "metadata": {
        "id": "384iRx4kx6-C",
        "colab_type": "text"
      },
      "source": [
        "Null hypotesis: Race does not have a impact on the rate of callbacks for resumes.\n",
        "\n",
        "Alternative Hypotesis: Race has a significant impact on the rate of callbacks for resumes."
      ]
    },
    {
      "cell_type": "code",
      "metadata": {
        "id": "bAeB1zXwa8vS",
        "colab_type": "code",
        "colab": {}
      },
      "source": [
        "## Your solution to Q3 here"
      ],
      "execution_count": 0,
      "outputs": []
    },
    {
      "cell_type": "markdown",
      "metadata": {
        "id": "JRgtARiX1Dyf",
        "colab_type": "text"
      },
      "source": [
        "##### At this part, I need to learn how to do chi-square analysis. Ask, whether there is a package that gives me all confidence interval."
      ]
    },
    {
      "cell_type": "code",
      "metadata": {
        "id": "5P9J-2l6xyKq",
        "colab_type": "code",
        "colab": {
          "base_uri": "https://localhost:8080/",
          "height": 278
        },
        "outputId": "5912f445-96b5-40e3-b744-025952385f33"
      },
      "source": [
        "data.columns"
      ],
      "execution_count": 30,
      "outputs": [
        {
          "output_type": "execute_result",
          "data": {
            "text/plain": [
              "Index([u'id', u'ad', u'education', u'ofjobs', u'yearsexp', u'honors',\n",
              "       u'volunteer', u'military', u'empholes', u'occupspecific', u'occupbroad',\n",
              "       u'workinschool', u'email', u'computerskills', u'specialskills',\n",
              "       u'firstname', u'sex', u'race', u'h', u'l', u'call', u'city', u'kind',\n",
              "       u'adid', u'fracblack', u'fracwhite', u'lmedhhinc', u'fracdropout',\n",
              "       u'fraccolp', u'linc', u'col', u'expminreq', u'schoolreq', u'eoe',\n",
              "       u'parent_sales', u'parent_emp', u'branch_sales', u'branch_emp', u'fed',\n",
              "       u'fracblack_empzip', u'fracwhite_empzip', u'lmedhhinc_empzip',\n",
              "       u'fracdropout_empzip', u'fraccolp_empzip', u'linc_empzip', u'manager',\n",
              "       u'supervisor', u'secretary', u'offsupport', u'salesrep', u'retailsales',\n",
              "       u'req', u'expreq', u'comreq', u'educreq', u'compreq', u'orgreq',\n",
              "       u'manuf', u'transcom', u'bankreal', u'trade', u'busservice',\n",
              "       u'othservice', u'missind', u'ownership'],\n",
              "      dtype='object')"
            ]
          },
          "metadata": {
            "tags": []
          },
          "execution_count": 30
        }
      ]
    },
    {
      "cell_type": "code",
      "metadata": {
        "id": "Vlf_2udExzd_",
        "colab_type": "code",
        "colab": {
          "base_uri": "https://localhost:8080/",
          "height": 36
        },
        "outputId": "1fd22a1b-14ca-4af2-bbb4-d2c40d6aa1d8"
      },
      "source": [
        "import scipy.stats\n",
        "\n",
        "scipy.stats.chisquare(data.call.value_counts())"
      ],
      "execution_count": 31,
      "outputs": [
        {
          "output_type": "execute_result",
          "data": {
            "text/plain": [
              "Power_divergenceResult(statistic=3428.21273100616, pvalue=0.0)"
            ]
          },
          "metadata": {
            "tags": []
          },
          "execution_count": 31
        }
      ]
    },
    {
      "cell_type": "code",
      "metadata": {
        "id": "eOBXZC0QyuY5",
        "colab_type": "code",
        "colab": {
          "base_uri": "https://localhost:8080/",
          "height": 36
        },
        "outputId": "74200614-1c20-4c50-d0b1-51a4e234f423"
      },
      "source": [
        "# The confidence interval\n",
        "from scipy.stats import sem, t\n",
        "from scipy import mean\n",
        "confidence = 0.95\n",
        "df2 = data.call\n",
        "\n",
        "n = len(df2)\n",
        "m = mean(df2)\n",
        "std_err = sem(df2)\n",
        "h = std_err * t.ppf((1 + confidence) / 2, n - 1)\n",
        "\n",
        "start = m - h\n",
        "start\n",
        "end = m + h\n",
        "end"
      ],
      "execution_count": 40,
      "outputs": [
        {
          "output_type": "execute_result",
          "data": {
            "text/plain": [
              "0.08813631738711969"
            ]
          },
          "metadata": {
            "tags": []
          },
          "execution_count": 40
        }
      ]
    },
    {
      "cell_type": "code",
      "metadata": {
        "id": "20Cb_U5Uy_fJ",
        "colab_type": "code",
        "colab": {
          "base_uri": "https://localhost:8080/",
          "height": 36
        },
        "outputId": "dbbdf2e3-6299-4670-856c-980fde7e1b2a"
      },
      "source": [
        "print('Confidence Interval: ', start,',', end)"
      ],
      "execution_count": 41,
      "outputs": [
        {
          "output_type": "stream",
          "text": [
            "('Confidence Interval: ', 0.07284931634376868, ',', 0.08813631738711969)\n"
          ],
          "name": "stdout"
        }
      ]
    },
    {
      "cell_type": "markdown",
      "metadata": {
        "id": "8FxmdB8wa8vY",
        "colab_type": "text"
      },
      "source": [
        "<div class=\"span5 alert alert-success\">\n",
        "<p> Your answers to Q4 and Q5 here </p>\n",
        "</div>"
      ]
    },
    {
      "cell_type": "code",
      "metadata": {
        "id": "GRXiswm5xyyL",
        "colab_type": "code",
        "colab": {}
      },
      "source": [
        "## In order to rely this, i need answers for previous part (Q3). "
      ],
      "execution_count": 0,
      "outputs": []
    },
    {
      "cell_type": "code",
      "metadata": {
        "id": "Fkhwc3xva8vb",
        "colab_type": "code",
        "colab": {}
      },
      "source": [
        ""
      ],
      "execution_count": 0,
      "outputs": []
    }
  ]
}