{
  "nbformat": 4,
  "nbformat_minor": 0,
  "metadata": {
    "colab": {
      "name": "Project: Examine Racial Discrimination Using EDA",
      "provenance": [],
      "include_colab_link": true
    },
    "language_info": {
      "codemirror_mode": {
        "name": "ipython",
        "version": 2
      },
      "file_extension": ".py",
      "mimetype": "text/x-python",
      "name": "python",
      "nbconvert_exporter": "python",
      "pygments_lexer": "ipython2",
      "version": "2.7.13"
    },
    "kernelspec": {
      "display_name": "Python 2",
      "language": "python",
      "name": "python2"
    }
  },
  "cells": [
    {
      "cell_type": "markdown",
      "metadata": {
        "id": "view-in-github",
        "colab_type": "text"
      },
      "source": [
        "<a href=\"https://colab.research.google.com/github/Raizel820/Inferential_Statistics/blob/master/Project_Examine_Racial_Discrimination_Using_EDA.ipynb\" target=\"_parent\"><img src=\"https://colab.research.google.com/assets/colab-badge.svg\" alt=\"Open In Colab\"/></a>"
      ]
    },
    {
      "cell_type": "markdown",
      "metadata": {
        "id": "lbSodPc8a8ui",
        "colab_type": "text"
      },
      "source": [
        "# Examining Racial Discrimination in the US Job Market\n",
        "\n",
        "### Background\n",
        "Racial discrimination continues to be pervasive in cultures throughout the world. Researchers examined the level of racial discrimination in the United States labor market by randomly assigning identical résumés to black-sounding or white-sounding names and observing the impact on requests for interviews from employers.\n",
        "\n",
        "### Data\n",
        "In the dataset provided, each row represents a resume. The 'race' column has two values, 'b' and 'w', indicating black-sounding and white-sounding. The column 'call' has two values, 1 and 0, indicating whether the resume received a call from employers or not.\n",
        "\n",
        "Note that the 'b' and 'w' values in race are assigned randomly to the resumes when presented to the employer."
      ]
    },
    {
      "cell_type": "markdown",
      "metadata": {
        "id": "Tc96Nw8Za8un",
        "colab_type": "text"
      },
      "source": [
        "### Exercises\n",
        "I will perform a statistical analysis to establish whether race has a significant impact on the rate of callbacks for resumes.\n",
        "\n",
        "Answer the following questions **in this notebook below and are submitted to my Github account**. \n",
        "\n",
        "   1. What test is appropriate for this problem? Does CLT apply?\n",
        "   2. What are the null and alternate hypotheses?\n",
        "   3. Compute margin of error, confidence interval, and p-value. Try using both the bootstrapping and the frequentist statistical approaches.\n",
        "   4. Write a story describing the statistical significance in the context or the original problem.\n",
        "   5. Does your analysis mean that race/name is the most important factor in callback success? Why or why not? If not, how would you amend your analysis?\n",
        "\n",
        "It can be included written notes in notebook cells using Markdown: \n",
        "   - In the control panel at the top, choose Cell > Cell Type > Markdown\n",
        "   - Markdown syntax: http://nestacms.com/docs/creating-content/markdown-cheat-sheet\n",
        "\n",
        "#### Resources\n",
        "+ Experiment information and data source: http://www.povertyactionlab.org/evaluation/discrimination-job-market-united-states\n",
        "+ Scipy statistical methods: http://docs.scipy.org/doc/scipy/reference/stats.html \n",
        "+ Markdown syntax: http://nestacms.com/docs/creating-content/markdown-cheat-sheet\n",
        "+ Formulas for the Bernoulli distribution: https://en.wikipedia.org/wiki/Bernoulli_distribution"
      ]
    },
    {
      "cell_type": "code",
      "metadata": {
        "id": "vTONY4H7bM6v",
        "colab_type": "code",
        "colab": {}
      },
      "source": [
        "%matplotlib inline\n",
        "import pandas as pd\n",
        "\n",
        "import subprocess as sp\n",
        "import sys,os,shutil,pickle,time\n",
        "import numpy as np\n",
        "from os.path import join\n",
        "from matplotlib import pyplot as plt\n",
        "plt.style.use('default')\n",
        "# mount Google Drive\n",
        "from os.path import expanduser\n",
        "gd_path=join(expanduser(\"~\"),'gd')\n",
        "if not os.path.isdir(gd_path):\n",
        "    try:\n",
        "        # load Google Drive\n",
        "        from google.colab import drive,files\n",
        "        drive.mount('/drive')\n",
        "        sp.call('ln -s /drive/My\\ Drive '+gd_path, shell=True)\n",
        "    except:\n",
        "        print('unable to find Google Drive Folder')\n",
        "os.chdir(gd_path+'/MachineLearning')\n",
        "os.listdir('.')"
      ],
      "execution_count": 0,
      "outputs": []
    },
    {
      "cell_type": "code",
      "metadata": {
        "id": "hnNlAEMRa8up",
        "colab_type": "code",
        "colab": {}
      },
      "source": [
        "import pandas as pd\n",
        "import numpy as np\n",
        "from scipy import stats"
      ],
      "execution_count": 0,
      "outputs": []
    },
    {
      "cell_type": "code",
      "metadata": {
        "id": "PFhBIeFHa8uz",
        "colab_type": "code",
        "colab": {}
      },
      "source": [
        "df = pd.io.stata.read_stata('us_job_market_discrimination.dta')\n",
        "df=data"
      ],
      "execution_count": 0,
      "outputs": []
    },
    {
      "cell_type": "code",
      "metadata": {
        "id": "GPpH96Ona8u6",
        "colab_type": "code",
        "outputId": "b2a349e3-41a9-497e-9530-bdd868e48c78",
        "colab": {
          "base_uri": "https://localhost:8080/",
          "height": 36
        }
      },
      "source": [
        "# number of callbacks for black-sounding names\n",
        "sum(data[df.race=='w'].call)"
      ],
      "execution_count": 0,
      "outputs": [
        {
          "output_type": "execute_result",
          "data": {
            "text/plain": [
              "235.0"
            ]
          },
          "metadata": {
            "tags": []
          },
          "execution_count": 14
        }
      ]
    },
    {
      "cell_type": "code",
      "metadata": {
        "id": "FDT_Ijk-a8vE",
        "colab_type": "code",
        "outputId": "4418fcac-cb41-42ce-cbed-5b75b7abde3c",
        "colab": {
          "base_uri": "https://localhost:8080/",
          "height": 226
        }
      },
      "source": [
        "df.head()"
      ],
      "execution_count": 0,
      "outputs": [
        {
          "output_type": "execute_result",
          "data": {
            "text/html": [
              "<div>\n",
              "<style scoped>\n",
              "    .dataframe tbody tr th:only-of-type {\n",
              "        vertical-align: middle;\n",
              "    }\n",
              "\n",
              "    .dataframe tbody tr th {\n",
              "        vertical-align: top;\n",
              "    }\n",
              "\n",
              "    .dataframe thead th {\n",
              "        text-align: right;\n",
              "    }\n",
              "</style>\n",
              "<table border=\"1\" class=\"dataframe\">\n",
              "  <thead>\n",
              "    <tr style=\"text-align: right;\">\n",
              "      <th></th>\n",
              "      <th>id</th>\n",
              "      <th>ad</th>\n",
              "      <th>education</th>\n",
              "      <th>ofjobs</th>\n",
              "      <th>yearsexp</th>\n",
              "      <th>honors</th>\n",
              "      <th>volunteer</th>\n",
              "      <th>military</th>\n",
              "      <th>empholes</th>\n",
              "      <th>occupspecific</th>\n",
              "      <th>occupbroad</th>\n",
              "      <th>workinschool</th>\n",
              "      <th>email</th>\n",
              "      <th>computerskills</th>\n",
              "      <th>specialskills</th>\n",
              "      <th>firstname</th>\n",
              "      <th>sex</th>\n",
              "      <th>race</th>\n",
              "      <th>h</th>\n",
              "      <th>l</th>\n",
              "      <th>call</th>\n",
              "      <th>city</th>\n",
              "      <th>kind</th>\n",
              "      <th>adid</th>\n",
              "      <th>fracblack</th>\n",
              "      <th>fracwhite</th>\n",
              "      <th>lmedhhinc</th>\n",
              "      <th>fracdropout</th>\n",
              "      <th>fraccolp</th>\n",
              "      <th>linc</th>\n",
              "      <th>col</th>\n",
              "      <th>expminreq</th>\n",
              "      <th>schoolreq</th>\n",
              "      <th>eoe</th>\n",
              "      <th>parent_sales</th>\n",
              "      <th>parent_emp</th>\n",
              "      <th>branch_sales</th>\n",
              "      <th>branch_emp</th>\n",
              "      <th>fed</th>\n",
              "      <th>fracblack_empzip</th>\n",
              "      <th>fracwhite_empzip</th>\n",
              "      <th>lmedhhinc_empzip</th>\n",
              "      <th>fracdropout_empzip</th>\n",
              "      <th>fraccolp_empzip</th>\n",
              "      <th>linc_empzip</th>\n",
              "      <th>manager</th>\n",
              "      <th>supervisor</th>\n",
              "      <th>secretary</th>\n",
              "      <th>offsupport</th>\n",
              "      <th>salesrep</th>\n",
              "      <th>retailsales</th>\n",
              "      <th>req</th>\n",
              "      <th>expreq</th>\n",
              "      <th>comreq</th>\n",
              "      <th>educreq</th>\n",
              "      <th>compreq</th>\n",
              "      <th>orgreq</th>\n",
              "      <th>manuf</th>\n",
              "      <th>transcom</th>\n",
              "      <th>bankreal</th>\n",
              "      <th>trade</th>\n",
              "      <th>busservice</th>\n",
              "      <th>othservice</th>\n",
              "      <th>missind</th>\n",
              "      <th>ownership</th>\n",
              "    </tr>\n",
              "  </thead>\n",
              "  <tbody>\n",
              "    <tr>\n",
              "      <th>0</th>\n",
              "      <td>b</td>\n",
              "      <td>1</td>\n",
              "      <td>4</td>\n",
              "      <td>2</td>\n",
              "      <td>6</td>\n",
              "      <td>0</td>\n",
              "      <td>0</td>\n",
              "      <td>0</td>\n",
              "      <td>1</td>\n",
              "      <td>17</td>\n",
              "      <td>1</td>\n",
              "      <td>0</td>\n",
              "      <td>0</td>\n",
              "      <td>1</td>\n",
              "      <td>0</td>\n",
              "      <td>Allison</td>\n",
              "      <td>f</td>\n",
              "      <td>w</td>\n",
              "      <td>0.0</td>\n",
              "      <td>1.0</td>\n",
              "      <td>0.0</td>\n",
              "      <td>c</td>\n",
              "      <td>a</td>\n",
              "      <td>384.0</td>\n",
              "      <td>0.989360</td>\n",
              "      <td>0.005500</td>\n",
              "      <td>9.527484</td>\n",
              "      <td>0.274151</td>\n",
              "      <td>0.037662</td>\n",
              "      <td>8.706325</td>\n",
              "      <td>1.0</td>\n",
              "      <td>5</td>\n",
              "      <td></td>\n",
              "      <td>1.0</td>\n",
              "      <td>NaN</td>\n",
              "      <td>NaN</td>\n",
              "      <td>NaN</td>\n",
              "      <td>NaN</td>\n",
              "      <td>NaN</td>\n",
              "      <td>NaN</td>\n",
              "      <td>NaN</td>\n",
              "      <td>NaN</td>\n",
              "      <td>NaN</td>\n",
              "      <td>NaN</td>\n",
              "      <td>NaN</td>\n",
              "      <td>0.0</td>\n",
              "      <td>1.0</td>\n",
              "      <td>0.0</td>\n",
              "      <td>0.0</td>\n",
              "      <td>0.0</td>\n",
              "      <td>0.0</td>\n",
              "      <td>1.0</td>\n",
              "      <td>1.0</td>\n",
              "      <td>0.0</td>\n",
              "      <td>0.0</td>\n",
              "      <td>1.0</td>\n",
              "      <td>0.0</td>\n",
              "      <td>1.0</td>\n",
              "      <td>0.0</td>\n",
              "      <td>0.0</td>\n",
              "      <td>0.0</td>\n",
              "      <td>0.0</td>\n",
              "      <td>0.0</td>\n",
              "      <td>0.0</td>\n",
              "      <td></td>\n",
              "    </tr>\n",
              "    <tr>\n",
              "      <th>1</th>\n",
              "      <td>b</td>\n",
              "      <td>1</td>\n",
              "      <td>3</td>\n",
              "      <td>3</td>\n",
              "      <td>6</td>\n",
              "      <td>0</td>\n",
              "      <td>1</td>\n",
              "      <td>1</td>\n",
              "      <td>0</td>\n",
              "      <td>316</td>\n",
              "      <td>6</td>\n",
              "      <td>1</td>\n",
              "      <td>1</td>\n",
              "      <td>1</td>\n",
              "      <td>0</td>\n",
              "      <td>Kristen</td>\n",
              "      <td>f</td>\n",
              "      <td>w</td>\n",
              "      <td>1.0</td>\n",
              "      <td>0.0</td>\n",
              "      <td>0.0</td>\n",
              "      <td>c</td>\n",
              "      <td>a</td>\n",
              "      <td>384.0</td>\n",
              "      <td>0.080736</td>\n",
              "      <td>0.888374</td>\n",
              "      <td>10.408828</td>\n",
              "      <td>0.233687</td>\n",
              "      <td>0.087285</td>\n",
              "      <td>9.532859</td>\n",
              "      <td>0.0</td>\n",
              "      <td>5</td>\n",
              "      <td></td>\n",
              "      <td>1.0</td>\n",
              "      <td>NaN</td>\n",
              "      <td>NaN</td>\n",
              "      <td>NaN</td>\n",
              "      <td>NaN</td>\n",
              "      <td>NaN</td>\n",
              "      <td>NaN</td>\n",
              "      <td>NaN</td>\n",
              "      <td>NaN</td>\n",
              "      <td>NaN</td>\n",
              "      <td>NaN</td>\n",
              "      <td>NaN</td>\n",
              "      <td>0.0</td>\n",
              "      <td>1.0</td>\n",
              "      <td>0.0</td>\n",
              "      <td>0.0</td>\n",
              "      <td>0.0</td>\n",
              "      <td>0.0</td>\n",
              "      <td>1.0</td>\n",
              "      <td>1.0</td>\n",
              "      <td>0.0</td>\n",
              "      <td>0.0</td>\n",
              "      <td>1.0</td>\n",
              "      <td>0.0</td>\n",
              "      <td>1.0</td>\n",
              "      <td>0.0</td>\n",
              "      <td>0.0</td>\n",
              "      <td>0.0</td>\n",
              "      <td>0.0</td>\n",
              "      <td>0.0</td>\n",
              "      <td>0.0</td>\n",
              "      <td></td>\n",
              "    </tr>\n",
              "    <tr>\n",
              "      <th>2</th>\n",
              "      <td>b</td>\n",
              "      <td>1</td>\n",
              "      <td>4</td>\n",
              "      <td>1</td>\n",
              "      <td>6</td>\n",
              "      <td>0</td>\n",
              "      <td>0</td>\n",
              "      <td>0</td>\n",
              "      <td>0</td>\n",
              "      <td>19</td>\n",
              "      <td>1</td>\n",
              "      <td>1</td>\n",
              "      <td>0</td>\n",
              "      <td>1</td>\n",
              "      <td>0</td>\n",
              "      <td>Lakisha</td>\n",
              "      <td>f</td>\n",
              "      <td>b</td>\n",
              "      <td>0.0</td>\n",
              "      <td>1.0</td>\n",
              "      <td>0.0</td>\n",
              "      <td>c</td>\n",
              "      <td>a</td>\n",
              "      <td>384.0</td>\n",
              "      <td>0.104301</td>\n",
              "      <td>0.837370</td>\n",
              "      <td>10.466754</td>\n",
              "      <td>0.101335</td>\n",
              "      <td>0.591695</td>\n",
              "      <td>10.540329</td>\n",
              "      <td>1.0</td>\n",
              "      <td>5</td>\n",
              "      <td></td>\n",
              "      <td>1.0</td>\n",
              "      <td>NaN</td>\n",
              "      <td>NaN</td>\n",
              "      <td>NaN</td>\n",
              "      <td>NaN</td>\n",
              "      <td>NaN</td>\n",
              "      <td>NaN</td>\n",
              "      <td>NaN</td>\n",
              "      <td>NaN</td>\n",
              "      <td>NaN</td>\n",
              "      <td>NaN</td>\n",
              "      <td>NaN</td>\n",
              "      <td>0.0</td>\n",
              "      <td>1.0</td>\n",
              "      <td>0.0</td>\n",
              "      <td>0.0</td>\n",
              "      <td>0.0</td>\n",
              "      <td>0.0</td>\n",
              "      <td>1.0</td>\n",
              "      <td>1.0</td>\n",
              "      <td>0.0</td>\n",
              "      <td>0.0</td>\n",
              "      <td>1.0</td>\n",
              "      <td>0.0</td>\n",
              "      <td>1.0</td>\n",
              "      <td>0.0</td>\n",
              "      <td>0.0</td>\n",
              "      <td>0.0</td>\n",
              "      <td>0.0</td>\n",
              "      <td>0.0</td>\n",
              "      <td>0.0</td>\n",
              "      <td></td>\n",
              "    </tr>\n",
              "    <tr>\n",
              "      <th>3</th>\n",
              "      <td>b</td>\n",
              "      <td>1</td>\n",
              "      <td>3</td>\n",
              "      <td>4</td>\n",
              "      <td>6</td>\n",
              "      <td>0</td>\n",
              "      <td>1</td>\n",
              "      <td>0</td>\n",
              "      <td>1</td>\n",
              "      <td>313</td>\n",
              "      <td>5</td>\n",
              "      <td>0</td>\n",
              "      <td>1</td>\n",
              "      <td>1</td>\n",
              "      <td>1</td>\n",
              "      <td>Latonya</td>\n",
              "      <td>f</td>\n",
              "      <td>b</td>\n",
              "      <td>1.0</td>\n",
              "      <td>0.0</td>\n",
              "      <td>0.0</td>\n",
              "      <td>c</td>\n",
              "      <td>a</td>\n",
              "      <td>384.0</td>\n",
              "      <td>0.336165</td>\n",
              "      <td>0.637370</td>\n",
              "      <td>10.431908</td>\n",
              "      <td>0.108848</td>\n",
              "      <td>0.406576</td>\n",
              "      <td>10.412141</td>\n",
              "      <td>0.0</td>\n",
              "      <td>5</td>\n",
              "      <td></td>\n",
              "      <td>1.0</td>\n",
              "      <td>NaN</td>\n",
              "      <td>NaN</td>\n",
              "      <td>NaN</td>\n",
              "      <td>NaN</td>\n",
              "      <td>NaN</td>\n",
              "      <td>NaN</td>\n",
              "      <td>NaN</td>\n",
              "      <td>NaN</td>\n",
              "      <td>NaN</td>\n",
              "      <td>NaN</td>\n",
              "      <td>NaN</td>\n",
              "      <td>0.0</td>\n",
              "      <td>1.0</td>\n",
              "      <td>0.0</td>\n",
              "      <td>0.0</td>\n",
              "      <td>0.0</td>\n",
              "      <td>0.0</td>\n",
              "      <td>1.0</td>\n",
              "      <td>1.0</td>\n",
              "      <td>0.0</td>\n",
              "      <td>0.0</td>\n",
              "      <td>1.0</td>\n",
              "      <td>0.0</td>\n",
              "      <td>1.0</td>\n",
              "      <td>0.0</td>\n",
              "      <td>0.0</td>\n",
              "      <td>0.0</td>\n",
              "      <td>0.0</td>\n",
              "      <td>0.0</td>\n",
              "      <td>0.0</td>\n",
              "      <td></td>\n",
              "    </tr>\n",
              "    <tr>\n",
              "      <th>4</th>\n",
              "      <td>b</td>\n",
              "      <td>1</td>\n",
              "      <td>3</td>\n",
              "      <td>3</td>\n",
              "      <td>22</td>\n",
              "      <td>0</td>\n",
              "      <td>0</td>\n",
              "      <td>0</td>\n",
              "      <td>0</td>\n",
              "      <td>313</td>\n",
              "      <td>5</td>\n",
              "      <td>1</td>\n",
              "      <td>1</td>\n",
              "      <td>1</td>\n",
              "      <td>0</td>\n",
              "      <td>Carrie</td>\n",
              "      <td>f</td>\n",
              "      <td>w</td>\n",
              "      <td>1.0</td>\n",
              "      <td>0.0</td>\n",
              "      <td>0.0</td>\n",
              "      <td>c</td>\n",
              "      <td>a</td>\n",
              "      <td>385.0</td>\n",
              "      <td>0.397595</td>\n",
              "      <td>0.180196</td>\n",
              "      <td>9.876219</td>\n",
              "      <td>0.312873</td>\n",
              "      <td>0.030847</td>\n",
              "      <td>8.728264</td>\n",
              "      <td>0.0</td>\n",
              "      <td>some</td>\n",
              "      <td></td>\n",
              "      <td>1.0</td>\n",
              "      <td>9.4</td>\n",
              "      <td>143.0</td>\n",
              "      <td>9.4</td>\n",
              "      <td>143.0</td>\n",
              "      <td>0.0</td>\n",
              "      <td>0.204764</td>\n",
              "      <td>0.727046</td>\n",
              "      <td>10.619399</td>\n",
              "      <td>0.070493</td>\n",
              "      <td>0.369903</td>\n",
              "      <td>10.007352</td>\n",
              "      <td>0.0</td>\n",
              "      <td>0.0</td>\n",
              "      <td>1.0</td>\n",
              "      <td>0.0</td>\n",
              "      <td>0.0</td>\n",
              "      <td>0.0</td>\n",
              "      <td>1.0</td>\n",
              "      <td>1.0</td>\n",
              "      <td>0.0</td>\n",
              "      <td>0.0</td>\n",
              "      <td>1.0</td>\n",
              "      <td>1.0</td>\n",
              "      <td>0.0</td>\n",
              "      <td>0.0</td>\n",
              "      <td>0.0</td>\n",
              "      <td>0.0</td>\n",
              "      <td>0.0</td>\n",
              "      <td>1.0</td>\n",
              "      <td>0.0</td>\n",
              "      <td>Nonprofit</td>\n",
              "    </tr>\n",
              "  </tbody>\n",
              "</table>\n",
              "</div>"
            ],
            "text/plain": [
              "  id ad  education  ofjobs  ...  busservice  othservice  missind  ownership\n",
              "0  b  1          4       2  ...         0.0         0.0      0.0           \n",
              "1  b  1          3       3  ...         0.0         0.0      0.0           \n",
              "2  b  1          4       1  ...         0.0         0.0      0.0           \n",
              "3  b  1          3       4  ...         0.0         0.0      0.0           \n",
              "4  b  1          3       3  ...         0.0         1.0      0.0  Nonprofit\n",
              "\n",
              "[5 rows x 65 columns]"
            ]
          },
          "metadata": {
            "tags": []
          },
          "execution_count": 15
        }
      ]
    },
    {
      "cell_type": "code",
      "metadata": {
        "id": "-9Uk5UOWJoTi",
        "colab_type": "code",
        "outputId": "4fef42e5-80e3-410a-8527-796ef10d28b9",
        "colab": {
          "base_uri": "https://localhost:8080/",
          "height": 36
        }
      },
      "source": [
        "len(data)"
      ],
      "execution_count": 0,
      "outputs": [
        {
          "output_type": "execute_result",
          "data": {
            "text/plain": [
              "4870"
            ]
          },
          "metadata": {
            "tags": []
          },
          "execution_count": 28
        }
      ]
    },
    {
      "cell_type": "markdown",
      "metadata": {
        "id": "QHQiCskaC52r",
        "colab_type": "text"
      },
      "source": [
        "#### Q1) What test is appropriate for this problem? Does CLT apply?\n",
        "CLT applies because we assume that the samples are representative of the population. The sample size is 4870. Literature typically suggests a lower limit of 30 observations in a sample for CLT to hold. In terms of CLT, the sample is large enough.\n",
        "\n",
        "#### Q2) What are the null and alternate hypotheses?\n",
        "Null hypotesis: Race does not have a impact on the rate of callbacks for resumes.\n",
        "\n",
        "Alternative Hypotesis: Race has a significant impact on the rate of callbacks for resumes."
      ]
    },
    {
      "cell_type": "markdown",
      "metadata": {
        "id": "JfnezHi2e_Zy",
        "colab_type": "text"
      },
      "source": [
        "We have two categorical variables here: race and call. Chi-square is the appriate method for investitating the relation.\n"
      ]
    },
    {
      "cell_type": "markdown",
      "metadata": {
        "id": "03phSepUD-se",
        "colab_type": "text"
      },
      "source": [
        "#### Q3) Compute margin of error, confidence interval, and p-value. Try using both the bootstrapping and the frequentist statistical approaches.\n"
      ]
    },
    {
      "cell_type": "code",
      "metadata": {
        "id": "T1XpJLPUa8vN",
        "colab_type": "code",
        "outputId": "8439d6b1-43dc-4468-9b2d-6e06b2685e83",
        "colab": {
          "base_uri": "https://localhost:8080/",
          "height": 112
        }
      },
      "source": [
        "w = data[df.race=='w']\n",
        "b = data[df.race=='b']\n",
        "\n",
        "n_w = len(w)\n",
        "n_b = len(b)\n",
        "\n",
        "prop_w = np.sum(w.call) / len(w)\n",
        "prop_b = np.sum(b.call) / len(b)\n",
        "\n",
        "prop_diff = prop_w - prop_b\n",
        "phat = (np.sum(w.call) + np.sum(b.call)) / (len(w) + len(b))\n",
        "\n",
        "z = prop_diff / np.sqrt(phat * (1 - phat) * ((1 / n_w) + (1 / n_b)))\n",
        "pval = stats.norm.cdf(-z) * 2\n",
        "print(\"Z score: {}\".format(z))\n",
        "print(\"P-value: {}\".format(pval))"
      ],
      "execution_count": 0,
      "outputs": [
        {
          "output_type": "stream",
          "text": [
            "Z score: inf\n",
            "P-value: 0.0\n"
          ],
          "name": "stdout"
        },
        {
          "output_type": "stream",
          "text": [
            "/usr/local/lib/python2.7/dist-packages/ipykernel_launcher.py:13: RuntimeWarning: divide by zero encountered in double_scalars\n",
            "  del sys.path[0]\n"
          ],
          "name": "stderr"
        }
      ]
    },
    {
      "cell_type": "code",
      "metadata": {
        "id": "OwLLCd1oM76d",
        "colab_type": "code",
        "outputId": "cd610117-a1b9-4e68-f726-fe70eeba8d58",
        "colab": {
          "base_uri": "https://localhost:8080/",
          "height": 36
        }
      },
      "source": [
        "prop_w\n"
      ],
      "execution_count": 0,
      "outputs": [
        {
          "output_type": "execute_result",
          "data": {
            "text/plain": [
              "0.09650924024640657"
            ]
          },
          "metadata": {
            "tags": []
          },
          "execution_count": 34
        }
      ]
    },
    {
      "cell_type": "code",
      "metadata": {
        "id": "5LteTE32NBj5",
        "colab_type": "code",
        "outputId": "b154985d-e3f7-471e-e407-b6d44e248647",
        "colab": {
          "base_uri": "https://localhost:8080/",
          "height": 36
        }
      },
      "source": [
        "prop_b "
      ],
      "execution_count": 0,
      "outputs": [
        {
          "output_type": "execute_result",
          "data": {
            "text/plain": [
              "0.06447638603696099"
            ]
          },
          "metadata": {
            "tags": []
          },
          "execution_count": 35
        }
      ]
    },
    {
      "cell_type": "code",
      "metadata": {
        "id": "b1sK-gmlEydT",
        "colab_type": "code",
        "outputId": "26e02f5b-47fc-4098-97c2-cb0b1fe85fb3",
        "colab": {
          "base_uri": "https://localhost:8080/",
          "height": 36
        }
      },
      "source": [
        "#Frequentist Approach\n",
        "permutation_replicates = np.empty(100000)\n",
        "\n",
        "white = data[data.race == 'w'].call.values\n",
        "black = data[data.race == 'b'].call.values\n",
        "diff_of_means = np.mean(white) - np.mean(black)\n",
        "\n",
        "for i in range(len(permutation_replicates)):\n",
        "    permutation_samples = np.random.permutation(np.concatenate((white, black)))\n",
        "    \n",
        "    white_perm = permutation_samples[:len(white)]\n",
        "    black_perm = permutation_samples[len(white):]\n",
        "    \n",
        "    permutation_replicates[i] = np.abs(np.mean(white_perm) - np.mean(black_perm))\n",
        "\n",
        "p = np.sum(permutation_replicates > diff_of_means) / len(permutation_replicates)\n",
        "print('p =', p)"
      ],
      "execution_count": 0,
      "outputs": [
        {
          "output_type": "stream",
          "text": [
            "('p =', 0)\n"
          ],
          "name": "stdout"
        }
      ]
    },
    {
      "cell_type": "code",
      "metadata": {
        "id": "5rsUZIV8Laca",
        "colab_type": "code",
        "outputId": "3faf647f-854f-4742-af72-6e189285a3fc",
        "colab": {
          "base_uri": "https://localhost:8080/",
          "height": 55
        }
      },
      "source": [
        "moe = 1.96 * np.sqrt(phat * (1 - phat) * ((1 / n_w) + (1 / n_b)))\n",
        "ci = prop_diff + np.array([-1, 1]) * moe\n",
        "print(\"Margin of Error: {}\".format(moe))\n",
        "print(\"Confidence interval: {}\".format(ci))"
      ],
      "execution_count": 0,
      "outputs": [
        {
          "output_type": "stream",
          "text": [
            "Margin of Error: 0.0\n",
            "Confidence interval: [0.03203285 0.03203285]\n"
          ],
          "name": "stdout"
        }
      ]
    },
    {
      "cell_type": "markdown",
      "metadata": {
        "id": "8FxmdB8wa8vY",
        "colab_type": "text"
      },
      "source": [
        "####  Q4) Write a story describing the statistical significance in the context or the original problem.\n",
        "\n",
        "The results shows that there is significance relation between rate of callbacks and race. White people have higher call back rates compared to black people when they apply a job.\n",
        "  \n",
        "####  Q5) Does your analysis mean that race/name is the most important factor in callback success? Why or why not? If not, how would you amend your analysis?\n",
        "\n",
        "No, my analysis does not imply that race is the most significant factor in callback success. We need to keep in mind that there can be other elements such as socio-cultural factors, socio-economic status etc. Taking a look at litetature on this field may provide us a better understanding about the nature of the issue. With a better knowledge on the subject, we can make more robust inferences. "
      ]
    }
  ]
}