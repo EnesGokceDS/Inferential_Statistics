{
  "nbformat": 4,
  "nbformat_minor": 0,
  "metadata": {
    "colab": {
      "name": "Inferential_statistics.ipynb",
      "provenance": [],
      "collapsed_sections": [],
      "include_colab_link": true
    },
    "kernelspec": {
      "name": "python3",
      "display_name": "Python 3"
    }
  },
  "cells": [
    {
      "cell_type": "markdown",
      "metadata": {
        "id": "view-in-github",
        "colab_type": "text"
      },
      "source": [
        "<a href=\"https://colab.research.google.com/github/Raizel820/Inferential_Statistics/blob/master/Inferential_statistics.ipynb\" target=\"_parent\"><img src=\"https://colab.research.google.com/assets/colab-badge.svg\" alt=\"Open In Colab\"/></a>"
      ]
    },
    {
      "cell_type": "code",
      "metadata": {
        "id": "yBWUgcVxCqrV",
        "colab_type": "code",
        "outputId": "14707da6-7dbe-4f42-d3f1-08200890fc74",
        "colab": {
          "base_uri": "https://localhost:8080/",
          "height": 144
        }
      },
      "source": [
        "import subprocess as sp\n",
        "import sys,os,shutil,pickle,time\n",
        "from os.path import join\n",
        "# mount Google Drive\n",
        "from os.path import expanduser\n",
        "gd_path=join(expanduser(\"~\"),'gd')\n",
        "if not os.path.isdir(gd_path):\n",
        "    try:\n",
        "        # load Google Drive\n",
        "        from google.colab import drive,files\n",
        "        drive.mount('/drive')\n",
        "        sp.call('ln -s /drive/My\\ Drive '+gd_path, shell=True)\n",
        "    except:\n",
        "        print('unable to find Google Drive Folder')\n",
        "os.chdir(gd_path+'/MachineLearning/car_data')\n",
        "os.listdir('.')"
      ],
      "execution_count": 1,
      "outputs": [
        {
          "output_type": "stream",
          "text": [
            "Go to this URL in a browser: https://accounts.google.com/o/oauth2/auth?client_id=947318989803-6bn6qk8qdgf4n4g3pfee6491hc0brc4i.apps.googleusercontent.com&redirect_uri=urn%3aietf%3awg%3aoauth%3a2.0%3aoob&response_type=code&scope=email%20https%3a%2f%2fwww.googleapis.com%2fauth%2fdocs.test%20https%3a%2f%2fwww.googleapis.com%2fauth%2fdrive%20https%3a%2f%2fwww.googleapis.com%2fauth%2fdrive.photos.readonly%20https%3a%2f%2fwww.googleapis.com%2fauth%2fpeopleapi.readonly\n",
            "\n",
            "Enter your authorization code:\n",
            "··········\n",
            "Mounted at /drive\n"
          ],
          "name": "stdout"
        },
        {
          "output_type": "execute_result",
          "data": {
            "text/plain": [
              "['craigslistVehicles_full.csv', 'cars_cleaned.csv']"
            ]
          },
          "metadata": {
            "tags": []
          },
          "execution_count": 1
        }
      ]
    },
    {
      "cell_type": "code",
      "metadata": {
        "id": "YSTd4r0tDF_m",
        "colab_type": "code",
        "colab": {}
      },
      "source": [
        "import pandas as pd"
      ],
      "execution_count": 0,
      "outputs": []
    },
    {
      "cell_type": "code",
      "metadata": {
        "id": "zHVk28XNDGK0",
        "colab_type": "code",
        "outputId": "bedcb0f7-ba4c-4a47-825b-db5db1a688a8",
        "colab": {
          "base_uri": "https://localhost:8080/",
          "height": 206
        }
      },
      "source": [
        "df = pd.read_csv('cars_cleaned.csv')\n",
        "df.sample(5)"
      ],
      "execution_count": 5,
      "outputs": [
        {
          "output_type": "execute_result",
          "data": {
            "text/html": [
              "<div>\n",
              "<style scoped>\n",
              "    .dataframe tbody tr th:only-of-type {\n",
              "        vertical-align: middle;\n",
              "    }\n",
              "\n",
              "    .dataframe tbody tr th {\n",
              "        vertical-align: top;\n",
              "    }\n",
              "\n",
              "    .dataframe thead th {\n",
              "        text-align: right;\n",
              "    }\n",
              "</style>\n",
              "<table border=\"1\" class=\"dataframe\">\n",
              "  <thead>\n",
              "    <tr style=\"text-align: right;\">\n",
              "      <th></th>\n",
              "      <th>price</th>\n",
              "      <th>year</th>\n",
              "      <th>manufacturer</th>\n",
              "      <th>make</th>\n",
              "      <th>condition</th>\n",
              "      <th>cylinders</th>\n",
              "      <th>fuel</th>\n",
              "      <th>odometer</th>\n",
              "      <th>title_status</th>\n",
              "      <th>transmission</th>\n",
              "      <th>drive</th>\n",
              "      <th>size</th>\n",
              "      <th>type</th>\n",
              "      <th>paint_color</th>\n",
              "    </tr>\n",
              "  </thead>\n",
              "  <tbody>\n",
              "    <tr>\n",
              "      <th>162375</th>\n",
              "      <td>4995</td>\n",
              "      <td>2003.0</td>\n",
              "      <td>nissan</td>\n",
              "      <td>murano</td>\n",
              "      <td>good</td>\n",
              "      <td>6 cylinders</td>\n",
              "      <td>gas</td>\n",
              "      <td>90697.0</td>\n",
              "      <td>clean</td>\n",
              "      <td>automatic</td>\n",
              "      <td>fwd</td>\n",
              "      <td>full-size</td>\n",
              "      <td>SUV</td>\n",
              "      <td>grey</td>\n",
              "    </tr>\n",
              "    <tr>\n",
              "      <th>150584</th>\n",
              "      <td>7890</td>\n",
              "      <td>2009.0</td>\n",
              "      <td>gmc</td>\n",
              "      <td>acadia</td>\n",
              "      <td>good</td>\n",
              "      <td>6 cylinders</td>\n",
              "      <td>gas</td>\n",
              "      <td>118626.0</td>\n",
              "      <td>clean</td>\n",
              "      <td>automatic</td>\n",
              "      <td>4wd</td>\n",
              "      <td>full-size</td>\n",
              "      <td>other</td>\n",
              "      <td>black</td>\n",
              "    </tr>\n",
              "    <tr>\n",
              "      <th>142193</th>\n",
              "      <td>10900</td>\n",
              "      <td>2014.0</td>\n",
              "      <td>dodge</td>\n",
              "      <td>journey</td>\n",
              "      <td>good</td>\n",
              "      <td>8 cylinders</td>\n",
              "      <td>gas</td>\n",
              "      <td>79100.0</td>\n",
              "      <td>clean</td>\n",
              "      <td>automatic</td>\n",
              "      <td>fwd</td>\n",
              "      <td>full-size</td>\n",
              "      <td>SUV</td>\n",
              "      <td>orange</td>\n",
              "    </tr>\n",
              "    <tr>\n",
              "      <th>279053</th>\n",
              "      <td>6950</td>\n",
              "      <td>2004.0</td>\n",
              "      <td>toyota</td>\n",
              "      <td>highlander</td>\n",
              "      <td>excellent</td>\n",
              "      <td>6 cylinders</td>\n",
              "      <td>gas</td>\n",
              "      <td>156100.0</td>\n",
              "      <td>clean</td>\n",
              "      <td>automatic</td>\n",
              "      <td>4wd</td>\n",
              "      <td>mid-size</td>\n",
              "      <td>SUV</td>\n",
              "      <td>red</td>\n",
              "    </tr>\n",
              "    <tr>\n",
              "      <th>272506</th>\n",
              "      <td>25499</td>\n",
              "      <td>2013.0</td>\n",
              "      <td>jeep</td>\n",
              "      <td>wrangler unlimited sahara</td>\n",
              "      <td>excellent</td>\n",
              "      <td>6 cylinders</td>\n",
              "      <td>gas</td>\n",
              "      <td>62601.0</td>\n",
              "      <td>clean</td>\n",
              "      <td>automatic</td>\n",
              "      <td>4wd</td>\n",
              "      <td>full-size</td>\n",
              "      <td>SUV</td>\n",
              "      <td>green</td>\n",
              "    </tr>\n",
              "  </tbody>\n",
              "</table>\n",
              "</div>"
            ],
            "text/plain": [
              "        price    year manufacturer  ...       size   type paint_color\n",
              "162375   4995  2003.0       nissan  ...  full-size    SUV        grey\n",
              "150584   7890  2009.0          gmc  ...  full-size  other       black\n",
              "142193  10900  2014.0        dodge  ...  full-size    SUV      orange\n",
              "279053   6950  2004.0       toyota  ...   mid-size    SUV         red\n",
              "272506  25499  2013.0         jeep  ...  full-size    SUV       green\n",
              "\n",
              "[5 rows x 14 columns]"
            ]
          },
          "metadata": {
            "tags": []
          },
          "execution_count": 5
        }
      ]
    },
    {
      "cell_type": "code",
      "metadata": {
        "id": "NBmmhA-rLWSs",
        "colab_type": "code",
        "outputId": "dd654463-e0a3-4a73-bd7d-5ae8e66ec4a2",
        "colab": {
          "base_uri": "https://localhost:8080/",
          "height": 300
        }
      },
      "source": [
        "round(df.describe(), 0)"
      ],
      "execution_count": 0,
      "outputs": [
        {
          "output_type": "execute_result",
          "data": {
            "text/html": [
              "<div>\n",
              "<style scoped>\n",
              "    .dataframe tbody tr th:only-of-type {\n",
              "        vertical-align: middle;\n",
              "    }\n",
              "\n",
              "    .dataframe tbody tr th {\n",
              "        vertical-align: top;\n",
              "    }\n",
              "\n",
              "    .dataframe thead th {\n",
              "        text-align: right;\n",
              "    }\n",
              "</style>\n",
              "<table border=\"1\" class=\"dataframe\">\n",
              "  <thead>\n",
              "    <tr style=\"text-align: right;\">\n",
              "      <th></th>\n",
              "      <th>price</th>\n",
              "      <th>year</th>\n",
              "      <th>odometer</th>\n",
              "    </tr>\n",
              "  </thead>\n",
              "  <tbody>\n",
              "    <tr>\n",
              "      <th>count</th>\n",
              "      <td>375332.0</td>\n",
              "      <td>375332.0</td>\n",
              "      <td>375332.0</td>\n",
              "    </tr>\n",
              "    <tr>\n",
              "      <th>mean</th>\n",
              "      <td>14370.0</td>\n",
              "      <td>2010.0</td>\n",
              "      <td>104711.0</td>\n",
              "    </tr>\n",
              "    <tr>\n",
              "      <th>std</th>\n",
              "      <td>11010.0</td>\n",
              "      <td>6.0</td>\n",
              "      <td>58064.0</td>\n",
              "    </tr>\n",
              "    <tr>\n",
              "      <th>min</th>\n",
              "      <td>750.0</td>\n",
              "      <td>1986.0</td>\n",
              "      <td>1005.0</td>\n",
              "    </tr>\n",
              "    <tr>\n",
              "      <th>25%</th>\n",
              "      <td>5995.0</td>\n",
              "      <td>2007.0</td>\n",
              "      <td>58676.0</td>\n",
              "    </tr>\n",
              "    <tr>\n",
              "      <th>50%</th>\n",
              "      <td>11850.0</td>\n",
              "      <td>2011.0</td>\n",
              "      <td>101364.0</td>\n",
              "    </tr>\n",
              "    <tr>\n",
              "      <th>75%</th>\n",
              "      <td>19875.0</td>\n",
              "      <td>2015.0</td>\n",
              "      <td>143842.0</td>\n",
              "    </tr>\n",
              "    <tr>\n",
              "      <th>max</th>\n",
              "      <td>99999.0</td>\n",
              "      <td>2020.0</td>\n",
              "      <td>299999.0</td>\n",
              "    </tr>\n",
              "  </tbody>\n",
              "</table>\n",
              "</div>"
            ],
            "text/plain": [
              "          price      year  odometer\n",
              "count  375332.0  375332.0  375332.0\n",
              "mean    14370.0    2010.0  104711.0\n",
              "std     11010.0       6.0   58064.0\n",
              "min       750.0    1986.0    1005.0\n",
              "25%      5995.0    2007.0   58676.0\n",
              "50%     11850.0    2011.0  101364.0\n",
              "75%     19875.0    2015.0  143842.0\n",
              "max     99999.0    2020.0  299999.0"
            ]
          },
          "metadata": {
            "tags": []
          },
          "execution_count": 35
        }
      ]
    },
    {
      "cell_type": "code",
      "metadata": {
        "id": "cmSOS0JHLYzg",
        "colab_type": "code",
        "outputId": "8fb4d2be-6bf4-41c1-c9d3-e7962b278fb0",
        "colab": {
          "base_uri": "https://localhost:8080/",
          "height": 280
        }
      },
      "source": [
        "sorted(df)"
      ],
      "execution_count": 0,
      "outputs": [
        {
          "output_type": "execute_result",
          "data": {
            "text/plain": [
              "['condition',\n",
              " 'cylinders',\n",
              " 'drive',\n",
              " 'fuel',\n",
              " 'make',\n",
              " 'manufacturer',\n",
              " 'odometer',\n",
              " 'paint_color',\n",
              " 'price',\n",
              " 'size',\n",
              " 'title_status',\n",
              " 'transmission',\n",
              " 'type',\n",
              " 'year']"
            ]
          },
          "metadata": {
            "tags": []
          },
          "execution_count": 36
        }
      ]
    },
    {
      "cell_type": "code",
      "metadata": {
        "id": "trwHt8ZcyA90",
        "colab_type": "code",
        "outputId": "5647e078-eed4-4374-8177-5e984d851d0c",
        "colab": {
          "base_uri": "https://localhost:8080/",
          "height": 300
        }
      },
      "source": [
        "round(df[['price', 'condition']].groupby(['condition']).describe(), 2)"
      ],
      "execution_count": 0,
      "outputs": [
        {
          "output_type": "execute_result",
          "data": {
            "text/html": [
              "<div>\n",
              "<style scoped>\n",
              "    .dataframe tbody tr th:only-of-type {\n",
              "        vertical-align: middle;\n",
              "    }\n",
              "\n",
              "    .dataframe tbody tr th {\n",
              "        vertical-align: top;\n",
              "    }\n",
              "\n",
              "    .dataframe thead tr th {\n",
              "        text-align: left;\n",
              "    }\n",
              "\n",
              "    .dataframe thead tr:last-of-type th {\n",
              "        text-align: right;\n",
              "    }\n",
              "</style>\n",
              "<table border=\"1\" class=\"dataframe\">\n",
              "  <thead>\n",
              "    <tr>\n",
              "      <th></th>\n",
              "      <th colspan=\"8\" halign=\"left\">price</th>\n",
              "    </tr>\n",
              "    <tr>\n",
              "      <th></th>\n",
              "      <th>count</th>\n",
              "      <th>mean</th>\n",
              "      <th>std</th>\n",
              "      <th>min</th>\n",
              "      <th>25%</th>\n",
              "      <th>50%</th>\n",
              "      <th>75%</th>\n",
              "      <th>max</th>\n",
              "    </tr>\n",
              "    <tr>\n",
              "      <th>condition</th>\n",
              "      <th></th>\n",
              "      <th></th>\n",
              "      <th></th>\n",
              "      <th></th>\n",
              "      <th></th>\n",
              "      <th></th>\n",
              "      <th></th>\n",
              "      <th></th>\n",
              "    </tr>\n",
              "  </thead>\n",
              "  <tbody>\n",
              "    <tr>\n",
              "      <th>excellent</th>\n",
              "      <td>153863.0</td>\n",
              "      <td>14492.84</td>\n",
              "      <td>10079.87</td>\n",
              "      <td>750.0</td>\n",
              "      <td>6998.0</td>\n",
              "      <td>11995.0</td>\n",
              "      <td>18995.0</td>\n",
              "      <td>99975.0</td>\n",
              "    </tr>\n",
              "    <tr>\n",
              "      <th>fair</th>\n",
              "      <td>21728.0</td>\n",
              "      <td>6448.94</td>\n",
              "      <td>6204.25</td>\n",
              "      <td>750.0</td>\n",
              "      <td>2250.0</td>\n",
              "      <td>4003.0</td>\n",
              "      <td>8500.0</td>\n",
              "      <td>85000.0</td>\n",
              "    </tr>\n",
              "    <tr>\n",
              "      <th>good</th>\n",
              "      <td>95136.0</td>\n",
              "      <td>10988.28</td>\n",
              "      <td>8818.59</td>\n",
              "      <td>750.0</td>\n",
              "      <td>4000.0</td>\n",
              "      <td>7999.0</td>\n",
              "      <td>15900.0</td>\n",
              "      <td>99997.0</td>\n",
              "    </tr>\n",
              "    <tr>\n",
              "      <th>like new</th>\n",
              "      <td>67102.0</td>\n",
              "      <td>22397.07</td>\n",
              "      <td>12569.97</td>\n",
              "      <td>750.0</td>\n",
              "      <td>13990.0</td>\n",
              "      <td>19995.0</td>\n",
              "      <td>28999.0</td>\n",
              "      <td>99999.0</td>\n",
              "    </tr>\n",
              "    <tr>\n",
              "      <th>new</th>\n",
              "      <td>3448.0</td>\n",
              "      <td>30019.38</td>\n",
              "      <td>14791.83</td>\n",
              "      <td>850.0</td>\n",
              "      <td>19999.0</td>\n",
              "      <td>28999.5</td>\n",
              "      <td>37455.0</td>\n",
              "      <td>99500.0</td>\n",
              "    </tr>\n",
              "    <tr>\n",
              "      <th>salvage</th>\n",
              "      <td>34055.0</td>\n",
              "      <td>10913.53</td>\n",
              "      <td>8114.61</td>\n",
              "      <td>750.0</td>\n",
              "      <td>5000.0</td>\n",
              "      <td>8400.0</td>\n",
              "      <td>14498.0</td>\n",
              "      <td>85000.0</td>\n",
              "    </tr>\n",
              "  </tbody>\n",
              "</table>\n",
              "</div>"
            ],
            "text/plain": [
              "              price                      ...                           \n",
              "              count      mean       std  ...      50%      75%      max\n",
              "condition                                ...                           \n",
              "excellent  153863.0  14492.84  10079.87  ...  11995.0  18995.0  99975.0\n",
              "fair        21728.0   6448.94   6204.25  ...   4003.0   8500.0  85000.0\n",
              "good        95136.0  10988.28   8818.59  ...   7999.0  15900.0  99997.0\n",
              "like new    67102.0  22397.07  12569.97  ...  19995.0  28999.0  99999.0\n",
              "new          3448.0  30019.38  14791.83  ...  28999.5  37455.0  99500.0\n",
              "salvage     34055.0  10913.53   8114.61  ...   8400.0  14498.0  85000.0\n",
              "\n",
              "[6 rows x 8 columns]"
            ]
          },
          "metadata": {
            "tags": []
          },
          "execution_count": 39
        }
      ]
    },
    {
      "cell_type": "code",
      "metadata": {
        "id": "5kpjp5sKz1kH",
        "colab_type": "code",
        "outputId": "cc545f9a-a23c-40b1-e208-24d77cfbb654",
        "colab": {
          "base_uri": "https://localhost:8080/",
          "height": 206
        }
      },
      "source": [
        "a= df[['odometer', 'drive']].groupby(['drive']).describe()\n",
        "round(a,1)"
      ],
      "execution_count": 0,
      "outputs": [
        {
          "output_type": "execute_result",
          "data": {
            "text/html": [
              "<div>\n",
              "<style scoped>\n",
              "    .dataframe tbody tr th:only-of-type {\n",
              "        vertical-align: middle;\n",
              "    }\n",
              "\n",
              "    .dataframe tbody tr th {\n",
              "        vertical-align: top;\n",
              "    }\n",
              "\n",
              "    .dataframe thead tr th {\n",
              "        text-align: left;\n",
              "    }\n",
              "\n",
              "    .dataframe thead tr:last-of-type th {\n",
              "        text-align: right;\n",
              "    }\n",
              "</style>\n",
              "<table border=\"1\" class=\"dataframe\">\n",
              "  <thead>\n",
              "    <tr>\n",
              "      <th></th>\n",
              "      <th colspan=\"8\" halign=\"left\">odometer</th>\n",
              "    </tr>\n",
              "    <tr>\n",
              "      <th></th>\n",
              "      <th>count</th>\n",
              "      <th>mean</th>\n",
              "      <th>std</th>\n",
              "      <th>min</th>\n",
              "      <th>25%</th>\n",
              "      <th>50%</th>\n",
              "      <th>75%</th>\n",
              "      <th>max</th>\n",
              "    </tr>\n",
              "    <tr>\n",
              "      <th>drive</th>\n",
              "      <th></th>\n",
              "      <th></th>\n",
              "      <th></th>\n",
              "      <th></th>\n",
              "      <th></th>\n",
              "      <th></th>\n",
              "      <th></th>\n",
              "      <th></th>\n",
              "    </tr>\n",
              "  </thead>\n",
              "  <tbody>\n",
              "    <tr>\n",
              "      <th>4wd</th>\n",
              "      <td>172552.0</td>\n",
              "      <td>108591.1</td>\n",
              "      <td>58921.0</td>\n",
              "      <td>1016.0</td>\n",
              "      <td>63000.0</td>\n",
              "      <td>105565.5</td>\n",
              "      <td>148000.0</td>\n",
              "      <td>299950.0</td>\n",
              "    </tr>\n",
              "    <tr>\n",
              "      <th>fwd</th>\n",
              "      <td>134170.0</td>\n",
              "      <td>99976.8</td>\n",
              "      <td>55391.5</td>\n",
              "      <td>1031.0</td>\n",
              "      <td>54372.8</td>\n",
              "      <td>97388.0</td>\n",
              "      <td>138000.0</td>\n",
              "      <td>299999.0</td>\n",
              "    </tr>\n",
              "    <tr>\n",
              "      <th>rwd</th>\n",
              "      <td>68610.0</td>\n",
              "      <td>104209.4</td>\n",
              "      <td>60252.1</td>\n",
              "      <td>1005.0</td>\n",
              "      <td>56501.0</td>\n",
              "      <td>99653.0</td>\n",
              "      <td>144705.0</td>\n",
              "      <td>299950.0</td>\n",
              "    </tr>\n",
              "  </tbody>\n",
              "</table>\n",
              "</div>"
            ],
            "text/plain": [
              "       odometer                     ...                              \n",
              "          count      mean      std  ...       50%       75%       max\n",
              "drive                               ...                              \n",
              "4wd    172552.0  108591.1  58921.0  ...  105565.5  148000.0  299950.0\n",
              "fwd    134170.0   99976.8  55391.5  ...   97388.0  138000.0  299999.0\n",
              "rwd     68610.0  104209.4  60252.1  ...   99653.0  144705.0  299950.0\n",
              "\n",
              "[3 rows x 8 columns]"
            ]
          },
          "metadata": {
            "tags": []
          },
          "execution_count": 40
        }
      ]
    },
    {
      "cell_type": "code",
      "metadata": {
        "id": "68yYn5MDUma3",
        "colab_type": "code",
        "colab": {}
      },
      "source": [
        "!pip install -q researchpy"
      ],
      "execution_count": 0,
      "outputs": []
    },
    {
      "cell_type": "code",
      "metadata": {
        "id": "WlZrRgAfUmgl",
        "colab_type": "code",
        "colab": {}
      },
      "source": [
        "import researchpy as rp\n",
        "from scipy import stats"
      ],
      "execution_count": 0,
      "outputs": []
    },
    {
      "cell_type": "code",
      "metadata": {
        "id": "S-vd1i9fUmkj",
        "colab_type": "code",
        "outputId": "f3e743ce-1de1-4c9a-91f1-df3fed3c03c6",
        "colab": {
          "base_uri": "https://localhost:8080/",
          "height": 212
        }
      },
      "source": [
        "rp.summary_cont(df.groupby(\"drive\")['odometer'])"
      ],
      "execution_count": 0,
      "outputs": [
        {
          "output_type": "stream",
          "text": [
            "\n",
            "\n"
          ],
          "name": "stdout"
        },
        {
          "output_type": "execute_result",
          "data": {
            "text/html": [
              "<div>\n",
              "<style scoped>\n",
              "    .dataframe tbody tr th:only-of-type {\n",
              "        vertical-align: middle;\n",
              "    }\n",
              "\n",
              "    .dataframe tbody tr th {\n",
              "        vertical-align: top;\n",
              "    }\n",
              "\n",
              "    .dataframe thead th {\n",
              "        text-align: right;\n",
              "    }\n",
              "</style>\n",
              "<table border=\"1\" class=\"dataframe\">\n",
              "  <thead>\n",
              "    <tr style=\"text-align: right;\">\n",
              "      <th></th>\n",
              "      <th>N</th>\n",
              "      <th>Mean</th>\n",
              "      <th>SD</th>\n",
              "      <th>SE</th>\n",
              "      <th>95% Conf.</th>\n",
              "      <th>Interval</th>\n",
              "    </tr>\n",
              "    <tr>\n",
              "      <th>drive</th>\n",
              "      <th></th>\n",
              "      <th></th>\n",
              "      <th></th>\n",
              "      <th></th>\n",
              "      <th></th>\n",
              "      <th></th>\n",
              "    </tr>\n",
              "  </thead>\n",
              "  <tbody>\n",
              "    <tr>\n",
              "      <th>4wd</th>\n",
              "      <td>172552</td>\n",
              "      <td>108591.132053</td>\n",
              "      <td>58920.994163</td>\n",
              "      <td>141.843705</td>\n",
              "      <td>108313.117585</td>\n",
              "      <td>108869.146521</td>\n",
              "    </tr>\n",
              "    <tr>\n",
              "      <th>fwd</th>\n",
              "      <td>134170</td>\n",
              "      <td>99976.766483</td>\n",
              "      <td>55391.453078</td>\n",
              "      <td>151.222025</td>\n",
              "      <td>99680.370210</td>\n",
              "      <td>100273.162756</td>\n",
              "    </tr>\n",
              "    <tr>\n",
              "      <th>rwd</th>\n",
              "      <td>68610</td>\n",
              "      <td>104209.385250</td>\n",
              "      <td>60252.134990</td>\n",
              "      <td>230.026955</td>\n",
              "      <td>103758.529132</td>\n",
              "      <td>104660.241368</td>\n",
              "    </tr>\n",
              "  </tbody>\n",
              "</table>\n",
              "</div>"
            ],
            "text/plain": [
              "            N           Mean  ...      95% Conf.       Interval\n",
              "drive                         ...                              \n",
              "4wd    172552  108591.132053  ...  108313.117585  108869.146521\n",
              "fwd    134170   99976.766483  ...   99680.370210  100273.162756\n",
              "rwd     68610  104209.385250  ...  103758.529132  104660.241368\n",
              "\n",
              "[3 rows x 6 columns]"
            ]
          },
          "metadata": {
            "tags": []
          },
          "execution_count": 43
        }
      ]
    },
    {
      "cell_type": "code",
      "metadata": {
        "id": "wdRiaS3IVf5H",
        "colab_type": "code",
        "outputId": "8063ff88-65b3-40f6-8217-440a49175c10",
        "colab": {
          "base_uri": "https://localhost:8080/",
          "height": 280
        }
      },
      "source": [
        "sorted(df)"
      ],
      "execution_count": 0,
      "outputs": [
        {
          "output_type": "execute_result",
          "data": {
            "text/plain": [
              "['condition',\n",
              " 'cylinders',\n",
              " 'drive',\n",
              " 'fuel',\n",
              " 'make',\n",
              " 'manufacturer',\n",
              " 'odometer',\n",
              " 'paint_color',\n",
              " 'price',\n",
              " 'size',\n",
              " 'title_status',\n",
              " 'transmission',\n",
              " 'type',\n",
              " 'year']"
            ]
          },
          "metadata": {
            "tags": []
          },
          "execution_count": 44
        }
      ]
    },
    {
      "cell_type": "code",
      "metadata": {
        "id": "wdU40IqKVN3l",
        "colab_type": "code",
        "outputId": "226dde79-e8fc-418d-9178-e81acb3ae421",
        "colab": {
          "base_uri": "https://localhost:8080/",
          "height": 1000
        }
      },
      "source": [
        "rp.summary_cat(df[['type','condition','manufacturer' ]])"
      ],
      "execution_count": 0,
      "outputs": [
        {
          "output_type": "execute_result",
          "data": {
            "text/html": [
              "<div>\n",
              "<style scoped>\n",
              "    .dataframe tbody tr th:only-of-type {\n",
              "        vertical-align: middle;\n",
              "    }\n",
              "\n",
              "    .dataframe tbody tr th {\n",
              "        vertical-align: top;\n",
              "    }\n",
              "\n",
              "    .dataframe thead th {\n",
              "        text-align: right;\n",
              "    }\n",
              "</style>\n",
              "<table border=\"1\" class=\"dataframe\">\n",
              "  <thead>\n",
              "    <tr style=\"text-align: right;\">\n",
              "      <th></th>\n",
              "      <th>Variable</th>\n",
              "      <th>Outcome</th>\n",
              "      <th>Count</th>\n",
              "      <th>Percent</th>\n",
              "    </tr>\n",
              "  </thead>\n",
              "  <tbody>\n",
              "    <tr>\n",
              "      <th>0</th>\n",
              "      <td>type</td>\n",
              "      <td>SUV</td>\n",
              "      <td>96594</td>\n",
              "      <td>25.74</td>\n",
              "    </tr>\n",
              "    <tr>\n",
              "      <th>1</th>\n",
              "      <td></td>\n",
              "      <td>sedan</td>\n",
              "      <td>94954</td>\n",
              "      <td>25.30</td>\n",
              "    </tr>\n",
              "    <tr>\n",
              "      <th>2</th>\n",
              "      <td></td>\n",
              "      <td>pickup</td>\n",
              "      <td>51675</td>\n",
              "      <td>13.77</td>\n",
              "    </tr>\n",
              "    <tr>\n",
              "      <th>3</th>\n",
              "      <td></td>\n",
              "      <td>truck</td>\n",
              "      <td>46149</td>\n",
              "      <td>12.30</td>\n",
              "    </tr>\n",
              "    <tr>\n",
              "      <th>4</th>\n",
              "      <td></td>\n",
              "      <td>coupe</td>\n",
              "      <td>19645</td>\n",
              "      <td>5.23</td>\n",
              "    </tr>\n",
              "    <tr>\n",
              "      <th>5</th>\n",
              "      <td></td>\n",
              "      <td>hatchback</td>\n",
              "      <td>13643</td>\n",
              "      <td>3.63</td>\n",
              "    </tr>\n",
              "    <tr>\n",
              "      <th>6</th>\n",
              "      <td></td>\n",
              "      <td>wagon</td>\n",
              "      <td>11853</td>\n",
              "      <td>3.16</td>\n",
              "    </tr>\n",
              "    <tr>\n",
              "      <th>7</th>\n",
              "      <td></td>\n",
              "      <td>other</td>\n",
              "      <td>11574</td>\n",
              "      <td>3.08</td>\n",
              "    </tr>\n",
              "    <tr>\n",
              "      <th>8</th>\n",
              "      <td></td>\n",
              "      <td>van</td>\n",
              "      <td>10460</td>\n",
              "      <td>2.79</td>\n",
              "    </tr>\n",
              "    <tr>\n",
              "      <th>9</th>\n",
              "      <td></td>\n",
              "      <td>convertible</td>\n",
              "      <td>9306</td>\n",
              "      <td>2.48</td>\n",
              "    </tr>\n",
              "    <tr>\n",
              "      <th>10</th>\n",
              "      <td></td>\n",
              "      <td>mini-van</td>\n",
              "      <td>8109</td>\n",
              "      <td>2.16</td>\n",
              "    </tr>\n",
              "    <tr>\n",
              "      <th>11</th>\n",
              "      <td></td>\n",
              "      <td>offroad</td>\n",
              "      <td>770</td>\n",
              "      <td>0.21</td>\n",
              "    </tr>\n",
              "    <tr>\n",
              "      <th>12</th>\n",
              "      <td></td>\n",
              "      <td>bus</td>\n",
              "      <td>600</td>\n",
              "      <td>0.16</td>\n",
              "    </tr>\n",
              "    <tr>\n",
              "      <th>13</th>\n",
              "      <td>condition</td>\n",
              "      <td>excellent</td>\n",
              "      <td>153863</td>\n",
              "      <td>40.99</td>\n",
              "    </tr>\n",
              "    <tr>\n",
              "      <th>14</th>\n",
              "      <td></td>\n",
              "      <td>good</td>\n",
              "      <td>95136</td>\n",
              "      <td>25.35</td>\n",
              "    </tr>\n",
              "    <tr>\n",
              "      <th>15</th>\n",
              "      <td></td>\n",
              "      <td>like new</td>\n",
              "      <td>67102</td>\n",
              "      <td>17.88</td>\n",
              "    </tr>\n",
              "    <tr>\n",
              "      <th>16</th>\n",
              "      <td></td>\n",
              "      <td>salvage</td>\n",
              "      <td>34055</td>\n",
              "      <td>9.07</td>\n",
              "    </tr>\n",
              "    <tr>\n",
              "      <th>17</th>\n",
              "      <td></td>\n",
              "      <td>fair</td>\n",
              "      <td>21728</td>\n",
              "      <td>5.79</td>\n",
              "    </tr>\n",
              "    <tr>\n",
              "      <th>18</th>\n",
              "      <td></td>\n",
              "      <td>new</td>\n",
              "      <td>3448</td>\n",
              "      <td>0.92</td>\n",
              "    </tr>\n",
              "    <tr>\n",
              "      <th>19</th>\n",
              "      <td>manufacturer</td>\n",
              "      <td>ford</td>\n",
              "      <td>69865</td>\n",
              "      <td>18.61</td>\n",
              "    </tr>\n",
              "    <tr>\n",
              "      <th>20</th>\n",
              "      <td></td>\n",
              "      <td>chevrolet</td>\n",
              "      <td>55496</td>\n",
              "      <td>14.79</td>\n",
              "    </tr>\n",
              "    <tr>\n",
              "      <th>21</th>\n",
              "      <td></td>\n",
              "      <td>toyota</td>\n",
              "      <td>30461</td>\n",
              "      <td>8.12</td>\n",
              "    </tr>\n",
              "    <tr>\n",
              "      <th>22</th>\n",
              "      <td></td>\n",
              "      <td>nissan</td>\n",
              "      <td>20157</td>\n",
              "      <td>5.37</td>\n",
              "    </tr>\n",
              "    <tr>\n",
              "      <th>23</th>\n",
              "      <td></td>\n",
              "      <td>honda</td>\n",
              "      <td>19930</td>\n",
              "      <td>5.31</td>\n",
              "    </tr>\n",
              "    <tr>\n",
              "      <th>24</th>\n",
              "      <td></td>\n",
              "      <td>ram</td>\n",
              "      <td>19744</td>\n",
              "      <td>5.26</td>\n",
              "    </tr>\n",
              "    <tr>\n",
              "      <th>25</th>\n",
              "      <td></td>\n",
              "      <td>jeep</td>\n",
              "      <td>18415</td>\n",
              "      <td>4.91</td>\n",
              "    </tr>\n",
              "    <tr>\n",
              "      <th>26</th>\n",
              "      <td></td>\n",
              "      <td>gmc</td>\n",
              "      <td>17718</td>\n",
              "      <td>4.72</td>\n",
              "    </tr>\n",
              "    <tr>\n",
              "      <th>27</th>\n",
              "      <td></td>\n",
              "      <td>dodge</td>\n",
              "      <td>14226</td>\n",
              "      <td>3.79</td>\n",
              "    </tr>\n",
              "    <tr>\n",
              "      <th>28</th>\n",
              "      <td></td>\n",
              "      <td>bmw</td>\n",
              "      <td>10936</td>\n",
              "      <td>2.91</td>\n",
              "    </tr>\n",
              "    <tr>\n",
              "      <th>29</th>\n",
              "      <td></td>\n",
              "      <td>hyundai</td>\n",
              "      <td>9151</td>\n",
              "      <td>2.44</td>\n",
              "    </tr>\n",
              "    <tr>\n",
              "      <th>30</th>\n",
              "      <td></td>\n",
              "      <td>subaru</td>\n",
              "      <td>8681</td>\n",
              "      <td>2.31</td>\n",
              "    </tr>\n",
              "    <tr>\n",
              "      <th>31</th>\n",
              "      <td></td>\n",
              "      <td>mercedes-benz</td>\n",
              "      <td>8356</td>\n",
              "      <td>2.23</td>\n",
              "    </tr>\n",
              "    <tr>\n",
              "      <th>32</th>\n",
              "      <td></td>\n",
              "      <td>volkswagen</td>\n",
              "      <td>7946</td>\n",
              "      <td>2.12</td>\n",
              "    </tr>\n",
              "    <tr>\n",
              "      <th>33</th>\n",
              "      <td></td>\n",
              "      <td>chrysler</td>\n",
              "      <td>6902</td>\n",
              "      <td>1.84</td>\n",
              "    </tr>\n",
              "    <tr>\n",
              "      <th>34</th>\n",
              "      <td></td>\n",
              "      <td>kia</td>\n",
              "      <td>6538</td>\n",
              "      <td>1.74</td>\n",
              "    </tr>\n",
              "    <tr>\n",
              "      <th>35</th>\n",
              "      <td></td>\n",
              "      <td>cadillac</td>\n",
              "      <td>5802</td>\n",
              "      <td>1.55</td>\n",
              "    </tr>\n",
              "    <tr>\n",
              "      <th>36</th>\n",
              "      <td></td>\n",
              "      <td>buick</td>\n",
              "      <td>5241</td>\n",
              "      <td>1.40</td>\n",
              "    </tr>\n",
              "    <tr>\n",
              "      <th>37</th>\n",
              "      <td></td>\n",
              "      <td>lexus</td>\n",
              "      <td>5193</td>\n",
              "      <td>1.38</td>\n",
              "    </tr>\n",
              "    <tr>\n",
              "      <th>38</th>\n",
              "      <td></td>\n",
              "      <td>mazda</td>\n",
              "      <td>4972</td>\n",
              "      <td>1.32</td>\n",
              "    </tr>\n",
              "    <tr>\n",
              "      <th>39</th>\n",
              "      <td></td>\n",
              "      <td>audi</td>\n",
              "      <td>4682</td>\n",
              "      <td>1.25</td>\n",
              "    </tr>\n",
              "    <tr>\n",
              "      <th>40</th>\n",
              "      <td></td>\n",
              "      <td>acura</td>\n",
              "      <td>3444</td>\n",
              "      <td>0.92</td>\n",
              "    </tr>\n",
              "    <tr>\n",
              "      <th>41</th>\n",
              "      <td></td>\n",
              "      <td>infiniti</td>\n",
              "      <td>3006</td>\n",
              "      <td>0.80</td>\n",
              "    </tr>\n",
              "    <tr>\n",
              "      <th>42</th>\n",
              "      <td></td>\n",
              "      <td>pontiac</td>\n",
              "      <td>2751</td>\n",
              "      <td>0.73</td>\n",
              "    </tr>\n",
              "    <tr>\n",
              "      <th>43</th>\n",
              "      <td></td>\n",
              "      <td>lincoln</td>\n",
              "      <td>2655</td>\n",
              "      <td>0.71</td>\n",
              "    </tr>\n",
              "    <tr>\n",
              "      <th>44</th>\n",
              "      <td></td>\n",
              "      <td>volvo</td>\n",
              "      <td>2497</td>\n",
              "      <td>0.67</td>\n",
              "    </tr>\n",
              "    <tr>\n",
              "      <th>45</th>\n",
              "      <td></td>\n",
              "      <td>mitsubishi</td>\n",
              "      <td>2050</td>\n",
              "      <td>0.55</td>\n",
              "    </tr>\n",
              "    <tr>\n",
              "      <th>46</th>\n",
              "      <td></td>\n",
              "      <td>mini</td>\n",
              "      <td>1802</td>\n",
              "      <td>0.48</td>\n",
              "    </tr>\n",
              "    <tr>\n",
              "      <th>47</th>\n",
              "      <td></td>\n",
              "      <td>rover</td>\n",
              "      <td>1734</td>\n",
              "      <td>0.46</td>\n",
              "    </tr>\n",
              "    <tr>\n",
              "      <th>48</th>\n",
              "      <td></td>\n",
              "      <td>mercury</td>\n",
              "      <td>1609</td>\n",
              "      <td>0.43</td>\n",
              "    </tr>\n",
              "    <tr>\n",
              "      <th>49</th>\n",
              "      <td></td>\n",
              "      <td>saturn</td>\n",
              "      <td>1519</td>\n",
              "      <td>0.40</td>\n",
              "    </tr>\n",
              "    <tr>\n",
              "      <th>50</th>\n",
              "      <td></td>\n",
              "      <td>jaguar</td>\n",
              "      <td>947</td>\n",
              "      <td>0.25</td>\n",
              "    </tr>\n",
              "    <tr>\n",
              "      <th>51</th>\n",
              "      <td></td>\n",
              "      <td>fiat</td>\n",
              "      <td>596</td>\n",
              "      <td>0.16</td>\n",
              "    </tr>\n",
              "    <tr>\n",
              "      <th>52</th>\n",
              "      <td></td>\n",
              "      <td>harley-davidson</td>\n",
              "      <td>128</td>\n",
              "      <td>0.03</td>\n",
              "    </tr>\n",
              "    <tr>\n",
              "      <th>53</th>\n",
              "      <td></td>\n",
              "      <td>alfa-romeo</td>\n",
              "      <td>79</td>\n",
              "      <td>0.02</td>\n",
              "    </tr>\n",
              "    <tr>\n",
              "      <th>54</th>\n",
              "      <td></td>\n",
              "      <td>ferrari</td>\n",
              "      <td>57</td>\n",
              "      <td>0.02</td>\n",
              "    </tr>\n",
              "    <tr>\n",
              "      <th>55</th>\n",
              "      <td></td>\n",
              "      <td>aston-martin</td>\n",
              "      <td>21</td>\n",
              "      <td>0.01</td>\n",
              "    </tr>\n",
              "    <tr>\n",
              "      <th>56</th>\n",
              "      <td></td>\n",
              "      <td>land rover</td>\n",
              "      <td>19</td>\n",
              "      <td>0.01</td>\n",
              "    </tr>\n",
              "    <tr>\n",
              "      <th>57</th>\n",
              "      <td></td>\n",
              "      <td>porche</td>\n",
              "      <td>3</td>\n",
              "      <td>0.00</td>\n",
              "    </tr>\n",
              "    <tr>\n",
              "      <th>58</th>\n",
              "      <td></td>\n",
              "      <td>morgan</td>\n",
              "      <td>2</td>\n",
              "      <td>0.00</td>\n",
              "    </tr>\n",
              "    <tr>\n",
              "      <th>59</th>\n",
              "      <td></td>\n",
              "      <td>hennessey</td>\n",
              "      <td>1</td>\n",
              "      <td>0.00</td>\n",
              "    </tr>\n",
              "  </tbody>\n",
              "</table>\n",
              "</div>"
            ],
            "text/plain": [
              "        Variable          Outcome   Count  Percent\n",
              "0           type              SUV   96594    25.74\n",
              "1                           sedan   94954    25.30\n",
              "2                          pickup   51675    13.77\n",
              "3                           truck   46149    12.30\n",
              "4                           coupe   19645     5.23\n",
              "5                       hatchback   13643     3.63\n",
              "6                           wagon   11853     3.16\n",
              "7                           other   11574     3.08\n",
              "8                             van   10460     2.79\n",
              "9                     convertible    9306     2.48\n",
              "10                       mini-van    8109     2.16\n",
              "11                        offroad     770     0.21\n",
              "12                            bus     600     0.16\n",
              "13     condition        excellent  153863    40.99\n",
              "14                           good   95136    25.35\n",
              "15                       like new   67102    17.88\n",
              "16                        salvage   34055     9.07\n",
              "17                           fair   21728     5.79\n",
              "18                            new    3448     0.92\n",
              "19  manufacturer             ford   69865    18.61\n",
              "20                      chevrolet   55496    14.79\n",
              "21                         toyota   30461     8.12\n",
              "22                         nissan   20157     5.37\n",
              "23                          honda   19930     5.31\n",
              "24                            ram   19744     5.26\n",
              "25                           jeep   18415     4.91\n",
              "26                            gmc   17718     4.72\n",
              "27                          dodge   14226     3.79\n",
              "28                            bmw   10936     2.91\n",
              "29                        hyundai    9151     2.44\n",
              "30                         subaru    8681     2.31\n",
              "31                  mercedes-benz    8356     2.23\n",
              "32                     volkswagen    7946     2.12\n",
              "33                       chrysler    6902     1.84\n",
              "34                            kia    6538     1.74\n",
              "35                       cadillac    5802     1.55\n",
              "36                          buick    5241     1.40\n",
              "37                          lexus    5193     1.38\n",
              "38                          mazda    4972     1.32\n",
              "39                           audi    4682     1.25\n",
              "40                          acura    3444     0.92\n",
              "41                       infiniti    3006     0.80\n",
              "42                        pontiac    2751     0.73\n",
              "43                        lincoln    2655     0.71\n",
              "44                          volvo    2497     0.67\n",
              "45                     mitsubishi    2050     0.55\n",
              "46                           mini    1802     0.48\n",
              "47                          rover    1734     0.46\n",
              "48                        mercury    1609     0.43\n",
              "49                         saturn    1519     0.40\n",
              "50                         jaguar     947     0.25\n",
              "51                           fiat     596     0.16\n",
              "52                harley-davidson     128     0.03\n",
              "53                     alfa-romeo      79     0.02\n",
              "54                        ferrari      57     0.02\n",
              "55                   aston-martin      21     0.01\n",
              "56                     land rover      19     0.01\n",
              "57                         porche       3     0.00\n",
              "58                         morgan       2     0.00\n",
              "59                      hennessey       1     0.00"
            ]
          },
          "metadata": {
            "tags": []
          },
          "execution_count": 45
        }
      ]
    },
    {
      "cell_type": "code",
      "metadata": {
        "id": "H9qQOu9HLvHz",
        "colab_type": "code",
        "outputId": "e91f205c-188f-4031-e3ba-c75a236c9b92",
        "colab": {
          "base_uri": "https://localhost:8080/",
          "height": 104
        }
      },
      "source": [
        "corr = df.corr()\n",
        "corr.style.background_gradient(cmap='coolwarm').set_precision(2)"
      ],
      "execution_count": 0,
      "outputs": [
        {
          "output_type": "execute_result",
          "data": {
            "text/html": [
              "<style  type=\"text/css\" >\n",
              "    #T_c590698c_1409_11ea_993f_0242ac1c0002row0_col0 {\n",
              "            background-color:  #b40426;\n",
              "            color:  #f1f1f1;\n",
              "        }    #T_c590698c_1409_11ea_993f_0242ac1c0002row0_col1 {\n",
              "            background-color:  #f59f80;\n",
              "            color:  #000000;\n",
              "        }    #T_c590698c_1409_11ea_993f_0242ac1c0002row0_col2 {\n",
              "            background-color:  #465ecf;\n",
              "            color:  #f1f1f1;\n",
              "        }    #T_c590698c_1409_11ea_993f_0242ac1c0002row1_col0 {\n",
              "            background-color:  #f6a385;\n",
              "            color:  #000000;\n",
              "        }    #T_c590698c_1409_11ea_993f_0242ac1c0002row1_col1 {\n",
              "            background-color:  #b40426;\n",
              "            color:  #f1f1f1;\n",
              "        }    #T_c590698c_1409_11ea_993f_0242ac1c0002row1_col2 {\n",
              "            background-color:  #3b4cc0;\n",
              "            color:  #f1f1f1;\n",
              "        }    #T_c590698c_1409_11ea_993f_0242ac1c0002row2_col0 {\n",
              "            background-color:  #3b4cc0;\n",
              "            color:  #f1f1f1;\n",
              "        }    #T_c590698c_1409_11ea_993f_0242ac1c0002row2_col1 {\n",
              "            background-color:  #3b4cc0;\n",
              "            color:  #f1f1f1;\n",
              "        }    #T_c590698c_1409_11ea_993f_0242ac1c0002row2_col2 {\n",
              "            background-color:  #b40426;\n",
              "            color:  #f1f1f1;\n",
              "        }</style><table id=\"T_c590698c_1409_11ea_993f_0242ac1c0002\" ><thead>    <tr>        <th class=\"blank level0\" ></th>        <th class=\"col_heading level0 col0\" >price</th>        <th class=\"col_heading level0 col1\" >year</th>        <th class=\"col_heading level0 col2\" >odometer</th>    </tr></thead><tbody>\n",
              "                <tr>\n",
              "                        <th id=\"T_c590698c_1409_11ea_993f_0242ac1c0002level0_row0\" class=\"row_heading level0 row0\" >price</th>\n",
              "                        <td id=\"T_c590698c_1409_11ea_993f_0242ac1c0002row0_col0\" class=\"data row0 col0\" >1</td>\n",
              "                        <td id=\"T_c590698c_1409_11ea_993f_0242ac1c0002row0_col1\" class=\"data row0 col1\" >0.57</td>\n",
              "                        <td id=\"T_c590698c_1409_11ea_993f_0242ac1c0002row0_col2\" class=\"data row0 col2\" >-0.54</td>\n",
              "            </tr>\n",
              "            <tr>\n",
              "                        <th id=\"T_c590698c_1409_11ea_993f_0242ac1c0002level0_row1\" class=\"row_heading level0 row1\" >year</th>\n",
              "                        <td id=\"T_c590698c_1409_11ea_993f_0242ac1c0002row1_col0\" class=\"data row1 col0\" >0.57</td>\n",
              "                        <td id=\"T_c590698c_1409_11ea_993f_0242ac1c0002row1_col1\" class=\"data row1 col1\" >1</td>\n",
              "                        <td id=\"T_c590698c_1409_11ea_993f_0242ac1c0002row1_col2\" class=\"data row1 col2\" >-0.61</td>\n",
              "            </tr>\n",
              "            <tr>\n",
              "                        <th id=\"T_c590698c_1409_11ea_993f_0242ac1c0002level0_row2\" class=\"row_heading level0 row2\" >odometer</th>\n",
              "                        <td id=\"T_c590698c_1409_11ea_993f_0242ac1c0002row2_col0\" class=\"data row2 col0\" >-0.54</td>\n",
              "                        <td id=\"T_c590698c_1409_11ea_993f_0242ac1c0002row2_col1\" class=\"data row2 col1\" >-0.61</td>\n",
              "                        <td id=\"T_c590698c_1409_11ea_993f_0242ac1c0002row2_col2\" class=\"data row2 col2\" >1</td>\n",
              "            </tr>\n",
              "    </tbody></table>"
            ],
            "text/plain": [
              "<pandas.io.formats.style.Styler at 0x7fbf4f32a0f0>"
            ]
          },
          "metadata": {
            "tags": []
          },
          "execution_count": 46
        }
      ]
    },
    {
      "cell_type": "markdown",
      "metadata": {
        "id": "6PDp0Wl0EWfn",
        "colab_type": "text"
      },
      "source": [
        "##### To further examine the relationship between state_fips and weather, Let's graph the two variables on a scatter plot"
      ]
    },
    {
      "cell_type": "code",
      "metadata": {
        "id": "X_2LCWC6EHka",
        "colab_type": "code",
        "outputId": "8e37c417-fbe4-42da-c697-acf6941ace1d",
        "colab": {
          "base_uri": "https://localhost:8080/",
          "height": 515
        }
      },
      "source": [
        "import matplotlib.pyplot as plt\n",
        "import seaborn as sns\n",
        "plt.figure(figsize=(14,8)) # set the size of the graph\n",
        "_ = sns.regplot(data=df, x='year', y='odometer')"
      ],
      "execution_count": 0,
      "outputs": [
        {
          "output_type": "display_data",
          "data": {
            "image/png": "[encoded data removed]",
            "text/plain": [
              "<Figure size 1008x576 with 1 Axes>"
            ]
          },
          "metadata": {
            "tags": []
          }
        }
      ]
    },
    {
      "cell_type": "markdown",
      "metadata": {
        "id": "2EOwJM9omdBC",
        "colab_type": "text"
      },
      "source": [
        "##Box and Whisker's Plot"
      ]
    },
    {
      "cell_type": "code",
      "metadata": {
        "id": "PwMLi0tcm8my",
        "colab_type": "code",
        "colab": {}
      },
      "source": [
        "%matplotlib inline\n",
        "import matplotlib.pyplot as plt\n",
        "import seaborn as sns\n",
        "sns.set_style('darkgrid')\n",
        "sns.set(font_scale=1.5)"
      ],
      "execution_count": 0,
      "outputs": []
    },
    {
      "cell_type": "code",
      "metadata": {
        "id": "sJXrQrDGmhqX",
        "colab_type": "code",
        "outputId": "b12b16f6-7e07-4893-95b5-b817006304d1",
        "colab": {
          "base_uri": "https://localhost:8080/",
          "height": 558
        }
      },
      "source": [
        "fig, ax = plt.subplots(figsize=(14,8))\n",
        "\n",
        "ax.set_ylabel('Odometer')\n",
        "\n",
        "# boxplot with only these two variables\n",
        "_ = df[['drive', 'odometer']].boxplot(by='drive', figsize=(13,8), vert=True, sym='b.', ax=ax)\n"
      ],
      "execution_count": 0,
      "outputs": [
        {
          "output_type": "display_data",
          "data": {
            "image/png": "[encoded data removed]",
            "text/plain": [
              "<Figure size 1008x576 with 1 Axes>"
            ]
          },
          "metadata": {
            "tags": []
          }
        }
      ]
    },
    {
      "cell_type": "code",
      "metadata": {
        "id": "sK4bVMbnGzlH",
        "colab_type": "code",
        "outputId": "8a28434d-7c58-4c8d-d38e-b5544fcf5cb9",
        "colab": {
          "base_uri": "https://localhost:8080/",
          "height": 558
        }
      },
      "source": [
        "fig, ax = plt.subplots(figsize=(14,8))\n",
        "\n",
        "ax.set_ylabel('Odometer')\n",
        "\n",
        "# boxplot with only these two variables\n",
        "_ = df[['condition', 'odometer']].boxplot(by='condition', figsize=(13,8), vert=True, sym='b.', ax=ax)\n"
      ],
      "execution_count": 0,
      "outputs": [
        {
          "output_type": "display_data",
          "data": {
            "image/png": "[encoded data removed]",
            "text/plain": [
              "<Figure size 1008x576 with 1 Axes>"
            ]
          },
          "metadata": {
            "tags": []
          }
        }
      ]
    },
    {
      "cell_type": "code",
      "metadata": {
        "id": "OIqZmtAqcl_u",
        "colab_type": "code",
        "outputId": "0aa2895d-a62c-4e1a-f679-66338a52c20a",
        "colab": {
          "base_uri": "https://localhost:8080/",
          "height": 499
        }
      },
      "source": [
        "fig, ax = plt.subplots(figsize=(12,7))\n",
        "\n",
        "ax.set_ylabel('Price')\n",
        "\n",
        "# boxplot with only these two variables\n",
        "_ = df[['condition', 'price']].boxplot(by='condition', figsize=(13,8), vert=True, sym='b.', ax=ax)"
      ],
      "execution_count": 0,
      "outputs": [
        {
          "output_type": "display_data",
          "data": {
            "image/png": "[encoded data removed]",
            "text/plain": [
              "<Figure size 864x504 with 1 Axes>"
            ]
          },
          "metadata": {
            "tags": []
          }
        }
      ]
    },
    {
      "cell_type": "markdown",
      "metadata": {
        "id": "Oq_id4-RXUaN",
        "colab_type": "text"
      },
      "source": [
        "### Chi-square Test of Independence using Researchpy"
      ]
    },
    {
      "cell_type": "code",
      "metadata": {
        "id": "PCDHsSzmaqXC",
        "colab_type": "code",
        "outputId": "d3faa7bd-c8ac-4a17-ee90-80168a0c607c",
        "colab": {
          "base_uri": "https://localhost:8080/",
          "height": 280
        }
      },
      "source": [
        "list(df)"
      ],
      "execution_count": 0,
      "outputs": [
        {
          "output_type": "execute_result",
          "data": {
            "text/plain": [
              "['price',\n",
              " 'year',\n",
              " 'manufacturer',\n",
              " 'make',\n",
              " 'condition',\n",
              " 'cylinders',\n",
              " 'fuel',\n",
              " 'odometer',\n",
              " 'title_status',\n",
              " 'transmission',\n",
              " 'drive',\n",
              " 'size',\n",
              " 'type',\n",
              " 'paint_color']"
            ]
          },
          "metadata": {
            "tags": []
          },
          "execution_count": 53
        }
      ]
    },
    {
      "cell_type": "code",
      "metadata": {
        "id": "KpTgYc9ejNzq",
        "colab_type": "code",
        "outputId": "0c5b3d02-c17f-4524-dbdc-202df69f5907",
        "colab": {
          "base_uri": "https://localhost:8080/",
          "height": 332
        }
      },
      "source": [
        "table, results = rp.crosstab(df['condition'], df['drive'], prop= 'col', test= 'chi-square')\n",
        "    \n",
        "table"
      ],
      "execution_count": 0,
      "outputs": [
        {
          "output_type": "execute_result",
          "data": {
            "text/html": [
              "<div>\n",
              "<style scoped>\n",
              "    .dataframe tbody tr th:only-of-type {\n",
              "        vertical-align: middle;\n",
              "    }\n",
              "\n",
              "    .dataframe tbody tr th {\n",
              "        vertical-align: top;\n",
              "    }\n",
              "\n",
              "    .dataframe thead tr th {\n",
              "        text-align: left;\n",
              "    }\n",
              "\n",
              "    .dataframe thead tr:last-of-type th {\n",
              "        text-align: right;\n",
              "    }\n",
              "</style>\n",
              "<table border=\"1\" class=\"dataframe\">\n",
              "  <thead>\n",
              "    <tr>\n",
              "      <th></th>\n",
              "      <th colspan=\"4\" halign=\"left\">drive</th>\n",
              "    </tr>\n",
              "    <tr>\n",
              "      <th></th>\n",
              "      <th>4wd</th>\n",
              "      <th>fwd</th>\n",
              "      <th>rwd</th>\n",
              "      <th>All</th>\n",
              "    </tr>\n",
              "    <tr>\n",
              "      <th>condition</th>\n",
              "      <th></th>\n",
              "      <th></th>\n",
              "      <th></th>\n",
              "      <th></th>\n",
              "    </tr>\n",
              "  </thead>\n",
              "  <tbody>\n",
              "    <tr>\n",
              "      <th>excellent</th>\n",
              "      <td>41.16</td>\n",
              "      <td>40.42</td>\n",
              "      <td>41.70</td>\n",
              "      <td>40.99</td>\n",
              "    </tr>\n",
              "    <tr>\n",
              "      <th>fair</th>\n",
              "      <td>6.50</td>\n",
              "      <td>4.97</td>\n",
              "      <td>5.62</td>\n",
              "      <td>5.79</td>\n",
              "    </tr>\n",
              "    <tr>\n",
              "      <th>good</th>\n",
              "      <td>22.96</td>\n",
              "      <td>26.83</td>\n",
              "      <td>28.45</td>\n",
              "      <td>25.35</td>\n",
              "    </tr>\n",
              "    <tr>\n",
              "      <th>like new</th>\n",
              "      <td>17.97</td>\n",
              "      <td>18.44</td>\n",
              "      <td>16.53</td>\n",
              "      <td>17.88</td>\n",
              "    </tr>\n",
              "    <tr>\n",
              "      <th>new</th>\n",
              "      <td>1.11</td>\n",
              "      <td>0.83</td>\n",
              "      <td>0.62</td>\n",
              "      <td>0.92</td>\n",
              "    </tr>\n",
              "    <tr>\n",
              "      <th>salvage</th>\n",
              "      <td>10.30</td>\n",
              "      <td>8.51</td>\n",
              "      <td>7.08</td>\n",
              "      <td>9.07</td>\n",
              "    </tr>\n",
              "    <tr>\n",
              "      <th>All</th>\n",
              "      <td>100.00</td>\n",
              "      <td>100.00</td>\n",
              "      <td>100.00</td>\n",
              "      <td>100.00</td>\n",
              "    </tr>\n",
              "  </tbody>\n",
              "</table>\n",
              "</div>"
            ],
            "text/plain": [
              "            drive                        \n",
              "              4wd     fwd     rwd     All\n",
              "condition                                \n",
              "excellent   41.16   40.42   41.70   40.99\n",
              "fair         6.50    4.97    5.62    5.79\n",
              "good        22.96   26.83   28.45   25.35\n",
              "like new    17.97   18.44   16.53   17.88\n",
              "new          1.11    0.83    0.62    0.92\n",
              "salvage     10.30    8.51    7.08    9.07\n",
              "All        100.00  100.00  100.00  100.00"
            ]
          },
          "metadata": {
            "tags": []
          },
          "execution_count": 54
        }
      ]
    },
    {
      "cell_type": "code",
      "metadata": {
        "id": "4q_ZqYKeYZhU",
        "colab_type": "code",
        "outputId": "363539b4-a042-4a7c-e530-b1c1588b5704",
        "colab": {
          "base_uri": "https://localhost:8080/",
          "height": 143
        }
      },
      "source": [
        "results"
      ],
      "execution_count": 0,
      "outputs": [
        {
          "output_type": "execute_result",
          "data": {
            "text/html": [
              "<div>\n",
              "<style scoped>\n",
              "    .dataframe tbody tr th:only-of-type {\n",
              "        vertical-align: middle;\n",
              "    }\n",
              "\n",
              "    .dataframe tbody tr th {\n",
              "        vertical-align: top;\n",
              "    }\n",
              "\n",
              "    .dataframe thead th {\n",
              "        text-align: right;\n",
              "    }\n",
              "</style>\n",
              "<table border=\"1\" class=\"dataframe\">\n",
              "  <thead>\n",
              "    <tr style=\"text-align: right;\">\n",
              "      <th></th>\n",
              "      <th>Chi-square test</th>\n",
              "      <th>results</th>\n",
              "    </tr>\n",
              "  </thead>\n",
              "  <tbody>\n",
              "    <tr>\n",
              "      <th>0</th>\n",
              "      <td>Pearson Chi-square ( 10.0) =</td>\n",
              "      <td>1970.5873</td>\n",
              "    </tr>\n",
              "    <tr>\n",
              "      <th>1</th>\n",
              "      <td>p-value =</td>\n",
              "      <td>0.0000</td>\n",
              "    </tr>\n",
              "    <tr>\n",
              "      <th>2</th>\n",
              "      <td>Cramer's V =</td>\n",
              "      <td>0.0512</td>\n",
              "    </tr>\n",
              "  </tbody>\n",
              "</table>\n",
              "</div>"
            ],
            "text/plain": [
              "                 Chi-square test    results\n",
              "0  Pearson Chi-square ( 10.0) =   1970.5873\n",
              "1                     p-value =      0.0000\n",
              "2                  Cramer's V =      0.0512"
            ]
          },
          "metadata": {
            "tags": []
          },
          "execution_count": 55
        }
      ]
    },
    {
      "cell_type": "markdown",
      "metadata": {
        "id": "vdvWlKn1cYtV",
        "colab_type": "text"
      },
      "source": [
        "#### Chi-square says that there is a significant relationship between variables, but it does not say just how significant and important this is. Cramer's V is a post-test to give this additional information.\n",
        "\n",
        "#### Cramer's V varies between 0 and 1. Close to 0 it shows little association between variables. Close to 1, it indicates a strong association."
      ]
    },
    {
      "cell_type": "code",
      "metadata": {
        "id": "X5KrSPTnmg2z",
        "colab_type": "code",
        "outputId": "67b2bd7c-4a68-4364-ba0f-aebbba121da6",
        "colab": {
          "base_uri": "https://localhost:8080/",
          "height": 332
        }
      },
      "source": [
        "table, results = rp.crosstab(df['condition'], df['title_status'], prop= 'col', test= 'chi-square')\n",
        "    \n",
        "table"
      ],
      "execution_count": 0,
      "outputs": [
        {
          "output_type": "execute_result",
          "data": {
            "text/html": [
              "<div>\n",
              "<style scoped>\n",
              "    .dataframe tbody tr th:only-of-type {\n",
              "        vertical-align: middle;\n",
              "    }\n",
              "\n",
              "    .dataframe tbody tr th {\n",
              "        vertical-align: top;\n",
              "    }\n",
              "\n",
              "    .dataframe thead tr th {\n",
              "        text-align: left;\n",
              "    }\n",
              "\n",
              "    .dataframe thead tr:last-of-type th {\n",
              "        text-align: right;\n",
              "    }\n",
              "</style>\n",
              "<table border=\"1\" class=\"dataframe\">\n",
              "  <thead>\n",
              "    <tr>\n",
              "      <th></th>\n",
              "      <th colspan=\"7\" halign=\"left\">title_status</th>\n",
              "    </tr>\n",
              "    <tr>\n",
              "      <th></th>\n",
              "      <th>clean</th>\n",
              "      <th>lien</th>\n",
              "      <th>missing</th>\n",
              "      <th>parts only</th>\n",
              "      <th>rebuilt</th>\n",
              "      <th>salvage</th>\n",
              "      <th>All</th>\n",
              "    </tr>\n",
              "    <tr>\n",
              "      <th>condition</th>\n",
              "      <th></th>\n",
              "      <th></th>\n",
              "      <th></th>\n",
              "      <th></th>\n",
              "      <th></th>\n",
              "      <th></th>\n",
              "      <th></th>\n",
              "    </tr>\n",
              "  </thead>\n",
              "  <tbody>\n",
              "    <tr>\n",
              "      <th>excellent</th>\n",
              "      <td>40.97</td>\n",
              "      <td>50.78</td>\n",
              "      <td>8.79</td>\n",
              "      <td>8.70</td>\n",
              "      <td>42.69</td>\n",
              "      <td>34.76</td>\n",
              "      <td>40.99</td>\n",
              "    </tr>\n",
              "    <tr>\n",
              "      <th>fair</th>\n",
              "      <td>5.85</td>\n",
              "      <td>2.38</td>\n",
              "      <td>18.68</td>\n",
              "      <td>30.43</td>\n",
              "      <td>3.00</td>\n",
              "      <td>7.40</td>\n",
              "      <td>5.79</td>\n",
              "    </tr>\n",
              "    <tr>\n",
              "      <th>good</th>\n",
              "      <td>25.25</td>\n",
              "      <td>26.82</td>\n",
              "      <td>65.38</td>\n",
              "      <td>21.74</td>\n",
              "      <td>27.32</td>\n",
              "      <td>27.63</td>\n",
              "      <td>25.35</td>\n",
              "    </tr>\n",
              "    <tr>\n",
              "      <th>like new</th>\n",
              "      <td>17.79</td>\n",
              "      <td>17.78</td>\n",
              "      <td>2.75</td>\n",
              "      <td>2.17</td>\n",
              "      <td>22.06</td>\n",
              "      <td>18.43</td>\n",
              "      <td>17.88</td>\n",
              "    </tr>\n",
              "    <tr>\n",
              "      <th>new</th>\n",
              "      <td>0.92</td>\n",
              "      <td>1.06</td>\n",
              "      <td>0.00</td>\n",
              "      <td>0.00</td>\n",
              "      <td>0.58</td>\n",
              "      <td>1.04</td>\n",
              "      <td>0.92</td>\n",
              "    </tr>\n",
              "    <tr>\n",
              "      <th>salvage</th>\n",
              "      <td>9.22</td>\n",
              "      <td>1.19</td>\n",
              "      <td>4.40</td>\n",
              "      <td>36.96</td>\n",
              "      <td>4.36</td>\n",
              "      <td>10.74</td>\n",
              "      <td>9.07</td>\n",
              "    </tr>\n",
              "    <tr>\n",
              "      <th>All</th>\n",
              "      <td>100.00</td>\n",
              "      <td>100.00</td>\n",
              "      <td>100.00</td>\n",
              "      <td>100.00</td>\n",
              "      <td>100.00</td>\n",
              "      <td>100.00</td>\n",
              "      <td>100.00</td>\n",
              "    </tr>\n",
              "  </tbody>\n",
              "</table>\n",
              "</div>"
            ],
            "text/plain": [
              "          title_status                                                   \n",
              "                 clean    lien missing parts only rebuilt salvage     All\n",
              "condition                                                                \n",
              "excellent        40.97   50.78    8.79       8.70   42.69   34.76   40.99\n",
              "fair              5.85    2.38   18.68      30.43    3.00    7.40    5.79\n",
              "good             25.25   26.82   65.38      21.74   27.32   27.63   25.35\n",
              "like new         17.79   17.78    2.75       2.17   22.06   18.43   17.88\n",
              "new               0.92    1.06    0.00       0.00    0.58    1.04    0.92\n",
              "salvage           9.22    1.19    4.40      36.96    4.36   10.74    9.07\n",
              "All             100.00  100.00  100.00     100.00  100.00  100.00  100.00"
            ]
          },
          "metadata": {
            "tags": []
          },
          "execution_count": 56
        }
      ]
    },
    {
      "cell_type": "code",
      "metadata": {
        "id": "iFqxP93NYbj-",
        "colab_type": "code",
        "outputId": "9a20d395-7814-404c-cdbf-04898f4e8b34",
        "colab": {
          "base_uri": "https://localhost:8080/",
          "height": 143
        }
      },
      "source": [
        "results"
      ],
      "execution_count": 0,
      "outputs": [
        {
          "output_type": "execute_result",
          "data": {
            "text/html": [
              "<div>\n",
              "<style scoped>\n",
              "    .dataframe tbody tr th:only-of-type {\n",
              "        vertical-align: middle;\n",
              "    }\n",
              "\n",
              "    .dataframe tbody tr th {\n",
              "        vertical-align: top;\n",
              "    }\n",
              "\n",
              "    .dataframe thead th {\n",
              "        text-align: right;\n",
              "    }\n",
              "</style>\n",
              "<table border=\"1\" class=\"dataframe\">\n",
              "  <thead>\n",
              "    <tr style=\"text-align: right;\">\n",
              "      <th></th>\n",
              "      <th>Chi-square test</th>\n",
              "      <th>results</th>\n",
              "    </tr>\n",
              "  </thead>\n",
              "  <tbody>\n",
              "    <tr>\n",
              "      <th>0</th>\n",
              "      <td>Pearson Chi-square ( 25.0) =</td>\n",
              "      <td>1187.5763</td>\n",
              "    </tr>\n",
              "    <tr>\n",
              "      <th>1</th>\n",
              "      <td>p-value =</td>\n",
              "      <td>0.0000</td>\n",
              "    </tr>\n",
              "    <tr>\n",
              "      <th>2</th>\n",
              "      <td>Cramer's V =</td>\n",
              "      <td>0.0252</td>\n",
              "    </tr>\n",
              "  </tbody>\n",
              "</table>\n",
              "</div>"
            ],
            "text/plain": [
              "                 Chi-square test    results\n",
              "0  Pearson Chi-square ( 25.0) =   1187.5763\n",
              "1                     p-value =      0.0000\n",
              "2                  Cramer's V =      0.0252"
            ]
          },
          "metadata": {
            "tags": []
          },
          "execution_count": 57
        }
      ]
    },
    {
      "cell_type": "code",
      "metadata": {
        "id": "E5rHel00k3s2",
        "colab_type": "code",
        "outputId": "cec8f430-eb6b-4f5e-a6f5-9956699b729f",
        "colab": {
          "base_uri": "https://localhost:8080/",
          "height": 298
        }
      },
      "source": [
        "df.dtypes"
      ],
      "execution_count": 0,
      "outputs": [
        {
          "output_type": "execute_result",
          "data": {
            "text/plain": [
              "price             int64\n",
              "year            float64\n",
              "manufacturer     object\n",
              "make             object\n",
              "condition        object\n",
              "cylinders        object\n",
              "fuel             object\n",
              "odometer        float64\n",
              "title_status     object\n",
              "transmission     object\n",
              "drive            object\n",
              "size             object\n",
              "type             object\n",
              "paint_color      object\n",
              "dtype: object"
            ]
          },
          "metadata": {
            "tags": []
          },
          "execution_count": 58
        }
      ]
    },
    {
      "cell_type": "markdown",
      "metadata": {
        "id": "dZQ6eyNfeW99",
        "colab_type": "text"
      },
      "source": [
        "## Independent T-test\n",
        "\n",
        "#### Assumption Check\n",
        "#####Homogeneity of variances\n"
      ]
    },
    {
      "cell_type": "code",
      "metadata": {
        "id": "MxuEEnpKeaR4",
        "colab_type": "code",
        "outputId": "f360c689-41a1-4900-ebe9-35c55764b12b",
        "colab": {
          "base_uri": "https://localhost:8080/",
          "height": 36
        }
      },
      "source": [
        "stats.levene(df['odometer'], df['price'])"
      ],
      "execution_count": 0,
      "outputs": [
        {
          "output_type": "execute_result",
          "data": {
            "text/plain": [
              "LeveneResult(statistic=476848.9025602449, pvalue=0.0)"
            ]
          },
          "metadata": {
            "tags": []
          },
          "execution_count": 59
        }
      ]
    },
    {
      "cell_type": "markdown",
      "metadata": {
        "id": "SUHmF5Qje8Tj",
        "colab_type": "text"
      },
      "source": [
        "\n",
        "The Levene test is not significant meaning there is homogeneity of variances and we can proceed. If the test were to be significant, a viable alternative would be to conduct a Welch’s t-test. "
      ]
    },
    {
      "cell_type": "code",
      "metadata": {
        "id": "sbHBFTXceoIL",
        "colab_type": "code",
        "outputId": "4384e772-1c7d-4056-e2d9-9dcffed80d82",
        "colab": {
          "base_uri": "https://localhost:8080/",
          "height": 317
        }
      },
      "source": [
        "import numpy, pandas, researchpy\n",
        "researchpy.ttest(df['odometer'], df['price'])"
      ],
      "execution_count": 0,
      "outputs": [
        {
          "output_type": "execute_result",
          "data": {
            "text/plain": [
              "(   Variable         N           Mean  ...         SE      95% Conf.       Interval\n",
              " 0  odometer  375332.0  104710.777922  ...  94.775980  104525.019815  104896.536029\n",
              " 1     price  375332.0   14369.864176  ...  17.970772   14334.641996   14405.086357\n",
              " 2  combined  750664.0   59540.321049  ...  71.024267   59401.115820   59679.526278\n",
              " \n",
              " [3 rows x 7 columns],                  Independent t-test      results\n",
              " 0  Difference (odometer - price) =    90340.9137\n",
              " 1             Degrees of freedom =   750662.0000\n",
              " 2                              t =      936.5180\n",
              " 3          Two side test p value =        0.0000\n",
              " 4         Difference > 0 p value =        1.0000\n",
              " 5         Difference < 0 p value =        0.0000\n",
              " 6                      Cohen's d =        2.1618\n",
              " 7                      Hedge's g =        2.1618\n",
              " 8                  Glass's delta =        1.5559\n",
              " 9                              r =        0.7340)"
            ]
          },
          "metadata": {
            "tags": []
          },
          "execution_count": 60
        }
      ]
    },
    {
      "cell_type": "code",
      "metadata": {
        "id": "oYXDudT8fRwR",
        "colab_type": "code",
        "outputId": "028f32b4-1f4d-4e28-baae-c5cd37dca045",
        "colab": {
          "base_uri": "https://localhost:8080/",
          "height": 143
        }
      },
      "source": [
        "# We can store them as objects. This is different, and better representation of the table above. \n",
        "des, res = researchpy.ttest(df['odometer'], df['price'])\n",
        "\n",
        "des\n"
      ],
      "execution_count": 0,
      "outputs": [
        {
          "output_type": "execute_result",
          "data": {
            "text/html": [
              "<div>\n",
              "<style scoped>\n",
              "    .dataframe tbody tr th:only-of-type {\n",
              "        vertical-align: middle;\n",
              "    }\n",
              "\n",
              "    .dataframe tbody tr th {\n",
              "        vertical-align: top;\n",
              "    }\n",
              "\n",
              "    .dataframe thead th {\n",
              "        text-align: right;\n",
              "    }\n",
              "</style>\n",
              "<table border=\"1\" class=\"dataframe\">\n",
              "  <thead>\n",
              "    <tr style=\"text-align: right;\">\n",
              "      <th></th>\n",
              "      <th>Variable</th>\n",
              "      <th>N</th>\n",
              "      <th>Mean</th>\n",
              "      <th>SD</th>\n",
              "      <th>SE</th>\n",
              "      <th>95% Conf.</th>\n",
              "      <th>Interval</th>\n",
              "    </tr>\n",
              "  </thead>\n",
              "  <tbody>\n",
              "    <tr>\n",
              "      <th>0</th>\n",
              "      <td>odometer</td>\n",
              "      <td>375332.0</td>\n",
              "      <td>104710.777922</td>\n",
              "      <td>58063.883772</td>\n",
              "      <td>94.775980</td>\n",
              "      <td>104525.019815</td>\n",
              "      <td>104896.536029</td>\n",
              "    </tr>\n",
              "    <tr>\n",
              "      <th>1</th>\n",
              "      <td>price</td>\n",
              "      <td>375332.0</td>\n",
              "      <td>14369.864176</td>\n",
              "      <td>11009.676056</td>\n",
              "      <td>17.970772</td>\n",
              "      <td>14334.641996</td>\n",
              "      <td>14405.086357</td>\n",
              "    </tr>\n",
              "    <tr>\n",
              "      <th>2</th>\n",
              "      <td>combined</td>\n",
              "      <td>750664.0</td>\n",
              "      <td>59540.321049</td>\n",
              "      <td>61536.041054</td>\n",
              "      <td>71.024267</td>\n",
              "      <td>59401.115820</td>\n",
              "      <td>59679.526278</td>\n",
              "    </tr>\n",
              "  </tbody>\n",
              "</table>\n",
              "</div>"
            ],
            "text/plain": [
              "   Variable         N           Mean  ...         SE      95% Conf.       Interval\n",
              "0  odometer  375332.0  104710.777922  ...  94.775980  104525.019815  104896.536029\n",
              "1     price  375332.0   14369.864176  ...  17.970772   14334.641996   14405.086357\n",
              "2  combined  750664.0   59540.321049  ...  71.024267   59401.115820   59679.526278\n",
              "\n",
              "[3 rows x 7 columns]"
            ]
          },
          "metadata": {
            "tags": []
          },
          "execution_count": 61
        }
      ]
    },
    {
      "cell_type": "code",
      "metadata": {
        "id": "FDSVRq6shOVc",
        "colab_type": "code",
        "outputId": "8bbb999f-1386-4e94-9fba-7d94239df6a7",
        "colab": {
          "base_uri": "https://localhost:8080/",
          "height": 363
        }
      },
      "source": [
        "res"
      ],
      "execution_count": 0,
      "outputs": [
        {
          "output_type": "execute_result",
          "data": {
            "text/html": [
              "<div>\n",
              "<style scoped>\n",
              "    .dataframe tbody tr th:only-of-type {\n",
              "        vertical-align: middle;\n",
              "    }\n",
              "\n",
              "    .dataframe tbody tr th {\n",
              "        vertical-align: top;\n",
              "    }\n",
              "\n",
              "    .dataframe thead th {\n",
              "        text-align: right;\n",
              "    }\n",
              "</style>\n",
              "<table border=\"1\" class=\"dataframe\">\n",
              "  <thead>\n",
              "    <tr style=\"text-align: right;\">\n",
              "      <th></th>\n",
              "      <th>Independent t-test</th>\n",
              "      <th>results</th>\n",
              "    </tr>\n",
              "  </thead>\n",
              "  <tbody>\n",
              "    <tr>\n",
              "      <th>0</th>\n",
              "      <td>Difference (odometer - price) =</td>\n",
              "      <td>90340.9137</td>\n",
              "    </tr>\n",
              "    <tr>\n",
              "      <th>1</th>\n",
              "      <td>Degrees of freedom =</td>\n",
              "      <td>750662.0000</td>\n",
              "    </tr>\n",
              "    <tr>\n",
              "      <th>2</th>\n",
              "      <td>t =</td>\n",
              "      <td>936.5180</td>\n",
              "    </tr>\n",
              "    <tr>\n",
              "      <th>3</th>\n",
              "      <td>Two side test p value =</td>\n",
              "      <td>0.0000</td>\n",
              "    </tr>\n",
              "    <tr>\n",
              "      <th>4</th>\n",
              "      <td>Difference &gt; 0 p value =</td>\n",
              "      <td>1.0000</td>\n",
              "    </tr>\n",
              "    <tr>\n",
              "      <th>5</th>\n",
              "      <td>Difference &lt; 0 p value =</td>\n",
              "      <td>0.0000</td>\n",
              "    </tr>\n",
              "    <tr>\n",
              "      <th>6</th>\n",
              "      <td>Cohen's d =</td>\n",
              "      <td>2.1618</td>\n",
              "    </tr>\n",
              "    <tr>\n",
              "      <th>7</th>\n",
              "      <td>Hedge's g =</td>\n",
              "      <td>2.1618</td>\n",
              "    </tr>\n",
              "    <tr>\n",
              "      <th>8</th>\n",
              "      <td>Glass's delta =</td>\n",
              "      <td>1.5559</td>\n",
              "    </tr>\n",
              "    <tr>\n",
              "      <th>9</th>\n",
              "      <td>r =</td>\n",
              "      <td>0.7340</td>\n",
              "    </tr>\n",
              "  </tbody>\n",
              "</table>\n",
              "</div>"
            ],
            "text/plain": [
              "                 Independent t-test      results\n",
              "0  Difference (odometer - price) =    90340.9137\n",
              "1             Degrees of freedom =   750662.0000\n",
              "2                              t =      936.5180\n",
              "3          Two side test p value =        0.0000\n",
              "4         Difference > 0 p value =        1.0000\n",
              "5         Difference < 0 p value =        0.0000\n",
              "6                      Cohen's d =        2.1618\n",
              "7                      Hedge's g =        2.1618\n",
              "8                  Glass's delta =        1.5559\n",
              "9                              r =        0.7340"
            ]
          },
          "metadata": {
            "tags": []
          },
          "execution_count": 62
        }
      ]
    },
    {
      "cell_type": "markdown",
      "metadata": {
        "id": "RMCFi3bmgU6E",
        "colab_type": "text"
      },
      "source": [
        "### Normal distribution of residuals"
      ]
    },
    {
      "cell_type": "code",
      "metadata": {
        "id": "9kAcaw_zfUI0",
        "colab_type": "code",
        "outputId": "4155ea5b-1d9d-4fe4-fe55-ce0ec1ad4edc",
        "colab": {
          "base_uri": "https://localhost:8080/",
          "height": 318
        }
      },
      "source": [
        "\n",
        "diff = df['odometer'] - df['price']\n",
        "\n",
        "from scipy import stats\n",
        "import matplotlib.pyplot as plt\n",
        "\n",
        "stats.probplot(diff, plot= plt)\n",
        "plt.title('P-P Plot') \n",
        "plt.savefig('Residuals.png')"
      ],
      "execution_count": 0,
      "outputs": [
        {
          "output_type": "display_data",
          "data": {
            "image/png": "[encoded data removed]",
            "text/plain": [
              "<Figure size 432x288 with 1 Axes>"
            ]
          },
          "metadata": {
            "tags": []
          }
        }
      ]
    },
    {
      "cell_type": "markdown",
      "metadata": {
        "id": "MBlR8zI1f0BO",
        "colab_type": "text"
      },
      "source": [
        "The p-p plot shows that the data doesn't satisfy normality. We have problem with initial values. May be, filtering data can solve this issue."
      ]
    },
    {
      "cell_type": "code",
      "metadata": {
        "id": "izb00uTwjzGe",
        "colab_type": "code",
        "colab": {}
      },
      "source": [
        "import numpy as np\n",
        "u = np.mean(df[\"odometer\"])\n",
        "s = np.std(df[\"price\"])\n",
        "data_filtered = df[(df[\"odometer\"]>(u-2*s)) & (df[\"price\"]<(u+2*s))]"
      ],
      "execution_count": 0,
      "outputs": []
    },
    {
      "cell_type": "code",
      "metadata": {
        "id": "93LzUnW9kd6u",
        "colab_type": "code",
        "outputId": "a09b4ca3-9145-4580-f767-48e17b18917a",
        "colab": {
          "base_uri": "https://localhost:8080/",
          "height": 318
        }
      },
      "source": [
        "diff = data_filtered['odometer'] - data_filtered['price']\n",
        "\n",
        "from scipy import stats\n",
        "import matplotlib.pyplot as plt\n",
        "\n",
        "stats.probplot(diff, plot= plt)\n",
        "plt.title('P-P Plot') \n",
        "plt.savefig('Residuals.png')"
      ],
      "execution_count": 0,
      "outputs": [
        {
          "output_type": "display_data",
          "data": {
            "image/png": "[encoded data removed]",
            "text/plain": [
              "<Figure size 432x288 with 1 Axes>"
            ]
          },
          "metadata": {
            "tags": []
          }
        }
      ]
    },
    {
      "cell_type": "code",
      "metadata": {
        "id": "PSP3ofJ8lOm5",
        "colab_type": "code",
        "colab": {}
      },
      "source": [
        "## This is slightly better than the previous situation but we still have violation of the normality assumption here."
      ],
      "execution_count": 0,
      "outputs": []
    },
    {
      "cell_type": "code",
      "metadata": {
        "id": "V8QcY3O4lkXQ",
        "colab_type": "code",
        "outputId": "b963b9e1-9131-4989-ce1c-25b4161803f7",
        "colab": {
          "base_uri": "https://localhost:8080/",
          "height": 73
        }
      },
      "source": [
        "stats.shapiro(diff)\n"
      ],
      "execution_count": 0,
      "outputs": [
        {
          "output_type": "stream",
          "text": [
            "/usr/local/lib/python3.6/dist-packages/scipy/stats/morestats.py:1660: UserWarning: p-value may not be accurate for N > 5000.\n",
            "  warnings.warn(\"p-value may not be accurate for N > 5000.\")\n"
          ],
          "name": "stderr"
        },
        {
          "output_type": "execute_result",
          "data": {
            "text/plain": [
              "(0.95795738697052, 0.0)"
            ]
          },
          "metadata": {
            "tags": []
          },
          "execution_count": 67
        }
      ]
    },
    {
      "cell_type": "markdown",
      "metadata": {
        "id": "8Rf5WxZhltrH",
        "colab_type": "text"
      },
      "source": [
        "The output is not labeled, but the first value is the W test statistic and the second value is the p-value. Since the test statistic produce a significant p-value, the data is indicated to be not normally distributed."
      ]
    },
    {
      "cell_type": "code",
      "metadata": {
        "id": "kUQMqJoMlk6f",
        "colab_type": "code",
        "outputId": "4154f357-e3af-46e2-9b10-1520ab32da0f",
        "colab": {
          "base_uri": "https://localhost:8080/",
          "height": 36
        }
      },
      "source": [
        "len(data_filtered)"
      ],
      "execution_count": 0,
      "outputs": [
        {
          "output_type": "execute_result",
          "data": {
            "text/plain": [
              "232857"
            ]
          },
          "metadata": {
            "tags": []
          },
          "execution_count": 68
        }
      ]
    },
    {
      "cell_type": "markdown",
      "metadata": {
        "id": "QCTNgmFGmX7B",
        "colab_type": "text"
      },
      "source": [
        "## Independent t-test using researchpy"
      ]
    },
    {
      "cell_type": "code",
      "metadata": {
        "id": "dYaC_y-4l_lz",
        "colab_type": "code",
        "outputId": "f03fbf62-972f-4132-ab5a-c9c9c48048f9",
        "colab": {
          "base_uri": "https://localhost:8080/",
          "height": 143
        }
      },
      "source": [
        "descriptives, results = rp.ttest(data_filtered['odometer'], data_filtered['price'])\n",
        "\n",
        "round(descriptives,1)"
      ],
      "execution_count": 0,
      "outputs": [
        {
          "output_type": "execute_result",
          "data": {
            "text/html": [
              "<div>\n",
              "<style scoped>\n",
              "    .dataframe tbody tr th:only-of-type {\n",
              "        vertical-align: middle;\n",
              "    }\n",
              "\n",
              "    .dataframe tbody tr th {\n",
              "        vertical-align: top;\n",
              "    }\n",
              "\n",
              "    .dataframe thead th {\n",
              "        text-align: right;\n",
              "    }\n",
              "</style>\n",
              "<table border=\"1\" class=\"dataframe\">\n",
              "  <thead>\n",
              "    <tr style=\"text-align: right;\">\n",
              "      <th></th>\n",
              "      <th>Variable</th>\n",
              "      <th>N</th>\n",
              "      <th>Mean</th>\n",
              "      <th>SD</th>\n",
              "      <th>SE</th>\n",
              "      <th>95% Conf.</th>\n",
              "      <th>Interval</th>\n",
              "    </tr>\n",
              "  </thead>\n",
              "  <tbody>\n",
              "    <tr>\n",
              "      <th>0</th>\n",
              "      <td>odometer</td>\n",
              "      <td>232857.0</td>\n",
              "      <td>140457.9</td>\n",
              "      <td>42121.0</td>\n",
              "      <td>87.3</td>\n",
              "      <td>140286.8</td>\n",
              "      <td>140629.0</td>\n",
              "    </tr>\n",
              "    <tr>\n",
              "      <th>1</th>\n",
              "      <td>price</td>\n",
              "      <td>232857.0</td>\n",
              "      <td>10079.0</td>\n",
              "      <td>7941.8</td>\n",
              "      <td>16.5</td>\n",
              "      <td>10046.8</td>\n",
              "      <td>10111.3</td>\n",
              "    </tr>\n",
              "    <tr>\n",
              "      <th>2</th>\n",
              "      <td>combined</td>\n",
              "      <td>465714.0</td>\n",
              "      <td>75268.5</td>\n",
              "      <td>71890.8</td>\n",
              "      <td>105.3</td>\n",
              "      <td>75062.0</td>\n",
              "      <td>75475.0</td>\n",
              "    </tr>\n",
              "  </tbody>\n",
              "</table>\n",
              "</div>"
            ],
            "text/plain": [
              "   Variable         N      Mean       SD     SE  95% Conf.  Interval\n",
              "0  odometer  232857.0  140457.9  42121.0   87.3   140286.8  140629.0\n",
              "1     price  232857.0   10079.0   7941.8   16.5    10046.8   10111.3\n",
              "2  combined  465714.0   75268.5  71890.8  105.3    75062.0   75475.0"
            ]
          },
          "metadata": {
            "tags": []
          },
          "execution_count": 69
        }
      ]
    },
    {
      "cell_type": "code",
      "metadata": {
        "id": "QRe1uNlummj6",
        "colab_type": "code",
        "outputId": "70850abe-5b89-4235-80e7-e2484e7cfba8",
        "colab": {
          "base_uri": "https://localhost:8080/",
          "height": 363
        }
      },
      "source": [
        "round(results,2)"
      ],
      "execution_count": 0,
      "outputs": [
        {
          "output_type": "execute_result",
          "data": {
            "text/html": [
              "<div>\n",
              "<style scoped>\n",
              "    .dataframe tbody tr th:only-of-type {\n",
              "        vertical-align: middle;\n",
              "    }\n",
              "\n",
              "    .dataframe tbody tr th {\n",
              "        vertical-align: top;\n",
              "    }\n",
              "\n",
              "    .dataframe thead th {\n",
              "        text-align: right;\n",
              "    }\n",
              "</style>\n",
              "<table border=\"1\" class=\"dataframe\">\n",
              "  <thead>\n",
              "    <tr style=\"text-align: right;\">\n",
              "      <th></th>\n",
              "      <th>Independent t-test</th>\n",
              "      <th>results</th>\n",
              "    </tr>\n",
              "  </thead>\n",
              "  <tbody>\n",
              "    <tr>\n",
              "      <th>0</th>\n",
              "      <td>Difference (odometer - price) =</td>\n",
              "      <td>130378.87</td>\n",
              "    </tr>\n",
              "    <tr>\n",
              "      <th>1</th>\n",
              "      <td>Degrees of freedom =</td>\n",
              "      <td>465712.00</td>\n",
              "    </tr>\n",
              "    <tr>\n",
              "      <th>2</th>\n",
              "      <td>t =</td>\n",
              "      <td>1467.80</td>\n",
              "    </tr>\n",
              "    <tr>\n",
              "      <th>3</th>\n",
              "      <td>Two side test p value =</td>\n",
              "      <td>0.00</td>\n",
              "    </tr>\n",
              "    <tr>\n",
              "      <th>4</th>\n",
              "      <td>Difference &gt; 0 p value =</td>\n",
              "      <td>1.00</td>\n",
              "    </tr>\n",
              "    <tr>\n",
              "      <th>5</th>\n",
              "      <td>Difference &lt; 0 p value =</td>\n",
              "      <td>0.00</td>\n",
              "    </tr>\n",
              "    <tr>\n",
              "      <th>6</th>\n",
              "      <td>Cohen's d =</td>\n",
              "      <td>4.30</td>\n",
              "    </tr>\n",
              "    <tr>\n",
              "      <th>7</th>\n",
              "      <td>Hedge's g =</td>\n",
              "      <td>4.30</td>\n",
              "    </tr>\n",
              "    <tr>\n",
              "      <th>8</th>\n",
              "      <td>Glass's delta =</td>\n",
              "      <td>3.10</td>\n",
              "    </tr>\n",
              "    <tr>\n",
              "      <th>9</th>\n",
              "      <td>r =</td>\n",
              "      <td>0.91</td>\n",
              "    </tr>\n",
              "  </tbody>\n",
              "</table>\n",
              "</div>"
            ],
            "text/plain": [
              "                 Independent t-test    results\n",
              "0  Difference (odometer - price) =   130378.87\n",
              "1             Degrees of freedom =   465712.00\n",
              "2                              t =     1467.80\n",
              "3          Two side test p value =        0.00\n",
              "4         Difference > 0 p value =        1.00\n",
              "5         Difference < 0 p value =        0.00\n",
              "6                      Cohen's d =        4.30\n",
              "7                      Hedge's g =        4.30\n",
              "8                  Glass's delta =        3.10\n",
              "9                              r =        0.91"
            ]
          },
          "metadata": {
            "tags": []
          },
          "execution_count": 70
        }
      ]
    },
    {
      "cell_type": "markdown",
      "metadata": {
        "id": "zov-uZ1vdCxr",
        "colab_type": "text"
      },
      "source": [
        "Examine 'condition'"
      ]
    },
    {
      "cell_type": "code",
      "metadata": {
        "id": "dWp7gNOudX4f",
        "colab_type": "code",
        "outputId": "d1d04652-36e6-4cee-dd9b-6d6eda01b5ea",
        "colab": {
          "base_uri": "https://localhost:8080/",
          "height": 306
        }
      },
      "source": [
        "condition_summary= rp.summary_cont(df.groupby('condition')['price'])\n",
        "round(condition_summary,2)"
      ],
      "execution_count": 0,
      "outputs": [
        {
          "output_type": "stream",
          "text": [
            "\n",
            "\n"
          ],
          "name": "stdout"
        },
        {
          "output_type": "execute_result",
          "data": {
            "text/html": [
              "<div>\n",
              "<style scoped>\n",
              "    .dataframe tbody tr th:only-of-type {\n",
              "        vertical-align: middle;\n",
              "    }\n",
              "\n",
              "    .dataframe tbody tr th {\n",
              "        vertical-align: top;\n",
              "    }\n",
              "\n",
              "    .dataframe thead th {\n",
              "        text-align: right;\n",
              "    }\n",
              "</style>\n",
              "<table border=\"1\" class=\"dataframe\">\n",
              "  <thead>\n",
              "    <tr style=\"text-align: right;\">\n",
              "      <th></th>\n",
              "      <th>N</th>\n",
              "      <th>Mean</th>\n",
              "      <th>SD</th>\n",
              "      <th>SE</th>\n",
              "      <th>95% Conf.</th>\n",
              "      <th>Interval</th>\n",
              "    </tr>\n",
              "    <tr>\n",
              "      <th>condition</th>\n",
              "      <th></th>\n",
              "      <th></th>\n",
              "      <th></th>\n",
              "      <th></th>\n",
              "      <th></th>\n",
              "      <th></th>\n",
              "    </tr>\n",
              "  </thead>\n",
              "  <tbody>\n",
              "    <tr>\n",
              "      <th>excellent</th>\n",
              "      <td>153863</td>\n",
              "      <td>14492.84</td>\n",
              "      <td>10079.87</td>\n",
              "      <td>25.70</td>\n",
              "      <td>14442.47</td>\n",
              "      <td>14543.20</td>\n",
              "    </tr>\n",
              "    <tr>\n",
              "      <th>fair</th>\n",
              "      <td>21728</td>\n",
              "      <td>6448.94</td>\n",
              "      <td>6204.25</td>\n",
              "      <td>42.09</td>\n",
              "      <td>6366.44</td>\n",
              "      <td>6531.44</td>\n",
              "    </tr>\n",
              "    <tr>\n",
              "      <th>good</th>\n",
              "      <td>95136</td>\n",
              "      <td>10988.28</td>\n",
              "      <td>8818.59</td>\n",
              "      <td>28.59</td>\n",
              "      <td>10932.24</td>\n",
              "      <td>11044.32</td>\n",
              "    </tr>\n",
              "    <tr>\n",
              "      <th>like new</th>\n",
              "      <td>67102</td>\n",
              "      <td>22397.07</td>\n",
              "      <td>12569.97</td>\n",
              "      <td>48.53</td>\n",
              "      <td>22301.96</td>\n",
              "      <td>22492.18</td>\n",
              "    </tr>\n",
              "    <tr>\n",
              "      <th>new</th>\n",
              "      <td>3448</td>\n",
              "      <td>30019.38</td>\n",
              "      <td>14791.83</td>\n",
              "      <td>251.91</td>\n",
              "      <td>29525.57</td>\n",
              "      <td>30513.19</td>\n",
              "    </tr>\n",
              "    <tr>\n",
              "      <th>salvage</th>\n",
              "      <td>34055</td>\n",
              "      <td>10913.53</td>\n",
              "      <td>8114.61</td>\n",
              "      <td>43.97</td>\n",
              "      <td>10827.34</td>\n",
              "      <td>10999.71</td>\n",
              "    </tr>\n",
              "  </tbody>\n",
              "</table>\n",
              "</div>"
            ],
            "text/plain": [
              "                N      Mean        SD      SE  95% Conf.  Interval\n",
              "condition                                                         \n",
              "excellent  153863  14492.84  10079.87   25.70   14442.47  14543.20\n",
              "fair        21728   6448.94   6204.25   42.09    6366.44   6531.44\n",
              "good        95136  10988.28   8818.59   28.59   10932.24  11044.32\n",
              "like new    67102  22397.07  12569.97   48.53   22301.96  22492.18\n",
              "new          3448  30019.38  14791.83  251.91   29525.57  30513.19\n",
              "salvage     34055  10913.53   8114.61   43.97   10827.34  10999.71"
            ]
          },
          "metadata": {
            "tags": []
          },
          "execution_count": 71
        }
      ]
    },
    {
      "cell_type": "code",
      "metadata": {
        "id": "4M5spwymaUPW",
        "colab_type": "code",
        "colab": {}
      },
      "source": [
        "import pandas as pd\n",
        "import scipy.stats as stats\n",
        "import researchpy as rp\n",
        "import statsmodels.api as sm\n",
        "from statsmodels.formula.api import ols\n",
        "    \n",
        "import matplotlib.pyplot as plt"
      ],
      "execution_count": 0,
      "outputs": []
    },
    {
      "cell_type": "markdown",
      "metadata": {
        "id": "CpUezs43ateA",
        "colab_type": "text"
      },
      "source": [
        "Anova with '*price*' and '*condition*'"
      ]
    },
    {
      "cell_type": "code",
      "metadata": {
        "id": "VxBBomhMaVoX",
        "colab_type": "code",
        "outputId": "c2509e37-3236-4e79-cdd2-d5fbe4c7efdd",
        "colab": {
          "base_uri": "https://localhost:8080/",
          "height": 537
        }
      },
      "source": [
        "results = ols('price ~ condition', data=df).fit()\n",
        "results.summary()"
      ],
      "execution_count": 0,
      "outputs": [
        {
          "output_type": "execute_result",
          "data": {
            "text/html": [
              "<table class=\"simpletable\">\n",
              "<caption>OLS Regression Results</caption>\n",
              "<tr>\n",
              "  <th>Dep. Variable:</th>          <td>price</td>      <th>  R-squared:         </th>  <td>   0.176</td>  \n",
              "</tr>\n",
              "<tr>\n",
              "  <th>Model:</th>                   <td>OLS</td>       <th>  Adj. R-squared:    </th>  <td>   0.176</td>  \n",
              "</tr>\n",
              "<tr>\n",
              "  <th>Method:</th>             <td>Least Squares</td>  <th>  F-statistic:       </th>  <td>1.609e+04</td> \n",
              "</tr>\n",
              "<tr>\n",
              "  <th>Date:</th>             <td>Sun, 01 Dec 2019</td> <th>  Prob (F-statistic):</th>   <td>  0.00</td>   \n",
              "</tr>\n",
              "<tr>\n",
              "  <th>Time:</th>                 <td>07:43:51</td>     <th>  Log-Likelihood:    </th> <td>-3.9892e+06</td>\n",
              "</tr>\n",
              "<tr>\n",
              "  <th>No. Observations:</th>      <td>375332</td>      <th>  AIC:               </th>  <td>7.978e+06</td> \n",
              "</tr>\n",
              "<tr>\n",
              "  <th>Df Residuals:</th>          <td>375326</td>      <th>  BIC:               </th>  <td>7.978e+06</td> \n",
              "</tr>\n",
              "<tr>\n",
              "  <th>Df Model:</th>              <td>     5</td>      <th>                     </th>      <td> </td>     \n",
              "</tr>\n",
              "<tr>\n",
              "  <th>Covariance Type:</th>      <td>nonrobust</td>    <th>                     </th>      <td> </td>     \n",
              "</tr>\n",
              "</table>\n",
              "<table class=\"simpletable\">\n",
              "<tr>\n",
              "            <td></td>               <th>coef</th>     <th>std err</th>      <th>t</th>      <th>P>|t|</th>  <th>[0.025</th>    <th>0.975]</th>  \n",
              "</tr>\n",
              "<tr>\n",
              "  <th>Intercept</th>             <td> 1.449e+04</td> <td>   25.471</td> <td>  568.988</td> <td> 0.000</td> <td> 1.44e+04</td> <td> 1.45e+04</td>\n",
              "</tr>\n",
              "<tr>\n",
              "  <th>condition[T.fair]</th>     <td>-8043.8959</td> <td>   72.409</td> <td> -111.090</td> <td> 0.000</td> <td>-8185.815</td> <td>-7901.977</td>\n",
              "</tr>\n",
              "<tr>\n",
              "  <th>condition[T.good]</th>     <td>-3504.5525</td> <td>   41.208</td> <td>  -85.046</td> <td> 0.000</td> <td>-3585.318</td> <td>-3423.787</td>\n",
              "</tr>\n",
              "<tr>\n",
              "  <th>condition[T.like new]</th> <td> 7904.2310</td> <td>   46.221</td> <td>  171.008</td> <td> 0.000</td> <td> 7813.638</td> <td> 7994.824</td>\n",
              "</tr>\n",
              "<tr>\n",
              "  <th>condition[T.new]</th>      <td> 1.553e+04</td> <td>  172.047</td> <td>   90.246</td> <td> 0.000</td> <td> 1.52e+04</td> <td> 1.59e+04</td>\n",
              "</tr>\n",
              "<tr>\n",
              "  <th>condition[T.salvage]</th>  <td>-3579.3074</td> <td>   59.833</td> <td>  -59.821</td> <td> 0.000</td> <td>-3696.579</td> <td>-3462.036</td>\n",
              "</tr>\n",
              "</table>\n",
              "<table class=\"simpletable\">\n",
              "<tr>\n",
              "  <th>Omnibus:</th>       <td>107916.846</td> <th>  Durbin-Watson:     </th>  <td>   1.499</td> \n",
              "</tr>\n",
              "<tr>\n",
              "  <th>Prob(Omnibus):</th>   <td> 0.000</td>   <th>  Jarque-Bera (JB):  </th> <td>366108.310</td>\n",
              "</tr>\n",
              "<tr>\n",
              "  <th>Skew:</th>            <td> 1.447</td>   <th>  Prob(JB):          </th>  <td>    0.00</td> \n",
              "</tr>\n",
              "<tr>\n",
              "  <th>Kurtosis:</th>        <td> 6.877</td>   <th>  Cond. No.          </th>  <td>    11.2</td> \n",
              "</tr>\n",
              "</table><br/><br/>Warnings:<br/>[1] Standard Errors assume that the covariance matrix of the errors is correctly specified."
            ],
            "text/plain": [
              "<class 'statsmodels.iolib.summary.Summary'>\n",
              "\"\"\"\n",
              "                            OLS Regression Results                            \n",
              "==============================================================================\n",
              "Dep. Variable:                  price   R-squared:                       0.176\n",
              "Model:                            OLS   Adj. R-squared:                  0.176\n",
              "Method:                 Least Squares   F-statistic:                 1.609e+04\n",
              "Date:                Sun, 01 Dec 2019   Prob (F-statistic):               0.00\n",
              "Time:                        07:43:51   Log-Likelihood:            -3.9892e+06\n",
              "No. Observations:              375332   AIC:                         7.978e+06\n",
              "Df Residuals:                  375326   BIC:                         7.978e+06\n",
              "Df Model:                           5                                         \n",
              "Covariance Type:            nonrobust                                         \n",
              "=========================================================================================\n",
              "                            coef    std err          t      P>|t|      [0.025      0.975]\n",
              "-----------------------------------------------------------------------------------------\n",
              "Intercept              1.449e+04     25.471    568.988      0.000    1.44e+04    1.45e+04\n",
              "condition[T.fair]     -8043.8959     72.409   -111.090      0.000   -8185.815   -7901.977\n",
              "condition[T.good]     -3504.5525     41.208    -85.046      0.000   -3585.318   -3423.787\n",
              "condition[T.like new]  7904.2310     46.221    171.008      0.000    7813.638    7994.824\n",
              "condition[T.new]       1.553e+04    172.047     90.246      0.000    1.52e+04    1.59e+04\n",
              "condition[T.salvage]  -3579.3074     59.833    -59.821      0.000   -3696.579   -3462.036\n",
              "==============================================================================\n",
              "Omnibus:                   107916.846   Durbin-Watson:                   1.499\n",
              "Prob(Omnibus):                  0.000   Jarque-Bera (JB):           366108.310\n",
              "Skew:                           1.447   Prob(JB):                         0.00\n",
              "Kurtosis:                       6.877   Cond. No.                         11.2\n",
              "==============================================================================\n",
              "\n",
              "Warnings:\n",
              "[1] Standard Errors assume that the covariance matrix of the errors is correctly specified.\n",
              "\"\"\""
            ]
          },
          "metadata": {
            "tags": []
          },
          "execution_count": 73
        }
      ]
    },
    {
      "cell_type": "code",
      "metadata": {
        "id": "E8zKeILqa-jV",
        "colab_type": "code",
        "outputId": "50ea5b42-4367-4839-c1e3-9efe84043173",
        "colab": {
          "base_uri": "https://localhost:8080/",
          "height": 112
        }
      },
      "source": [
        "aov_table = sm.stats.anova_lm(results, typ=2)\n",
        "round(aov_table,2)"
      ],
      "execution_count": 0,
      "outputs": [
        {
          "output_type": "execute_result",
          "data": {
            "text/html": [
              "<div>\n",
              "<style scoped>\n",
              "    .dataframe tbody tr th:only-of-type {\n",
              "        vertical-align: middle;\n",
              "    }\n",
              "\n",
              "    .dataframe tbody tr th {\n",
              "        vertical-align: top;\n",
              "    }\n",
              "\n",
              "    .dataframe thead th {\n",
              "        text-align: right;\n",
              "    }\n",
              "</style>\n",
              "<table border=\"1\" class=\"dataframe\">\n",
              "  <thead>\n",
              "    <tr style=\"text-align: right;\">\n",
              "      <th></th>\n",
              "      <th>sum_sq</th>\n",
              "      <th>df</th>\n",
              "      <th>F</th>\n",
              "      <th>PR(&gt;F)</th>\n",
              "    </tr>\n",
              "  </thead>\n",
              "  <tbody>\n",
              "    <tr>\n",
              "      <th>condition</th>\n",
              "      <td>8.028506e+12</td>\n",
              "      <td>5.0</td>\n",
              "      <td>16085.35</td>\n",
              "      <td>0.0</td>\n",
              "    </tr>\n",
              "    <tr>\n",
              "      <th>Residual</th>\n",
              "      <td>3.746648e+13</td>\n",
              "      <td>375326.0</td>\n",
              "      <td>NaN</td>\n",
              "      <td>NaN</td>\n",
              "    </tr>\n",
              "  </tbody>\n",
              "</table>\n",
              "</div>"
            ],
            "text/plain": [
              "                 sum_sq        df         F  PR(>F)\n",
              "condition  8.028506e+12       5.0  16085.35     0.0\n",
              "Residual   3.746648e+13  375326.0       NaN     NaN"
            ]
          },
          "metadata": {
            "tags": []
          },
          "execution_count": 75
        }
      ]
    },
    {
      "cell_type": "code",
      "metadata": {
        "id": "wAscrnBAa--m",
        "colab_type": "code",
        "outputId": "11d10ab1-eeab-4312-d6d7-c708ed30cfb5",
        "colab": {
          "base_uri": "https://localhost:8080/",
          "height": 112
        }
      },
      "source": [
        "def anova_table(aov):\n",
        "    aov['mean_sq'] = aov[:]['sum_sq']/aov[:]['df']\n",
        "    \n",
        "    aov['eta_sq'] = aov[:-1]['sum_sq']/sum(aov['sum_sq'])\n",
        "    \n",
        "    aov['omega_sq'] = (aov[:-1]['sum_sq']-(aov[:-1]['df']*aov['mean_sq'][-1]))/(sum(aov['sum_sq'])+aov['mean_sq'][-1])\n",
        "    \n",
        "    cols = ['sum_sq', 'df', 'mean_sq', 'F', 'PR(>F)', 'eta_sq', 'omega_sq']\n",
        "    aov = aov[cols]\n",
        "    return aov\n",
        "\n",
        "anova_table(aov_table)"
      ],
      "execution_count": 0,
      "outputs": [
        {
          "output_type": "execute_result",
          "data": {
            "text/html": [
              "<div>\n",
              "<style scoped>\n",
              "    .dataframe tbody tr th:only-of-type {\n",
              "        vertical-align: middle;\n",
              "    }\n",
              "\n",
              "    .dataframe tbody tr th {\n",
              "        vertical-align: top;\n",
              "    }\n",
              "\n",
              "    .dataframe thead th {\n",
              "        text-align: right;\n",
              "    }\n",
              "</style>\n",
              "<table border=\"1\" class=\"dataframe\">\n",
              "  <thead>\n",
              "    <tr style=\"text-align: right;\">\n",
              "      <th></th>\n",
              "      <th>sum_sq</th>\n",
              "      <th>df</th>\n",
              "      <th>mean_sq</th>\n",
              "      <th>F</th>\n",
              "      <th>PR(&gt;F)</th>\n",
              "      <th>eta_sq</th>\n",
              "      <th>omega_sq</th>\n",
              "    </tr>\n",
              "  </thead>\n",
              "  <tbody>\n",
              "    <tr>\n",
              "      <th>condition</th>\n",
              "      <td>8.028506e+12</td>\n",
              "      <td>5.0</td>\n",
              "      <td>1.605701e+12</td>\n",
              "      <td>16085.350615</td>\n",
              "      <td>0.0</td>\n",
              "      <td>0.17647</td>\n",
              "      <td>0.176459</td>\n",
              "    </tr>\n",
              "    <tr>\n",
              "      <th>Residual</th>\n",
              "      <td>3.746648e+13</td>\n",
              "      <td>375326.0</td>\n",
              "      <td>9.982383e+07</td>\n",
              "      <td>NaN</td>\n",
              "      <td>NaN</td>\n",
              "      <td>NaN</td>\n",
              "      <td>NaN</td>\n",
              "    </tr>\n",
              "  </tbody>\n",
              "</table>\n",
              "</div>"
            ],
            "text/plain": [
              "                 sum_sq        df       mean_sq  ...  PR(>F)   eta_sq  omega_sq\n",
              "condition  8.028506e+12       5.0  1.605701e+12  ...     0.0  0.17647  0.176459\n",
              "Residual   3.746648e+13  375326.0  9.982383e+07  ...     NaN      NaN       NaN\n",
              "\n",
              "[2 rows x 7 columns]"
            ]
          },
          "metadata": {
            "tags": []
          },
          "execution_count": 76
        }
      ]
    },
    {
      "cell_type": "markdown",
      "metadata": {
        "id": "xFcyGB2KbZx5",
        "colab_type": "text"
      },
      "source": [
        "**Assumption Checks/Model Diagnostics**"
      ]
    },
    {
      "cell_type": "code",
      "metadata": {
        "id": "HRutMRHYbbOh",
        "colab_type": "code",
        "outputId": "a0093095-329e-4fa9-f43b-2e1e988910e0",
        "colab": {
          "base_uri": "https://localhost:8080/",
          "height": 167
        }
      },
      "source": [
        "results.diagn"
      ],
      "execution_count": 0,
      "outputs": [
        {
          "output_type": "execute_result",
          "data": {
            "text/plain": [
              "{'condno': 11.178017556895455,\n",
              " 'jb': 366108.3097744294,\n",
              " 'jbpv': 0.0,\n",
              " 'kurtosis': 6.87718673015906,\n",
              " 'mineigval': 3362.6008157969295,\n",
              " 'omni': 107916.846063097,\n",
              " 'omnipv': 0.0,\n",
              " 'skew': 1.447206710299098}"
            ]
          },
          "metadata": {
            "tags": []
          },
          "execution_count": 77
        }
      ]
    },
    {
      "cell_type": "markdown",
      "metadata": {
        "id": "NjOXtjgFbyel",
        "colab_type": "text"
      },
      "source": [
        "These are the same diagnostics from the bottom of the regression table from before. The Durban-Watson tests is to detect the presence of autocorrelation (not provided when calling diagnostics this way), Jarque-Bera (jb; jbpv is p-value) tests the assumption of normality, Omnibus (omni; omnipv is p-value) tests the assumption of homogeneity of variance, and the Condition Number (condno) assess multicollinearity. Condition Number values over 20 are indicative of multicollinearity."
      ]
    },
    {
      "cell_type": "code",
      "metadata": {
        "id": "YWYiocmNbelc",
        "colab_type": "code",
        "outputId": "03afcd63-e7ce-463b-a3f1-e3eabb45dd6e",
        "colab": {
          "base_uri": "https://localhost:8080/",
          "height": 73
        }
      },
      "source": [
        "stats.shapiro(results.resid)"
      ],
      "execution_count": 0,
      "outputs": [
        {
          "output_type": "stream",
          "text": [
            "/usr/local/lib/python3.6/dist-packages/scipy/stats/morestats.py:1660: UserWarning: p-value may not be accurate for N > 5000.\n",
            "  warnings.warn(\"p-value may not be accurate for N > 5000.\")\n"
          ],
          "name": "stderr"
        },
        {
          "output_type": "execute_result",
          "data": {
            "text/plain": [
              "(0.9053595066070557, 0.0)"
            ]
          },
          "metadata": {
            "tags": []
          },
          "execution_count": 78
        }
      ]
    }
  ]
}